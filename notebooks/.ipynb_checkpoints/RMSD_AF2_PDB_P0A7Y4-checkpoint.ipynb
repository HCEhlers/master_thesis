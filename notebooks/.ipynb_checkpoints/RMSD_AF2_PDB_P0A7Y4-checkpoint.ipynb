{
 "cells": [
  {
   "cell_type": "raw",
   "id": "033b531a-33af-40de-9e73-cb8bca46427d",
   "metadata": {},
   "source": [
    "---\n",
    "title: \"Comparing AF2 RMSD with PDB RMSD\"\n",
    "execute: \n",
    "  enabled: true\n",
    "format: pdf\n",
    "---"
   ]
  },
  {
   "cell_type": "code",
   "execution_count": 53,
   "id": "99ff9b01-ef75-4aca-8552-42e4433fa2f2",
   "metadata": {},
   "outputs": [],
   "source": [
    "import pandas as pd\n",
    "import numpy as np\n",
    "import os, sys\n",
    "import matplotlib.pyplot as plt\n",
    "from matplotlib.pyplot import gcf\n",
    "import seaborn as sns\n",
    "import scipy.stats\n",
    "from scipy.stats import gaussian_kde\n",
    "from matplotlib import cm\n",
    "from matplotlib.colors import Normalize\n",
    "from scipy import stats\n",
    "import urllib.request\n",
    "import mdtraj as md\n",
    "import scipy as sp\n",
    "sns.set_style(\"darkgrid\")"
   ]
  },
  {
   "cell_type": "code",
   "execution_count": 74,
   "id": "c15af953-e406-4034-9ef2-74ba9d8d633c",
   "metadata": {},
   "outputs": [],
   "source": [
    "def get_chi1_angles(pdb):\n",
    "        pdb = md.load_pdb(pdb)\n",
    "        topology = pdb.topology\n",
    "        table, bonds = topology.to_dataframe()\n",
    "        ch1_pos, ch1_rad = md.compute_chi1(pdb)[0], md.compute_chi1(pdb)[1]\n",
    "        chi_1_angles = np.degrees(ch1_rad)\n",
    "        res = [table['resName'][ch1_pos[res][-1]] for res in range(len(ch1_pos))]\n",
    "        n = [table['resSeq'][ch1_pos[res][-1]] for res in range(len(ch1_pos))]\n",
    "        pos = [list(a) for a in zip(n,res)]\n",
    "        return chi_1_angles, pos\n",
    "\n",
    "def conv_to_np_arr_new(list_angles):\n",
    "    mean_angles = np.array([])\n",
    "    max_val = max(len(elem) for elem in list_angles)\n",
    "    for i in range(len(list_angles)):\n",
    "        len_ls = len(list_angles[i])\n",
    "        if len_ls < max_val:\n",
    "            arr_2nan = np.empty((1,max_val-len_ls))\n",
    "            arr_2nan[:] = 0\n",
    "            list_angles[i] = np.append(list_angles[i],arr_2nan)\n",
    "    degs =  np.vstack((list_angles))\n",
    "    av_sin = np.mean(np.sin(degs * np.pi / 180.),axis=0)\n",
    "    av_cos = np.mean(np.cos(degs * np.pi / 180.),axis=0)\n",
    "    mean_angles = np.rad2deg(np.arctan2(av_sin,av_cos))\n",
    "    mean_angles[mean_angles <= -120] += 360\n",
    "    return list_angles, mean_angles\n",
    "\n",
    "def conv_to_np_arr_old(list_angles):\n",
    "    max_val = max(len(elem) for elem in list_angles)\n",
    "    for i in range(len(list_angles)):\n",
    "        len_ls = len(list_angles[i])\n",
    "        if len_ls < max_val:\n",
    "            arr_2nan = np.empty((1,max_val-len_ls))\n",
    "            arr_2nan[:] = 0\n",
    "            list_angles[i] = np.append(list_angles[i],arr_2nan)\n",
    "    return list_angles\n",
    "\n",
    "# Correlation of Vector\n",
    "def correlations_vector(score1, score2):\n",
    "    # Declaring y and x to append mave_data comp_data, respectively.\n",
    "    y=[]; x=[]\n",
    "    # Looping through NaNs and inly appending non NaNs to y and x\n",
    "    for i in range(score1.shape[0]):\n",
    "        if np.isnan(score1[i]) or np.isnan(score2[i]):\n",
    "            pass\n",
    "        else:\n",
    "            x.append(float(score1[i]))\n",
    "            y.append(float(score2[i]))\n",
    "    # Converting to np arrays and calculating pearson and spearman correalation.\n",
    "    x=np.array(x)\n",
    "    y=np.array(y)\n",
    "    r=sp.stats.pearsonr(x,y)\n",
    "    s,p=sp.stats.spearmanr(x,y)\n",
    "    print(\"Pearson's correlation coefficient between data: \",abs(r[0]))\n",
    "    print(\"Spearman's correlation coefficient bewteen data: \" ,abs(s))\n",
    "\n",
    "    return [abs(r[0]),abs(s)]\n",
    "\n",
    "# Correlation of Matrix\n",
    "def correlations_matrix(score1, score2):\n",
    "    # Declaring y and x to append mave_data comp_data, respectively.\n",
    "    y=[]; x=[]\n",
    "\n",
    "    # Looping through NaNs and inly appending non NaNs to y and x\n",
    "    for i in range(score1.shape[0]):\n",
    "        for j in range(score1.shape[1]):\n",
    "            if np.isnan(score1[i,j]) or np.isnan(score2[i,j]):\n",
    "                pass\n",
    "            else:\n",
    "                x.append(float(score1[i,j]))\n",
    "                y.append(float(score2[i,j]))\n",
    "    # Converting to np arrays and calculating pearson and spearman correalation.\n",
    "    x=np.array(x)\n",
    "    y=np.array(y)\n",
    "    r=sp.stats.pearsonr(x,y)\n",
    "    s,p=sp.stats.spearmanr(x,y)\n",
    "    print(\"Pearson's correlation coefficient between data: \",abs(r[0]))\n",
    "    print(\"Spearman's correlation coefficient bewteen data: \" ,abs(s))\n",
    "\n",
    "    return [abs(r[0]),abs(s)]\n",
    "\n",
    "# Load RMSDs from file\n",
    "def load_rmsd(path, pdbs):\n",
    "    dir_list = sorted(os.listdir(path))\n",
    "    rmsd_list = np.zeros(len(dir_list))\n",
    "    mut_list = [0]*len(dir_list)\n",
    "    for i in range(len(dir_list)):\n",
    "        df = pd.read_csv(path + dir_list[i])['rmsd'][0]\n",
    "        rmsd_list[i] = df\n",
    "        if 'af2' in path:\n",
    "            df1 = pd.read_csv(path + dir_list[i])['mut'][0]\n",
    "            mut_list[i] = df1\n",
    "    return rmsd_list, mut_list\n",
    "\n",
    "# Load torsion angles for PDBs\n",
    "def compile_angles_pdb(path):\n",
    "    filenames = list()\n",
    "    dir_list = sorted(os.listdir(path))\n",
    "    angles_list = list()\n",
    "    pos_list = list()\n",
    "    for i in range(1,len(dir_list)):\n",
    "        chi1_angle, pos = get_chi1_angles(path + dir_list[i])\n",
    "        chi1_angle = chi1_angle.squeeze()\n",
    "        angles_list.append(chi1_angle)\n",
    "        filenames.append(dir_list[i])\n",
    "        pdb = md.load_pdb(path + dir_list[i])\n",
    "        topology = pdb.topology\n",
    "        table, bonds = topology.to_dataframe()\n",
    "        pos_list.append(pos)\n",
    "    return angles_list, filenames, pos_list\n",
    "\n",
    "# Load torsion angles for af 2\n",
    "def compile_angles_af2(path, pdbs):\n",
    "    filenames = list()\n",
    "    dir_list = sorted(os.listdir(path))\n",
    "    angles_list = list()\n",
    "    pos_list = list()\n",
    "    plddt_list = list()\n",
    "    for k in range(len(dir_list)):\n",
    "        for pdb in pdbs:\n",
    "            if pdb in dir_list[k]:\n",
    "                tmp_dir_list = os.listdir(path + '/' + dir_list[k])    \n",
    "                pdb_file = [file for file in  tmp_dir_list if 'rank_1' in file and '.pdb' in file]\n",
    "                # Read pLDDT scores\n",
    "                plddt_file = [file for file in  tmp_dir_list if 'rank_1' in file and '.json' in file]\n",
    "                plddt_df = pd.read_json(path + '/' + dir_list[k] + '/' + plddt_file[0])\n",
    "                plddt_ls = plddt_df['plddt'].tolist()\n",
    "                plddt_list.append(plddt_ls)\n",
    "                filenames.append(pdb_file[0])\n",
    "                chi1_angle, pos = get_chi1_angles(path + '/' + dir_list[k] + '/' + pdb_file[0])\n",
    "                chi1_angle = chi1_angle.squeeze()\n",
    "                angles_list.append(chi1_angle)\n",
    "                pos_list.append(pos)\n",
    "    return angles_list, filenames, pos_list, plddt_list\n",
    "\n",
    "def circ_meanscatter_plot(x_ls,y_ls, plddt):\n",
    "    X, X_means = conv_to_np_arr_new(x_ls)\n",
    "    Y, Y_means = conv_to_np_arr_new(y_ls)\n",
    "    \n",
    "    print(X_means.shape, Y_means.shape)\n",
    "    \n",
    "    #fig = plt.figure()\n",
    "    plddt_mean = np.mean(plddt_indexed,axis=0)\n",
    "    #kernel = gaussian_kde(plddt_mean)\n",
    "    #kde = kernel.evaluate(plddt_mean)\n",
    "    #norm = Normalize(vmin=kde.min(), vmax=kde.max())\n",
    "    #colors = plt.cm.ScalarMappable(norm=norm, cmap='GnBu').to_rgba(kde)\n",
    "    colormap = plt.cm.get_cmap('GnBu') # 'plasma' or 'viridis'\n",
    "    colors = colormap(plddt_mean)    \n",
    "    \n",
    "    plt.title('P0A7Y4',fontsize=12)\n",
    "    plt.xlabel('$\\chi_1$ AF2 [$^\\circ$]',fontsize=12)\n",
    "    plt.ylabel('$\\chi_1$ X-ray [$^\\circ$]',fontsize=12)\n",
    "    plt.xlim(-120,250)\n",
    "    plt.ylim(-120,250)\n",
    "    trend = np.polyfit(X_means,Y_means,1)\n",
    "    trendpoly = np.poly1d(trend) \n",
    "    scatter_plot = plt.scatter(X_means, Y_means, vmin=0, vmax=X_means.max(), c=colors)\n",
    "    sm = plt.cm.ScalarMappable(cmap=colormap)\n",
    "    sm.set_clim(vmin=0, vmax=100)\n",
    "    plt.colorbar(sm, label='pLDDT')\n",
    "    plt.plot(X_means,trendpoly(X_means), c='black', label = 'ρ = 0.60')\n",
    "    plt.legend(fontsize=14, loc=\"upper left\")\n",
    "    plt.savefig(\"/Users/holger/Desktop/master_thesis/notebooks/figs/chi1_plot_P0A7Y4_wt.pdf\")\n",
    "    \n",
    "    print(X_means.shape, Y_means.shape)\n",
    "    return correlations_vector(X_means, Y_means)\n",
    "\n",
    "def scatter_plot(x_ls,y_ls):\n",
    "    X=np.stack(conv_to_np_arr_old(x_ls))\n",
    "    Y=np.stack(conv_to_np_arr_old(y_ls))\n",
    "    print(np.nanmean(X, axis=0))\n",
    "    values = np.vstack((np.nanmean(X, axis=0), np.nanmean(Y, axis=0)))\n",
    "    kernel = gaussian_kde(values)\n",
    "    kde = kernel.evaluate(values)\n",
    "    norm = Normalize(vmin=kde.min(), vmax=kde.max())\n",
    "    colors = cm.ScalarMappable(norm=norm, cmap='viridis_r').to_rgba(kde)\n",
    "    plt.title('P0A7Y4',fontsize=12)\n",
    "    plt.xlabel('$\\chi_1$ AF2 [$^\\circ$]',fontsize=12)\n",
    "    plt.ylabel('$\\chi_1$ X-ray [$^\\circ$]',fontsize=12)\n",
    "\n",
    "    trend = np.polyfit(np.nanmean(X, axis=0),np.nanmean(Y, axis=0),1)\n",
    "    trendpoly = np.poly1d(trend) \n",
    "    plt.scatter(np.nanmean(X, axis=0), np.nanmean(Y, axis=0), c=colors)\n",
    "    plt.plot(np.nanmean(X, axis=0),trendpoly(np.nanmean(X, axis=0)), c='black', label = 'ρ = 0.63')\n",
    "    plt.legend(fontsize=14, loc=\"upper left\")\n",
    "    plt.savefig(\"/Users/holger/Desktop/master_thesis/notebooks/figs/chi1_plot_P0A7Y4.png\", dpi=1200)\n",
    "    \n",
    "    return correlations_matrix(X, Y)"
   ]
  },
  {
   "cell_type": "code",
   "execution_count": 72,
   "id": "da2398a8-88b4-4043-bbc7-b370f10e1244",
   "metadata": {},
   "outputs": [],
   "source": [
    "# Define consts\n",
    "DATA_PATH_MUT_AF2 = '/Users/holger/Desktop/master_thesis/data/results_rmsd/results_rmsd_af2/results_rmsd_P0A7Y4_mut/'\n",
    "DATA_PATH_MUT_PDB = '/Users/holger/Desktop/master_thesis/data/results_rmsd/results_rmsd_pdb/results_rmsd_P0A7Y4_mut/'\n",
    "DATA_PATH_PDB = '/Users/holger/Desktop/master_thesis/data/arodz12/pdbs_P0A7Y4/'\n",
    "DATA_PATH_PDB_WT= '/Users/holger/Desktop/master_thesis/data/arodz12/pdbs_wt_P0A7Y4/'\n",
    "\n",
    "DATA_PATH_AF2 = '/Users/holger/Desktop/master_thesis/data/results_af2/P0A7Y4/'\n",
    "arodz_pdbs = ['1gob', '1kva', '1kvb', '1lav', '1law', '1rbr', '1rbs', '1rbt','1rbu', '1rbv', '1rda', '1rdb']\n",
    "\n",
    "DATA_PATH_MUT_2_MUT = '/Users/holger/Desktop/master_thesis/data/results_rmsd/results_rmsd_af2/results_rmsd_P0A7Y4_mut2mut/'\n",
    "DATA_PATH_MUT_2_WT = '/Users/holger/Desktop/master_thesis/data/results_rmsd/results_rmsd_af2/results_rmsd_P0A7Y4_mut2wt/'\n",
    "\n",
    "mut_2_mut_rmsd_list, mut = load_rmsd(DATA_PATH_MUT_2_MUT, arodz_pdbs)\n",
    "mut_2_wt_rmsd_list, mut = load_rmsd(DATA_PATH_MUT_2_WT, arodz_pdbs)\n",
    "\n",
    "# Get RMSDs\n",
    "af2_rmsd_list, mut = load_rmsd(DATA_PATH_MUT_AF2, arodz_pdbs)\n",
    "pdb_rmsd_list, _ = load_rmsd(DATA_PATH_MUT_PDB, arodz_pdbs)\n",
    "\n",
    "# Get chi 1 angles\n",
    "chi_1_pdb, filenames_pdb, pos_pdb = compile_angles_pdb(DATA_PATH_PDB)\n",
    "chi_1_af2, filenames_af2, pos_af2, plddt = compile_angles_af2(DATA_PATH_AF2,arodz_pdbs)\n",
    "\n",
    "chi_1_pdb_wt, filenames_pdb_wt, pos_pdb_wt = compile_angles_pdb(DATA_PATH_PDB_WT)\n",
    "chi_1_pdb_wt_ls = []\n",
    "for i in range(len(chi_1_pdb_wt)):\n",
    "    if len(chi_1_pdb_wt[i]) == 127:\n",
    "        chi_1_pdb_wt_ls.append(chi_1_pdb_wt[i][0:127])\n"
   ]
  },
  {
   "cell_type": "code",
   "execution_count": 86,
   "id": "6ef5cc4e-3a07-4aa7-9131-9f236df7b43d",
   "metadata": {},
   "outputs": [
    {
     "data": {
      "text/plain": [
       "127"
      ]
     },
     "execution_count": 86,
     "metadata": {},
     "output_type": "execute_result"
    }
   ],
   "source": [
    "len(chi_1_pdb_wt_ls[0])"
   ]
  },
  {
   "cell_type": "code",
   "execution_count": 56,
   "id": "1fe52ced-3f1c-4ecc-a768-0d422e224e45",
   "metadata": {},
   "outputs": [
    {
     "name": "stdout",
     "output_type": "stream",
     "text": [
      "Pearson's correlation coefficient between data:  0.972812015564513\n",
      "Spearman's correlation coefficient bewteen data:  0.9860139860139862\n"
     ]
    },
    {
     "data": {
      "text/plain": [
       "[0.972812015564513, 0.9860139860139862]"
      ]
     },
     "execution_count": 56,
     "metadata": {},
     "output_type": "execute_result"
    },
    {
     "data": {
      "image/png": "[encoded data removed]",
      "text/plain": [
       "<Figure size 432x288 with 1 Axes>"
      ]
     },
     "metadata": {},
     "output_type": "display_data"
    }
   ],
   "source": [
    "# RMSD plot: AF2 vs. PDB\n",
    "plt.ylabel('Variant RMSD [Å]',fontsize=8)\n",
    "plt.xlabel('Wild-type RMSD [Å]',fontsize=8)\n",
    "\n",
    "plt.scatter(mut_2_wt_rmsd_list, mut_2_mut_rmsd_list)\n",
    "#plt.xlim(0.3,0.75)\n",
    "#plt.ylim(0.3,0.75)\n",
    "plt.savefig(\"/Users/holger/Desktop/master_thesis/notebooks/figs/P0A7Y4_dis_scatter.png\", dpi=1200)\n",
    "correlations_vector(mut_2_wt_rmsd_list, mut_2_mut_rmsd_list)"
   ]
  },
  {
   "cell_type": "code",
   "execution_count": 57,
   "id": "ee6ed430-81f0-4383-984e-f3fd9c3b2bc9",
   "metadata": {},
   "outputs": [
    {
     "name": "stdout",
     "output_type": "stream",
     "text": [
      "[\"['G77A']\", \"['D134A']\", \"['D134H']\", \"['V74L']\", \"['V74I']\", \"['H62P']\", \"['H62A']\", \"['K95G']\", \"['K95N']\", \"['K95A']\", \"['D10N']\", \"['E48Q']\"]\n",
      "2\n",
      "Pearson's correlation coefficient between data:  0.9879901587559119\n",
      "Spearman's correlation coefficient bewteen data:  0.7142857142857144\n"
     ]
    },
    {
     "data": {
      "text/plain": [
       "[0.9879901587559119, 0.7142857142857144]"
      ]
     },
     "execution_count": 57,
     "metadata": {},
     "output_type": "execute_result"
    },
    {
     "data": {
      "image/png": "[encoded data removed]",
      "text/plain": [
       "<Figure size 432x288 with 1 Axes>"
      ]
     },
     "metadata": {},
     "output_type": "display_data"
    }
   ],
   "source": [
    "chi_1_af2_mean = []\n",
    "chi_1_pdb_mean = []\n",
    "rsn_N = list()\n",
    "for i in range(len(filenames_af2)):\n",
    "    rsn_N.append(mut[i])\n",
    "    chi_1_af2_mean.append(np.mean(chi_1_af2[i]))\n",
    "    chi_1_pdb_mean.append(np.mean(chi_1_pdb[i]))\n",
    "\n",
    "print(rsn_N)\n",
    "for i in range(len(pos_af2[2])):\n",
    "    if pos_af2[11][i][0] == int(rsn_N[2][3:-3]):\n",
    "        print(2)\n",
    "        \n",
    "chi_1_mut_af2 = np.asarray([chi_1_af2[2][110],chi_1_af2[3][110],chi_1_af2[4][110],chi_1_af2[5][47],chi_1_af2[8][77],chi_1_af2[10][9],chi_1_af2[11][37]], dtype=np.float32)\n",
    "\n",
    "chi_1_mut_pdb = np.asarray([chi_1_pdb[2][110],chi_1_pdb[3][110],chi_1_pdb[4][110],chi_1_pdb[5][47],chi_1_pdb[8][77],chi_1_pdb[10][9],chi_1_pdb[11][37]], dtype=np.float32)\n",
    "\n",
    "chi_1_mut_af2[chi_1_mut_af2 <= -120] += 360\n",
    "chi_1_mut_pdb[chi_1_mut_pdb <= -120] += 360\n",
    "\n",
    "plt.title('P0A7Y4',fontsize=8)\n",
    "plt.ylabel('X-ray $\\chi_1$ [$^\\circ$]',fontsize=8)\n",
    "plt.xlabel('AF2 $\\chi_1$ [$^\\circ$]',fontsize=8)\n",
    "trend = np.polyfit(chi_1_mut_af2,chi_1_mut_pdb,1)\n",
    "trendpoly = np.poly1d(trend) \n",
    "plt.scatter(chi_1_mut_af2, chi_1_mut_pdb)\n",
    "plt.xlim(-120,250)\n",
    "plt.ylim(-120,250)\n",
    "plt.plot(chi_1_mut_af2,trendpoly(chi_1_mut_af2), c='black', label = 'ρ = 0.99')\n",
    "plt.legend(fontsize=14, )\n",
    "plt.savefig('/Users/holger/Desktop/master_thesis/notebooks/figs/chi1_mut_P0A7Y4.png', dpi=1200, bbox_inches = 'tight')\n",
    "\n",
    "correlations_vector(np.array(chi_1_mut_af2),np.array(chi_1_mut_pdb))"
   ]
  },
  {
   "cell_type": "code",
   "execution_count": 58,
   "id": "66fd9d16-99f6-4e84-920b-0ece99910b1f",
   "metadata": {},
   "outputs": [
    {
     "data": {
      "text/plain": [
       "(12, 127)"
      ]
     },
     "execution_count": 58,
     "metadata": {},
     "output_type": "execute_result"
    }
   ],
   "source": [
    "# Do this for all\n",
    "plddt_idx = list()\n",
    "for i in range(len(pos_af2)):\n",
    "    tmp = np.asarray([pos_af2[0][i][0] for i in range(len(pos_af2[0]))])\n",
    "    plddt_idx.append(tmp)\n",
    "plddt_idx = np.vstack(np.asarray(plddt_idx)-1)\n",
    "plddt = np.asarray(plddt)\n",
    "plddt_indexed = [plddt[i][plddt_idx[i]] for i in range(len(plddt))]\n",
    "\n",
    "plddt_indexed = np.vstack(plddt_indexed)\n",
    "\n",
    "plddt_indexed.shape"
   ]
  },
  {
   "cell_type": "code",
   "execution_count": 87,
   "id": "5e79f1eb-4171-47e2-a61e-ac5588ddf4b5",
   "metadata": {},
   "outputs": [
    {
     "name": "stdout",
     "output_type": "stream",
     "text": [
      "(127,) (127,)\n",
      "(127,) (127,)\n",
      "Pearson's correlation coefficient between data:  0.5966306907640657\n",
      "Spearman's correlation coefficient bewteen data:  0.5280921916010498\n"
     ]
    },
    {
     "name": "stderr",
     "output_type": "stream",
     "text": [
      "/var/folders/38/bl4yf01j4jx6h6m2ctkbjd3r0000gn/T/ipykernel_2619/144194757.py:161: MatplotlibDeprecationWarning: Auto-removal of grids by pcolor() and pcolormesh() is deprecated since 3.5 and will be removed two minor releases later; please call grid(False) first.\n",
      "  plt.colorbar(sm, label='pLDDT')\n"
     ]
    },
    {
     "data": {
      "text/plain": [
       "[0.5966306907640657, 0.5280921916010498]"
      ]
     },
     "execution_count": 87,
     "metadata": {},
     "output_type": "execute_result"
    },
    {
     "data": {
      "image/png": "[encoded data removed]",
      "text/plain": [
       "<Figure size 432x288 with 2 Axes>"
      ]
     },
     "metadata": {},
     "output_type": "display_data"
    }
   ],
   "source": [
    "# Scatter plot chi_1_af2 vs. chi_1_pdb\n",
    "#circ_meanscatter_plot(chi_1_af2, chi_1_pdb,plddt)\n",
    "circ_meanscatter_plot(chi_1_af2,chi_1_pdb_wt_ls, plddt)"
   ]
  },
  {
   "cell_type": "code",
   "execution_count": 60,
   "id": "98e2e009-278a-4799-b116-7d7ee1577cf1",
   "metadata": {},
   "outputs": [
    {
     "data": {
      "image/png": "[encoded data removed]",
      "text/plain": [
       "<Figure size 720x720 with 5 Axes>"
      ]
     },
     "metadata": {},
     "output_type": "display_data"
    }
   ],
   "source": [
    "X=np.stack(conv_to_np_arr_old(chi_1_af2)).reshape(-1,127)\n",
    "Y=np.stack(conv_to_np_arr_old(chi_1_pdb)).reshape(-1,127)\n",
    "\n",
    "dat = np.vstack((Y,X)).T\n",
    "filenames_combined = filenames_pdb+filenames_af2\n",
    "names = filenames_combined\n",
    "\n",
    "filenames_combined = [\"AF2_\" + name[7:11] if name.startswith(\"P0A7Y4\") else \"PDB_\"+ name[0:4] for name in names]\n",
    "df_test = pd.DataFrame(dat, index=[i for i in range(127)], columns=filenames_combined)\n",
    "\n",
    "\n",
    "dataset = [\"AF2\" if name.startswith(\"P0A7Y4\") else \"PDB\" for name in names]\n",
    "a = {'AF2': 'lightgray', 'PDB': 'lightblue'}\n",
    "colors = lambda x: a[x]\n",
    "row_colors = list(map(colors, dataset))\n",
    "sns.set(font_scale = 0.60)\n",
    "cm=sns.clustermap(df_test,\n",
    "               method='average',\n",
    "               cbar_pos = (1, .20, .03, .45),#(0.02, 0.83, 0.05, 0.18),\n",
    "               yticklabels=False,\n",
    "               col_colors=row_colors,\n",
    "               xticklabels=True,\n",
    "               #standard_scale=1,\n",
    "               annot_kws={\"size\": 1},\n",
    "               cmap='viridis')\n",
    "# Add legends\n",
    "for label in ['PDB', 'AF2']:\n",
    "    cm.ax_col_dendrogram.bar(0, 0, color=a[label], label=label, linewidth=0);\n",
    "l1 = cm.ax_col_dendrogram.legend(title='Structure', loc=\"center\", ncol=5, bbox_to_anchor=(0.1, 0.89), bbox_transform=gcf().transFigure, prop={'size': 10})\n",
    "\n",
    "\n",
    "plt.savefig('/Users/holger/Desktop/master_thesis/notebooks/figs/clustermap_chi1_P0A7Y4.png', dpi=1200, bbox_inches = 'tight')"
   ]
  },
  {
   "cell_type": "code",
   "execution_count": 69,
   "id": "fc7d3a72-f822-43aa-8d19-1e7f7d28a547",
   "metadata": {},
   "outputs": [
    {
     "name": "stdout",
     "output_type": "stream",
     "text": [
      "[0.09601104 0.09601104 0.09601104 0.09601104 0.09601104 0.09601104\n",
      " 0.09601104 0.09601104 0.09601104 0.09601104 0.09601104 0.09601104] [0.28203595 0.26094441 1.56183275 0.16402749 0.16594242 0.19799246\n",
      " 0.19170109 0.1565245  0.16933303 0.1321985  0.22882151 0.20662069]\n",
      "Pearson's correlation coefficient between data:  0.429006542370027\n",
      "Spearman's correlation coefficient bewteen data:  0.4833632631534589\n"
     ]
    },
    {
     "name": "stderr",
     "output_type": "stream",
     "text": [
      "/Users/holger/opt/anaconda3/lib/python3.9/site-packages/scipy/stats/stats.py:4053: PearsonRNearConstantInputWarning: An input array is nearly constant; the computed correlation coefficient may be inaccurate.\n",
      "  warnings.warn(PearsonRNearConstantInputWarning())\n"
     ]
    },
    {
     "data": {
      "text/plain": [
       "[0.429006542370027, 0.4833632631534589]"
      ]
     },
     "execution_count": 69,
     "metadata": {},
     "output_type": "execute_result"
    },
    {
     "data": {
      "image/png": "[encoded data removed]",
      "text/plain": [
       "<Figure size 432x288 with 1 Axes>"
      ]
     },
     "metadata": {},
     "output_type": "display_data"
    }
   ],
   "source": [
    "print(af2_rmsd_list,pdb_rmsd_list)\n",
    "# RMSD plot: AF2 vs. PDB\n",
    "plt.title('P0A7Y4',fontsize=8)\n",
    "plt.ylabel('X-ray RMSD [Å]',fontsize=8)\n",
    "plt.xlabel('AF2 RMSD [Å]',fontsize=8)\n",
    "trend = np.polyfit(af2_rmsd_list,pdb_rmsd_list,1)\n",
    "trendpoly = np.poly1d(trend) \n",
    "plt.scatter(af2_rmsd_list, pdb_rmsd_list)\n",
    "plt.plot(af2_rmsd_list,trendpoly(af2_rmsd_list), c='black', label = r'$\\rho = 0.98$')\n",
    "plt.legend(fontsize=14)\n",
    "plt.savefig('/Users/holger/Desktop/master_thesis/notebooks/figs/rmsd_P0A7Y4.png', dpi=1200, bbox_inches = 'tight')\n",
    "correlations_vector(af2_rmsd_list, pdb_rmsd_list)"
   ]
  },
  {
   "cell_type": "code",
   "execution_count": 62,
   "id": "bbcd996c-1838-4eee-9399-51f17d50eae7",
   "metadata": {},
   "outputs": [
    {
     "data": {
      "text/plain": [
       "<matplotlib.lines.Line2D at 0x7fa9c1b4e550>"
      ]
     },
     "execution_count": 62,
     "metadata": {},
     "output_type": "execute_result"
    },
    {
     "data": {
      "image/png": "[encoded data removed]",
      "text/plain": [
       "<Figure size 432x288 with 1 Axes>"
      ]
     },
     "metadata": {},
     "output_type": "display_data"
    }
   ],
   "source": [
    "# Create histogram of RMSDs\n",
    "output_variance_np = np.asarray(af2_rmsd_list)\n",
    "hist,bin_edges = np.histogram(af2_rmsd_list)\n",
    "weights = np.ones_like(af2_rmsd_list) / len(af2_rmsd_list)\n",
    "n, bins, patches = plt.hist(af2_rmsd_list, 50, weights = weights, facecolor='lightblue', edgecolor='k', alpha=0.75)\n",
    "plt.grid(axis='y', alpha=0.75)\n",
    "plt.xlabel(r'RMSD C$\\alpha$ [Å])',fontsize=8)\n",
    "plt.ylabel('Frequency',fontsize=8)\n",
    "plt.xticks(fontsize=8,rotation='vertical')\n",
    "plt.yticks(fontsize=8)\n",
    "plt.ylabel('Frequency',fontsize=8)\n",
    "plt.title('P61626: RMSD of wild type and mutants',fontsize=8)\n",
    "plt.axvline(np.mean(af2_rmsd_list), color='b', linestyle='dashed', linewidth=2)\n",
    "#plt.savefig('/Users/holgerchristiannyelandehlers/Desktop/master_thesis/notebooks/figs/rmsd_dis_P0A7Y4.png', dpi=1200)"
   ]
  },
  {
   "cell_type": "code",
   "execution_count": 63,
   "id": "399e8be4-62a3-4bdb-b0e2-1fa90f3448c6",
   "metadata": {},
   "outputs": [],
   "source": [
    "# Concat dataframes\n",
    "df_af2 = pd.DataFrame (af2_rmsd_list, columns = ['rmsd_af2'])\n",
    "df_pdb = pd.DataFrame (pdb_rmsd_list, columns = ['rmsd_pdb'])\n",
    "df_mut2mut = pd.DataFrame (mut_2_mut_rmsd_list, columns = ['rmsd'])\n",
    "df_mut2wt = pd.DataFrame (mut_2_wt_rmsd_list, columns = ['rmsd'])\n",
    "df_concated = pd.concat([df_af2, df_pdb], axis=1)\n",
    "a = dict(zip(np.unique(df_concated.rmsd_af2), np.array(['g','skyblue'])))\n",
    "#df_concated.describe()"
   ]
  },
  {
   "cell_type": "code",
   "execution_count": 64,
   "id": "49fc9a99-a0eb-4fdd-a009-59fd7377d793",
   "metadata": {},
   "outputs": [
    {
     "data": {
      "image/png": "[encoded data removed]",
      "text/plain": [
       "<Figure size 432x288 with 1 Axes>"
      ]
     },
     "metadata": {},
     "output_type": "display_data"
    }
   ],
   "source": [
    "sns.histplot(df_pdb,x=\"rmsd_pdb\", binwidth=0.01, alpha=0.75, kde=True, color=\"lightgrey\", label=\"X-rayM2W: $\\mu = {}$, $\\sigma = {}$\".format(round(df_pdb[\"rmsd_pdb\"].mean(),3),round(df_pdb[\"rmsd_pdb\"].std(),3)))\n",
    "sns.histplot(df_af2, x=\"rmsd_af2\", binwidth=0.01, alpha=0.75, kde=True, color='lightblue', label=\"AF2M2W: $\\mu = {}$, $\\sigma = {}$\".format(round(df_af2[\"rmsd_af2\"].mean(),3),round(df_af2[\"rmsd_af2\"].std(),3)))\n",
    "sns.histplot(df_mut2mut,x=\"rmsd\", binwidth=0.01, alpha=0.75, kde=True, color=\"lightyellow\", label=\"AF2M2M: $\\mu = {}$, $\\sigma = {}$\".format(round(df_mut2mut[\"rmsd\"].mean(),3),round(df_mut2mut[\"rmsd\"].std(),3)))\n",
    "sns.histplot(df_mut2wt, x=\"rmsd\", binwidth=0.01, alpha=0.75, kde=True, color='lightgreen', label=\"AF2M2W: $\\mu = {}$, $\\sigma = {}$\".format(round(df_mut2wt[\"rmsd\"].mean(),3),round(df_mut2wt[\"rmsd\"].std(),3)))\n",
    "\n",
    "plt.legend(fontsize=8)\n",
    "plt.title('P0A7Y4: RMSD calculated using ChimeraX Matchmaker',fontsize=8)\n",
    "\n",
    "plt.xlabel(\"RMSD [Å]\")\n",
    "plt.ylabel(\"Count\")\n",
    "plt.savefig(\"/Users/holger/Desktop/master_thesis/notebooks/figs/P0A7Y4_dis.pdf\")\n",
    "plt.show()"
   ]
  },
  {
   "cell_type": "code",
   "execution_count": 65,
   "id": "bdf9ab1b-982c-4496-9323-be0138814945",
   "metadata": {},
   "outputs": [
    {
     "data": {
      "text/plain": [
       "0.3098312341382036"
      ]
     },
     "execution_count": 65,
     "metadata": {},
     "output_type": "execute_result"
    }
   ],
   "source": [
    "df_af2[\"rmsd_af2\"].mean(), df_af2[\"rmsd_af2\"].std()\n",
    "df_pdb['rmsd_pdb'].mean()"
   ]
  },
  {
   "cell_type": "code",
   "execution_count": 66,
   "id": "2ecefdab-a2fe-440a-842c-d81acd984260",
   "metadata": {},
   "outputs": [
    {
     "name": "stdout",
     "output_type": "stream",
     "text": [
      "0.09601104128459664\n",
      "0.3098312341382036\n"
     ]
    }
   ],
   "source": [
    "print(df_af2[\"rmsd_af2\"].mean())\n",
    "print(df_pdb['rmsd_pdb'].mean())"
   ]
  },
  {
   "cell_type": "code",
   "execution_count": 67,
   "id": "c59a656f-035c-4e02-b66c-3965df593d46",
   "metadata": {},
   "outputs": [
    {
     "data": {
      "text/html": [
       "<div>\n",
       "<style scoped>\n",
       "    .dataframe tbody tr th:only-of-type {\n",
       "        vertical-align: middle;\n",
       "    }\n",
       "\n",
       "    .dataframe tbody tr th {\n",
       "        vertical-align: top;\n",
       "    }\n",
       "\n",
       "    .dataframe thead th {\n",
       "        text-align: right;\n",
       "    }\n",
       "</style>\n",
       "<table border=\"1\" class=\"dataframe\">\n",
       "  <thead>\n",
       "    <tr style=\"text-align: right;\">\n",
       "      <th></th>\n",
       "      <th>rmsd_af2</th>\n",
       "    </tr>\n",
       "  </thead>\n",
       "  <tbody>\n",
       "    <tr>\n",
       "      <th>0</th>\n",
       "      <td>0.096011</td>\n",
       "    </tr>\n",
       "    <tr>\n",
       "      <th>1</th>\n",
       "      <td>0.096011</td>\n",
       "    </tr>\n",
       "    <tr>\n",
       "      <th>2</th>\n",
       "      <td>0.096011</td>\n",
       "    </tr>\n",
       "    <tr>\n",
       "      <th>3</th>\n",
       "      <td>0.096011</td>\n",
       "    </tr>\n",
       "    <tr>\n",
       "      <th>4</th>\n",
       "      <td>0.096011</td>\n",
       "    </tr>\n",
       "    <tr>\n",
       "      <th>5</th>\n",
       "      <td>0.096011</td>\n",
       "    </tr>\n",
       "    <tr>\n",
       "      <th>6</th>\n",
       "      <td>0.096011</td>\n",
       "    </tr>\n",
       "    <tr>\n",
       "      <th>7</th>\n",
       "      <td>0.096011</td>\n",
       "    </tr>\n",
       "    <tr>\n",
       "      <th>8</th>\n",
       "      <td>0.096011</td>\n",
       "    </tr>\n",
       "    <tr>\n",
       "      <th>9</th>\n",
       "      <td>0.096011</td>\n",
       "    </tr>\n",
       "    <tr>\n",
       "      <th>10</th>\n",
       "      <td>0.096011</td>\n",
       "    </tr>\n",
       "    <tr>\n",
       "      <th>11</th>\n",
       "      <td>0.096011</td>\n",
       "    </tr>\n",
       "  </tbody>\n",
       "</table>\n",
       "</div>"
      ],
      "text/plain": [
       "    rmsd_af2\n",
       "0   0.096011\n",
       "1   0.096011\n",
       "2   0.096011\n",
       "3   0.096011\n",
       "4   0.096011\n",
       "5   0.096011\n",
       "6   0.096011\n",
       "7   0.096011\n",
       "8   0.096011\n",
       "9   0.096011\n",
       "10  0.096011\n",
       "11  0.096011"
      ]
     },
     "execution_count": 67,
     "metadata": {},
     "output_type": "execute_result"
    }
   ],
   "source": [
    "df_af2"
   ]
  },
  {
   "cell_type": "code",
   "execution_count": null,
   "id": "7e78aaf0-5f9b-4720-80b7-8c6289b6ef0e",
   "metadata": {},
   "outputs": [],
   "source": []
  }
 ],
 "metadata": {
  "kernelspec": {
   "display_name": "Python 3 (ipykernel)",
   "language": "python",
   "name": "python3"
  },
  "language_info": {
   "codemirror_mode": {
    "name": "ipython",
    "version": 3
   },
   "file_extension": ".py",
   "mimetype": "text/x-python",
   "name": "python",
   "nbconvert_exporter": "python",
   "pygments_lexer": "ipython3",
   "version": "3.9.12"
  }
 },
 "nbformat": 4,
 "nbformat_minor": 5
}
