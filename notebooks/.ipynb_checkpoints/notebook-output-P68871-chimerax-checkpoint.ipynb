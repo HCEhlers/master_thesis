{
 "cells": [
  {
   "cell_type": "code",
   "execution_count": 38,
   "id": "8d8e684e",
   "metadata": {},
   "outputs": [],
   "source": [
    "import os\n",
    "import pandas as pd\n",
    "import urllib.request\n",
    "import numpy as np\n",
    "import matplotlib.pyplot as plt"
   ]
  },
  {
   "cell_type": "code",
   "execution_count": 39,
   "id": "2bc9ad30",
   "metadata": {},
   "outputs": [],
   "source": [
    "DATA_PATH = '/Users/holgerchristiannyelandehlers/Desktop/master_thesis/data/results_pdb/output_P61626/'\n",
    "UNIPROT_ID = 'P61626'\n",
    "DF_STRUCMAP = pd.read_csv(DATA_PATH + 'strucmap_' + UNIPROT_ID + '.csv', delimiter=';')\n",
    "PDBS = DF_STRUCMAP['pdb'].unique()"
   ]
  },
  {
   "cell_type": "code",
   "execution_count": 40,
   "id": "f2cb0c67",
   "metadata": {},
   "outputs": [],
   "source": [
    "def download_pdb(pdbcode, datadir, downloadurl=\"https://files.rcsb.org/download/\"):\n",
    "    \"\"\"\n",
    "    Downloads a PDB file from the Internet and saves it in a data directory.\n",
    "    :param pdbcode: The standard PDB ID e.g. '3ICB' or '3icb'\n",
    "    :param datadir: The directory where the downloaded file will be saved\n",
    "    :param downloadurl: The base PDB download URL, cf.\n",
    "        `https://www.rcsb.org/pages/download/http#structures` for details\n",
    "    :return: the full path to the downloaded PDB file or None if something went wrong\n",
    "    \"\"\"\n",
    "    pdbfn = pdbcode + \".pdb\"\n",
    "    url = downloadurl + pdbfn\n",
    "    outfnm = os.path.join(datadir, pdbfn)\n",
    "    try:\n",
    "        urllib.request.urlretrieve(url, outfnm)\n",
    "        return outfnm\n",
    "    except Exception as err:\n",
    "        print(str(err), file=sys.stderr)\n",
    "        return None\n"
   ]
  },
  {
   "cell_type": "code",
   "execution_count": 41,
   "id": "d15998b6",
   "metadata": {},
   "outputs": [
    {
     "ename": "KeyboardInterrupt",
     "evalue": "",
     "output_type": "error",
     "traceback": [
      "\u001b[0;31m---------------------------------------------------------------------------\u001b[0m",
      "\u001b[0;31mKeyboardInterrupt\u001b[0m                         Traceback (most recent call last)",
      "Input \u001b[0;32mIn [41]\u001b[0m, in \u001b[0;36m<cell line: 2>\u001b[0;34m()\u001b[0m\n\u001b[1;32m      1\u001b[0m \u001b[38;5;66;03m# Downlaod structures\u001b[39;00m\n\u001b[1;32m      2\u001b[0m \u001b[38;5;28;01mfor\u001b[39;00m i \u001b[38;5;129;01min\u001b[39;00m \u001b[38;5;28mrange\u001b[39m(\u001b[38;5;28mlen\u001b[39m(PDBS)):\n\u001b[0;32m----> 3\u001b[0m     \u001b[43mdownload_pdb\u001b[49m\u001b[43m(\u001b[49m\u001b[43mPDBS\u001b[49m\u001b[43m[\u001b[49m\u001b[43mi\u001b[49m\u001b[43m]\u001b[49m\u001b[43m,\u001b[49m\u001b[43m \u001b[49m\u001b[43mDATA_PATH\u001b[49m\u001b[43m \u001b[49m\u001b[38;5;241;43m+\u001b[39;49m\u001b[43m \u001b[49m\u001b[38;5;124;43m'\u001b[39;49m\u001b[38;5;124;43mpdbs/\u001b[39;49m\u001b[38;5;124;43m'\u001b[39;49m\u001b[43m)\u001b[49m\n",
      "Input \u001b[0;32mIn [40]\u001b[0m, in \u001b[0;36mdownload_pdb\u001b[0;34m(pdbcode, datadir, downloadurl)\u001b[0m\n\u001b[1;32m     12\u001b[0m outfnm \u001b[38;5;241m=\u001b[39m os\u001b[38;5;241m.\u001b[39mpath\u001b[38;5;241m.\u001b[39mjoin(datadir, pdbfn)\n\u001b[1;32m     13\u001b[0m \u001b[38;5;28;01mtry\u001b[39;00m:\n\u001b[0;32m---> 14\u001b[0m     \u001b[43murllib\u001b[49m\u001b[38;5;241;43m.\u001b[39;49m\u001b[43mrequest\u001b[49m\u001b[38;5;241;43m.\u001b[39;49m\u001b[43murlretrieve\u001b[49m\u001b[43m(\u001b[49m\u001b[43murl\u001b[49m\u001b[43m,\u001b[49m\u001b[43m \u001b[49m\u001b[43moutfnm\u001b[49m\u001b[43m)\u001b[49m\n\u001b[1;32m     15\u001b[0m     \u001b[38;5;28;01mreturn\u001b[39;00m outfnm\n\u001b[1;32m     16\u001b[0m \u001b[38;5;28;01mexcept\u001b[39;00m \u001b[38;5;167;01mException\u001b[39;00m \u001b[38;5;28;01mas\u001b[39;00m err:\n",
      "File \u001b[0;32m~/opt/anaconda3/lib/python3.9/urllib/request.py:268\u001b[0m, in \u001b[0;36murlretrieve\u001b[0;34m(url, filename, reporthook, data)\u001b[0m\n\u001b[1;32m    265\u001b[0m     reporthook(blocknum, bs, size)\n\u001b[1;32m    267\u001b[0m \u001b[38;5;28;01mwhile\u001b[39;00m \u001b[38;5;28;01mTrue\u001b[39;00m:\n\u001b[0;32m--> 268\u001b[0m     block \u001b[38;5;241m=\u001b[39m \u001b[43mfp\u001b[49m\u001b[38;5;241;43m.\u001b[39;49m\u001b[43mread\u001b[49m\u001b[43m(\u001b[49m\u001b[43mbs\u001b[49m\u001b[43m)\u001b[49m\n\u001b[1;32m    269\u001b[0m     \u001b[38;5;28;01mif\u001b[39;00m \u001b[38;5;129;01mnot\u001b[39;00m block:\n\u001b[1;32m    270\u001b[0m         \u001b[38;5;28;01mbreak\u001b[39;00m\n",
      "File \u001b[0;32m~/opt/anaconda3/lib/python3.9/http/client.py:463\u001b[0m, in \u001b[0;36mHTTPResponse.read\u001b[0;34m(self, amt)\u001b[0m\n\u001b[1;32m    460\u001b[0m \u001b[38;5;28;01mif\u001b[39;00m amt \u001b[38;5;129;01mis\u001b[39;00m \u001b[38;5;129;01mnot\u001b[39;00m \u001b[38;5;28;01mNone\u001b[39;00m:\n\u001b[1;32m    461\u001b[0m     \u001b[38;5;66;03m# Amount is given, implement using readinto\u001b[39;00m\n\u001b[1;32m    462\u001b[0m     b \u001b[38;5;241m=\u001b[39m \u001b[38;5;28mbytearray\u001b[39m(amt)\n\u001b[0;32m--> 463\u001b[0m     n \u001b[38;5;241m=\u001b[39m \u001b[38;5;28;43mself\u001b[39;49m\u001b[38;5;241;43m.\u001b[39;49m\u001b[43mreadinto\u001b[49m\u001b[43m(\u001b[49m\u001b[43mb\u001b[49m\u001b[43m)\u001b[49m\n\u001b[1;32m    464\u001b[0m     \u001b[38;5;28;01mreturn\u001b[39;00m \u001b[38;5;28mmemoryview\u001b[39m(b)[:n]\u001b[38;5;241m.\u001b[39mtobytes()\n\u001b[1;32m    465\u001b[0m \u001b[38;5;28;01melse\u001b[39;00m:\n\u001b[1;32m    466\u001b[0m     \u001b[38;5;66;03m# Amount is not given (unbounded read) so we must check self.length\u001b[39;00m\n\u001b[1;32m    467\u001b[0m     \u001b[38;5;66;03m# and self.chunked\u001b[39;00m\n",
      "File \u001b[0;32m~/opt/anaconda3/lib/python3.9/http/client.py:497\u001b[0m, in \u001b[0;36mHTTPResponse.readinto\u001b[0;34m(self, b)\u001b[0m\n\u001b[1;32m    494\u001b[0m     \u001b[38;5;28;01mreturn\u001b[39;00m \u001b[38;5;241m0\u001b[39m\n\u001b[1;32m    496\u001b[0m \u001b[38;5;28;01mif\u001b[39;00m \u001b[38;5;28mself\u001b[39m\u001b[38;5;241m.\u001b[39mchunked:\n\u001b[0;32m--> 497\u001b[0m     \u001b[38;5;28;01mreturn\u001b[39;00m \u001b[38;5;28;43mself\u001b[39;49m\u001b[38;5;241;43m.\u001b[39;49m\u001b[43m_readinto_chunked\u001b[49m\u001b[43m(\u001b[49m\u001b[43mb\u001b[49m\u001b[43m)\u001b[49m\n\u001b[1;32m    499\u001b[0m \u001b[38;5;28;01mif\u001b[39;00m \u001b[38;5;28mself\u001b[39m\u001b[38;5;241m.\u001b[39mlength \u001b[38;5;129;01mis\u001b[39;00m \u001b[38;5;129;01mnot\u001b[39;00m \u001b[38;5;28;01mNone\u001b[39;00m:\n\u001b[1;32m    500\u001b[0m     \u001b[38;5;28;01mif\u001b[39;00m \u001b[38;5;28mlen\u001b[39m(b) \u001b[38;5;241m>\u001b[39m \u001b[38;5;28mself\u001b[39m\u001b[38;5;241m.\u001b[39mlength:\n\u001b[1;32m    501\u001b[0m         \u001b[38;5;66;03m# clip the read to the \"end of response\"\u001b[39;00m\n",
      "File \u001b[0;32m~/opt/anaconda3/lib/python3.9/http/client.py:597\u001b[0m, in \u001b[0;36mHTTPResponse._readinto_chunked\u001b[0;34m(self, b)\u001b[0m\n\u001b[1;32m    594\u001b[0m     \u001b[38;5;28;01mreturn\u001b[39;00m total_bytes\n\u001b[1;32m    596\u001b[0m \u001b[38;5;28;01mif\u001b[39;00m \u001b[38;5;28mlen\u001b[39m(mvb) \u001b[38;5;241m<\u001b[39m\u001b[38;5;241m=\u001b[39m chunk_left:\n\u001b[0;32m--> 597\u001b[0m     n \u001b[38;5;241m=\u001b[39m \u001b[38;5;28;43mself\u001b[39;49m\u001b[38;5;241;43m.\u001b[39;49m\u001b[43m_safe_readinto\u001b[49m\u001b[43m(\u001b[49m\u001b[43mmvb\u001b[49m\u001b[43m)\u001b[49m\n\u001b[1;32m    598\u001b[0m     \u001b[38;5;28mself\u001b[39m\u001b[38;5;241m.\u001b[39mchunk_left \u001b[38;5;241m=\u001b[39m chunk_left \u001b[38;5;241m-\u001b[39m n\n\u001b[1;32m    599\u001b[0m     \u001b[38;5;28;01mreturn\u001b[39;00m total_bytes \u001b[38;5;241m+\u001b[39m n\n",
      "File \u001b[0;32m~/opt/anaconda3/lib/python3.9/http/client.py:642\u001b[0m, in \u001b[0;36mHTTPResponse._safe_readinto\u001b[0;34m(self, b)\u001b[0m\n\u001b[1;32m    640\u001b[0m     n \u001b[38;5;241m=\u001b[39m \u001b[38;5;28mself\u001b[39m\u001b[38;5;241m.\u001b[39mfp\u001b[38;5;241m.\u001b[39mreadinto(temp_mvb)\n\u001b[1;32m    641\u001b[0m \u001b[38;5;28;01melse\u001b[39;00m:\n\u001b[0;32m--> 642\u001b[0m     n \u001b[38;5;241m=\u001b[39m \u001b[38;5;28;43mself\u001b[39;49m\u001b[38;5;241;43m.\u001b[39;49m\u001b[43mfp\u001b[49m\u001b[38;5;241;43m.\u001b[39;49m\u001b[43mreadinto\u001b[49m\u001b[43m(\u001b[49m\u001b[43mmvb\u001b[49m\u001b[43m)\u001b[49m\n\u001b[1;32m    643\u001b[0m \u001b[38;5;28;01mif\u001b[39;00m \u001b[38;5;129;01mnot\u001b[39;00m n:\n\u001b[1;32m    644\u001b[0m     \u001b[38;5;28;01mraise\u001b[39;00m IncompleteRead(\u001b[38;5;28mbytes\u001b[39m(mvb[\u001b[38;5;241m0\u001b[39m:total_bytes]), \u001b[38;5;28mlen\u001b[39m(b))\n",
      "File \u001b[0;32m~/opt/anaconda3/lib/python3.9/socket.py:704\u001b[0m, in \u001b[0;36mSocketIO.readinto\u001b[0;34m(self, b)\u001b[0m\n\u001b[1;32m    702\u001b[0m \u001b[38;5;28;01mwhile\u001b[39;00m \u001b[38;5;28;01mTrue\u001b[39;00m:\n\u001b[1;32m    703\u001b[0m     \u001b[38;5;28;01mtry\u001b[39;00m:\n\u001b[0;32m--> 704\u001b[0m         \u001b[38;5;28;01mreturn\u001b[39;00m \u001b[38;5;28;43mself\u001b[39;49m\u001b[38;5;241;43m.\u001b[39;49m\u001b[43m_sock\u001b[49m\u001b[38;5;241;43m.\u001b[39;49m\u001b[43mrecv_into\u001b[49m\u001b[43m(\u001b[49m\u001b[43mb\u001b[49m\u001b[43m)\u001b[49m\n\u001b[1;32m    705\u001b[0m     \u001b[38;5;28;01mexcept\u001b[39;00m timeout:\n\u001b[1;32m    706\u001b[0m         \u001b[38;5;28mself\u001b[39m\u001b[38;5;241m.\u001b[39m_timeout_occurred \u001b[38;5;241m=\u001b[39m \u001b[38;5;28;01mTrue\u001b[39;00m\n",
      "File \u001b[0;32m~/opt/anaconda3/lib/python3.9/ssl.py:1241\u001b[0m, in \u001b[0;36mSSLSocket.recv_into\u001b[0;34m(self, buffer, nbytes, flags)\u001b[0m\n\u001b[1;32m   1237\u001b[0m     \u001b[38;5;28;01mif\u001b[39;00m flags \u001b[38;5;241m!=\u001b[39m \u001b[38;5;241m0\u001b[39m:\n\u001b[1;32m   1238\u001b[0m         \u001b[38;5;28;01mraise\u001b[39;00m \u001b[38;5;167;01mValueError\u001b[39;00m(\n\u001b[1;32m   1239\u001b[0m           \u001b[38;5;124m\"\u001b[39m\u001b[38;5;124mnon-zero flags not allowed in calls to recv_into() on \u001b[39m\u001b[38;5;132;01m%s\u001b[39;00m\u001b[38;5;124m\"\u001b[39m \u001b[38;5;241m%\u001b[39m\n\u001b[1;32m   1240\u001b[0m           \u001b[38;5;28mself\u001b[39m\u001b[38;5;241m.\u001b[39m\u001b[38;5;18m__class__\u001b[39m)\n\u001b[0;32m-> 1241\u001b[0m     \u001b[38;5;28;01mreturn\u001b[39;00m \u001b[38;5;28;43mself\u001b[39;49m\u001b[38;5;241;43m.\u001b[39;49m\u001b[43mread\u001b[49m\u001b[43m(\u001b[49m\u001b[43mnbytes\u001b[49m\u001b[43m,\u001b[49m\u001b[43m \u001b[49m\u001b[43mbuffer\u001b[49m\u001b[43m)\u001b[49m\n\u001b[1;32m   1242\u001b[0m \u001b[38;5;28;01melse\u001b[39;00m:\n\u001b[1;32m   1243\u001b[0m     \u001b[38;5;28;01mreturn\u001b[39;00m \u001b[38;5;28msuper\u001b[39m()\u001b[38;5;241m.\u001b[39mrecv_into(buffer, nbytes, flags)\n",
      "File \u001b[0;32m~/opt/anaconda3/lib/python3.9/ssl.py:1099\u001b[0m, in \u001b[0;36mSSLSocket.read\u001b[0;34m(self, len, buffer)\u001b[0m\n\u001b[1;32m   1097\u001b[0m \u001b[38;5;28;01mtry\u001b[39;00m:\n\u001b[1;32m   1098\u001b[0m     \u001b[38;5;28;01mif\u001b[39;00m buffer \u001b[38;5;129;01mis\u001b[39;00m \u001b[38;5;129;01mnot\u001b[39;00m \u001b[38;5;28;01mNone\u001b[39;00m:\n\u001b[0;32m-> 1099\u001b[0m         \u001b[38;5;28;01mreturn\u001b[39;00m \u001b[38;5;28;43mself\u001b[39;49m\u001b[38;5;241;43m.\u001b[39;49m\u001b[43m_sslobj\u001b[49m\u001b[38;5;241;43m.\u001b[39;49m\u001b[43mread\u001b[49m\u001b[43m(\u001b[49m\u001b[38;5;28;43mlen\u001b[39;49m\u001b[43m,\u001b[49m\u001b[43m \u001b[49m\u001b[43mbuffer\u001b[49m\u001b[43m)\u001b[49m\n\u001b[1;32m   1100\u001b[0m     \u001b[38;5;28;01melse\u001b[39;00m:\n\u001b[1;32m   1101\u001b[0m         \u001b[38;5;28;01mreturn\u001b[39;00m \u001b[38;5;28mself\u001b[39m\u001b[38;5;241m.\u001b[39m_sslobj\u001b[38;5;241m.\u001b[39mread(\u001b[38;5;28mlen\u001b[39m)\n",
      "\u001b[0;31mKeyboardInterrupt\u001b[0m: "
     ]
    }
   ],
   "source": [
    "# Downlaod structures\n",
    "for i in range(len(PDBS)):\n",
    "    download_pdb(PDBS[i], DATA_PATH + 'pdbs/')"
   ]
  },
  {
   "cell_type": "code",
   "execution_count": 42,
   "id": "6aa20817",
   "metadata": {},
   "outputs": [
    {
     "data": {
      "image/png": "[encoded data removed]",
      "text/plain": [
       "<Figure size 432x288 with 1 Axes>"
      ]
     },
     "metadata": {
      "needs_background": "light"
     },
     "output_type": "display_data"
    }
   ],
   "source": [
    "rmsd_list = [0.39443172848087543, 0.46014956676411617, 0.40790693072605483, 0.404374964735421, 0.42394736610342937, 0.47076965542793614, 0.4097977996518193, 0.3939511276126456, 0.4272958756980664, 0.47575276674888906, 0.4516910812681445, 0.42811126409194056, 0.4335287791027133, 0.49000323918051536, 0.45940954783094456, 0.4624122181182425, 0.4993756780913616, 0.5131889567159809, 0.45189275940486623, 0.405874596522003, 0.4250925533035481, 0.513366702519739, 0.4935736369575595, 0.405456137615567, 0.41504757870821046, 0.41857257764677563, 0.3925538669217319, 0.4394733847288362, 0.4077249018693326, 0.4392014267961014, 0.6310527025127619, 0.5735887257075034, 0.2336401003112609, 0.30539352878727644, 0.5001000847193184, 0.568721245079856, 0.7612686561009797, 0.42340354919981044, 0.4651871567373545, 0.45111361644833986, 0.4503424369470957, 0.4366891992228279, 0.44673341092219926, 0.46531066863743153, 0.45716575353388395, 0.44709260867995854, 0.4600447716807668, 0.4631403273275928, 0.444720820944803, 0.4276231342054747, 0.42346285139441137, 0.457172079095332, 0.4918724881125871, 0.48565970590172625, 0.5680738052055659, 0.39706064588292844, 0.4316325898131158, 0.4469816785479254, 0.46527252071219144, 0.4583254033789814, 0.4410725157971179, 0.4396729085761851, 0.4552916030460263, 0.4256260075812512, 0.4301701944579935, 0.4295560568791106, 0.4358511228599191, 0.42235831989470457, 0.4472335199475209, 0.4193668259776871, 0.44232675060208965, 0.4592447544997802, 0.4432821333252025, 0.4467589326903224, 0.4575700388153267, 0.4348554662272246, 0.4498815782161301, 0.4239541243172936, 0.432822354948774, 0.5919053872197836, 0.5102086011090444, 0.4389900710865601, 1.069294126786184, 0.4214378813547099, 0.43139615552193794, 0.3997658197780494, 0.4733086411550858, 0.5245863433228254, 0.44306062159968923, 0.44116451851054794, 0.4390809866074301, 0.4427026246053708, 0.3960870998402692, 0.43058105695024257, 0.48380056689019335, 0.4184954893242387, 0.4179972851678524, 0.4158879864491096, 0.3946998532043289, 0.38398351490004845, 0.3775058963343279, 0.3542784835523228, 0.5266160732136045, 1.638530102226358, 2.23252916346861, 0.37538601076839306, 0.3823505629217703, 0.41162869220374965, 0.38867807617373934, 0.39894983242279, 0.4263867209877192, 0.39559475867593485, 0.4319627692400129, 0.42119558921457173, 0.42195327121323584, 0.41128316374571544, 0.41862277617280785, 0.4162018930403077, 0.9274951052802552, 0.42095873494986735, 1.953298104451611, 0.4039866500206991, 0.41796559904188096, 0.9152649645815901, 0.9065025134565265, 0.4129767664112404, 0.32562043728151085, 0.4316101554636597, 0.40084537282269556, 0.4283177398994918, 0.4121672012098818, 0.4186235984084218, 0.41958960170129483, 0.425147324533718, 0.4075368912373096, 0.42102627908966606, 0.40194359745898656, 0.4229347762219884, 2.553410483237677, 0.38592995508805106, 0.6409126463413496, 0.3805573740723775, 0.1634022687142325, 0.3941416263044353, 0.4125617748234522, 0.39988359059971135, 0.40200866116598044, 0.35800507838333345, 0.8328063771099301, 0.40827601403944874, 0.41706011774325813, 0.4173102899667073, 0.41163317845038255, 0.4165515585735809, 0.4157640860584449, 0.40770110206201593, 0.39847611867669, 0.4231416101906348, 0.42612141059422326, 0.40564062818975827, 1.3887361681658719, 1.444293296856893, 0.409541635389852, 0.4250836575623838, 0.4153473360699928, 0.43943595687203985, 0.4317499498787207, 0.42054370853235273, 0.42738041554991074, 0.3975360391611449, 0.4256747385620739, 0.43883978389238987, 0.441692432533939, 0.44874074358404886, 0.41494008159165524, 0.4399630252548858, 0.44234050281393283, 0.41292703616500914, 0.3922703843714922, 0.39981962764131723, 0.46705487723149003, 0.4483910655414539, 0.4107112458730505, 0.4364911833758351, 0.40803199092541564, 0.4116815919183784, 0.39835937701479474, 0.4638086594132511, 0.4314613271405321, 0.45429663903192413, 0.44094832688985863, 0.41478818724841326, 0.47528218455993837, 0.43725112850027065, 0.4102110184776438, 0.4124607712222803, 0.41292426148141165, 0.3870048945822544, 0.585139855733545, 0.38700439664439074, 0.3927866741829676, 0.44653316055676723, 0.5483976694197774, 0.5882704626894243, 0.45167715935834934, 0.4691792328283688, 0.41890899533577314, 0.5802677969207589, 0.45006196269435206, 0.5037673199822255]\n",
    "output_variance_np = np.asarray(rmsd_list)\n",
    "# Create histogram of means\n",
    "hist,bin_edges = np.histogram(rmsd_list)\n",
    "weights = np.ones_like(rmsd_list) / len(rmsd_list)\n",
    "n, bins, patches = plt.hist(rmsd_list, 50, weights = weights, facecolor='b', edgecolor='k', alpha=0.75)\n",
    "plt.grid(axis='y', alpha=0.75)\n",
    "plt.xlabel(r'RMSD C$\\alpha$ [Å])',fontsize=8)\n",
    "plt.ylabel('Frequency',fontsize=8)\n",
    "plt.xticks(fontsize=8,rotation='vertical')\n",
    "plt.yticks(fontsize=8)\n",
    "plt.ylabel('Frequency',fontsize=8)\n",
    "plt.title('P61626: RMSD of wild type and mutants',fontsize=8)\n",
    "plt.axvline(np.mean(rmsd_list), color='r', linestyle='dashed', linewidth=2)\n",
    "plt.savefig('/Users/holgerchristiannyelandehlers/Desktop/master_thesis/notebooks/figs/rmsd_dis_P61626.png', dpi=1200)"
   ]
  },
  {
   "cell_type": "code",
   "execution_count": null,
   "id": "81183f6d",
   "metadata": {},
   "outputs": [],
   "source": []
  }
 ],
 "metadata": {
  "kernelspec": {
   "display_name": "Python 3 (ipykernel)",
   "language": "python",
   "name": "python3"
  },
  "language_info": {
   "codemirror_mode": {
    "name": "ipython",
    "version": 3
   },
   "file_extension": ".py",
   "mimetype": "text/x-python",
   "name": "python",
   "nbconvert_exporter": "python",
   "pygments_lexer": "ipython3",
   "version": "3.9.12"
  }
 },
 "nbformat": 4,
 "nbformat_minor": 5
}
