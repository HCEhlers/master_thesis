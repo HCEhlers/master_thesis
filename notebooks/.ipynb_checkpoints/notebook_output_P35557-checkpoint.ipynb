{
 "cells": [
  {
   "cell_type": "code",
   "execution_count": 22,
   "id": "64133799",
   "metadata": {},
   "outputs": [],
   "source": [
    "#! pip install biopython\n",
    "from Bio.PDB.PDBParser import PDBParser\n",
    "from Bio.SVDSuperimposer import SVDSuperimposer\n",
    "from Bio.PDB.Polypeptide import three_to_one\n",
    "from Bio.SVDSuperimposer import SVDSuperimposer\n",
    "from Bio.PDB.Structure import Structure\n",
    "import pandas as pd\n",
    "import numpy as np\n",
    "import os, sys\n",
    "from urllib.error import HTTPError\n",
    "import requests\n",
    "import urllib.request\n",
    "import matplotlib.pyplot as plt"
   ]
  },
  {
   "cell_type": "code",
   "execution_count": 23,
   "id": "bb1fcc21",
   "metadata": {},
   "outputs": [
    {
     "data": {
      "text/html": [
       "<div>\n",
       "<style scoped>\n",
       "    .dataframe tbody tr th:only-of-type {\n",
       "        vertical-align: middle;\n",
       "    }\n",
       "\n",
       "    .dataframe tbody tr th {\n",
       "        vertical-align: top;\n",
       "    }\n",
       "\n",
       "    .dataframe thead th {\n",
       "        text-align: right;\n",
       "    }\n",
       "</style>\n",
       "<table border=\"1\" class=\"dataframe\">\n",
       "  <thead>\n",
       "    <tr style=\"text-align: right;\">\n",
       "      <th></th>\n",
       "      <th>pdb_id</th>\n",
       "      <th>chain</th>\n",
       "      <th>sequence</th>\n",
       "      <th>mutation</th>\n",
       "    </tr>\n",
       "  </thead>\n",
       "  <tbody>\n",
       "    <tr>\n",
       "      <th>0</th>\n",
       "      <td>3qic</td>\n",
       "      <td>A</td>\n",
       "      <td>-----------KKEKVEQILAEFQLQEEDLKKVMRRMQKEMDRGLR...</td>\n",
       "      <td>E339K\\nS411X</td>\n",
       "    </tr>\n",
       "    <tr>\n",
       "      <th>1</th>\n",
       "      <td>4iwv</td>\n",
       "      <td>A</td>\n",
       "      <td>--------------QVEQILAEFQLQAADLKKVMRRMQKEMDRGLR...</td>\n",
       "      <td>K15Q\\nE27A\\nE28A\\nE51A\\nE52A</td>\n",
       "    </tr>\n",
       "    <tr>\n",
       "      <th>2</th>\n",
       "      <td>4ixc</td>\n",
       "      <td>A</td>\n",
       "      <td>--------------QVEQILAEFQLQAADLKKVMRRMQKEMDRGLR...</td>\n",
       "      <td>K15Q\\nE27A\\nE28A\\nE51A\\nE52A\\nT342X</td>\n",
       "    </tr>\n",
       "    <tr>\n",
       "      <th>3</th>\n",
       "      <td>5v4w</td>\n",
       "      <td>A</td>\n",
       "      <td>---------------VEQILAEFQLQEEDLKKVMRRMQKEMDRGLR...</td>\n",
       "      <td>Q465X</td>\n",
       "    </tr>\n",
       "    <tr>\n",
       "      <th>4</th>\n",
       "      <td>5v4x</td>\n",
       "      <td>A</td>\n",
       "      <td>---------------VEQILAEFQLQEEDLKKVMRRMQKEMDRGLR...</td>\n",
       "      <td>Q465X</td>\n",
       "    </tr>\n",
       "  </tbody>\n",
       "</table>\n",
       "</div>"
      ],
      "text/plain": [
       "  pdb_id chain                                           sequence  \\\n",
       "0   3qic     A  -----------KKEKVEQILAEFQLQEEDLKKVMRRMQKEMDRGLR...   \n",
       "1   4iwv     A  --------------QVEQILAEFQLQAADLKKVMRRMQKEMDRGLR...   \n",
       "2   4ixc     A  --------------QVEQILAEFQLQAADLKKVMRRMQKEMDRGLR...   \n",
       "3   5v4w     A  ---------------VEQILAEFQLQEEDLKKVMRRMQKEMDRGLR...   \n",
       "4   5v4x     A  ---------------VEQILAEFQLQEEDLKKVMRRMQKEMDRGLR...   \n",
       "\n",
       "                              mutation  \n",
       "0                         E339K\\nS411X  \n",
       "1         K15Q\\nE27A\\nE28A\\nE51A\\nE52A  \n",
       "2  K15Q\\nE27A\\nE28A\\nE51A\\nE52A\\nT342X  \n",
       "3                                Q465X  \n",
       "4                                Q465X  "
      ]
     },
     "execution_count": 23,
     "metadata": {},
     "output_type": "execute_result"
    }
   ],
   "source": [
    "# Read into df and export to excel file\n",
    "DATA_PATH = \"/Users/holgerchristiannyelandehlers/Desktop/master_thesis/data/results_pdb/output_P35557/\"\n",
    "df = pd.read_csv(DATA_PATH + 'P35557_mutations.csv')\n",
    "df.to_excel(DATA_PATH + 'P35557_mutations.xlsx')\n",
    "df.head()"
   ]
  },
  {
   "cell_type": "code",
   "execution_count": 24,
   "id": "f1a52e69",
   "metadata": {},
   "outputs": [
    {
     "name": "stdout",
     "output_type": "stream",
     "text": [
      "E339K\n",
      "S411X\n"
     ]
    }
   ],
   "source": [
    "# Read into list\n",
    "pdb_list = df.values.tolist()\n",
    "print(pdb_list[0][3])"
   ]
  },
  {
   "cell_type": "code",
   "execution_count": 25,
   "id": "494d5aea",
   "metadata": {},
   "outputs": [],
   "source": [
    "def download_pdb(pdbcode, datadir, downloadurl=\"https://files.rcsb.org/download/\"):\n",
    "    \"\"\"\n",
    "    Downloads a PDB file from the Internet and saves it in a data directory.\n",
    "    :param pdbcode: The standard PDB ID e.g. '3ICB' or '3icb'\n",
    "    :param datadir: The directory where the downloaded file will be saved\n",
    "    :param downloadurl: The base PDB download URL, cf.\n",
    "        `https://www.rcsb.org/pages/download/http#structures` for details\n",
    "    :return: the full path to the downloaded PDB file or None if something went wrong\n",
    "    \"\"\"\n",
    "    pdbfn = pdbcode + \".pdb\"\n",
    "    url = downloadurl + pdbfn\n",
    "    outfnm = os.path.join(datadir, pdbfn)\n",
    "    try:\n",
    "        urllib.request.urlretrieve(url, outfnm)\n",
    "        return outfnm\n",
    "    except Exception as err:\n",
    "        print(str(err), file=sys.stderr)\n",
    "        return None"
   ]
  },
  {
   "cell_type": "code",
   "execution_count": 162,
   "id": "9dfa00ac",
   "metadata": {},
   "outputs": [],
   "source": [
    "def align_strucs(wt_pdb, pdb_list):\n",
    "    \"\"\"\n",
    "    Calculates the RMSD between two PDBs for shared residues.\n",
    "    \n",
    "    wt_pdb: str with pdb id of wild type structure used\n",
    "    pdb_list: list with pdb_id, chain, seq and mutation (eg. V56L)\n",
    "    \"\"\"\n",
    "    # Define backbone atoms\n",
    "    atom_types = [\"CA\"]#, \"N\", \"C\", \"O\"]\n",
    "    \n",
    "    # Define res\n",
    "    AA = [\"ALA\", \"CYS\", \"ASP\", \"GLU\", \"PHE\", \"GLY\", \"HIS\", \"ILE\", \"LYS\", \"LEU\", \"MET\", \"ASN\", \"PRO\", \"GLN\",\n",
    "      \"ARG\", \"SER\", \"THR\", \"VAL\", \"TRP\", \"TYR\"]\n",
    "    \n",
    "    # Get data from alignments for both wt and mutant\n",
    "    pdb = pdb_list[0]\n",
    "    chain = pdb_list[1]\n",
    "    seq = pdb_list[2]\n",
    "    wt_uniprot_seq = 'MLDDRARMEAAKKEKVEQILAEFQLQEEDLKKVMRRMQKEMDRGLRLETHEEASVKMLPTYVRSTPEGSEVGDFLSLDLGGTNFRVMLVKVGEGEEGQWSVKTKHQMYSIPEDAMTGTAEMLFDYISECISDFLDKHQMKHKKLPLGFTFSFPVRHEDIDKGILLNWTKGFKASGAEGNNVVGLLRDAIKRRGDFEMDVVAMVNDTVATMISCYYEDHQCEVGMIVGTGCNACYMEEMQNVELVEGDEGRMCVNTEWGAFGDSGELDEFLLEYDRLVDESSANPGQQLYEKLIGGKYMGELVRLVLLRLVDENLLFHGEASEQLRTRGAFETRFVSQVESDTGDRKQIYNILSTLGLRPSTTDCDIVRRACESVSTRAAHMCSAGLAGVINRMRESRSEDVMRITVGVDGSVYKLHPSFKERFHASVRRLTPSCEITFIESEEGSGRGAALVSAVACKKACMLGQ'\n",
    "    wt_seq = '-----------KKEKVEQILAEFQLQEEDLKKVMRRMQKEMDRGLRLETHEEASVKMLPTYVRSTPEGSEVGDFLSLDLGGTNFRVMLVKVGEGEEGQWSVKTKHQMYSIPEDAMTGTAEMLFDYISECISDFLDKHQMKHKKLPLGFTFSFPVRHEDIDKGILLNWTKGFKASGAEGNNVVGLLRDAIKRRGDFEMDVVAMVNDTVATMISCYYEDHQCEVGMIVGTGCNACYMEEMQNVELVEGDEGRMCVNTEWGAFGDSGELDEFLLEYDRLVDESSANPGQQLYEKLIGGKYMGELVRLVLLRLVDENLLFHGEASEQLRTRGAFETRFVSQVESDTGDRKQIYNILSTLGLRPSTTDCDIVRRACESVSTRAAHMCSAGLAGVINRMRESRSEDVMRITVGVDGSVYKLHPSFKERFHASVRRLTPSCEITFIESEEGSGRGAALVSAVACxxxxxxxx'\n",
    "    mut = pdb_list[3]\n",
    "    print(pdb, mut)\n",
    "    \n",
    "    # Download structures\n",
    "    download_pdb(wt_pdb, DATA_PATH + 'pdbs/')\n",
    "    download_pdb(pdb, DATA_PATH + 'pdbs/')\n",
    "    \n",
    "    # Define the two structures to be compared\n",
    "    p = PDBParser(QUIET=True)\n",
    "    wild_type =  p.get_structure(\"wildtype\", DATA_PATH + 'pdbs/' + wt_pdb + \".pdb\")\n",
    "    mutant = p.get_structure(\"mutant\", DATA_PATH + 'pdbs/' + pdb + \".pdb\")\n",
    "    \n",
    "    # Get seqs\n",
    "    wild_type_seq = \"\".join([ three_to_one(r.resname) for r in wild_type[0][chain].get_residues() if r.resname in AA ])\n",
    "    mutant_seq = \"\".join([ three_to_one(r.resname) for r in mutant[0][chain].get_residues() if r.resname in AA ])\n",
    "    \n",
    "    # Get atom coors\n",
    "    wild_type_coords = [ a.coord for a in wild_type[0][chain].get_atoms() if a.parent.resname in AA and a.name in atom_types ]\n",
    "    mutant_coords = [ a.coord for a in mutant[0][chain].get_atoms() if a.parent.resname in AA and a.name in atom_types ]\n",
    "    \n",
    "    # Get intersecting positions in wt and mutant\n",
    "    wt_positions = list()\n",
    "    mut_positions = list()\n",
    "    if len(wild_type_coords) < len(wt_seq):\n",
    "        for aa in range(len(wt_seq)):\n",
    "            if wt_seq[aa] != 'X' and wt_seq[aa] != '-':\n",
    "                wt_positions.append(aa)\n",
    "                \n",
    "    if len(mutant_coords) < len(seq):\n",
    "        for aa in range(len(seq)):\n",
    "            if seq[aa] != 'X' and seq[aa] != '-':\n",
    "                mut_positions.append(aa)\n",
    "    \n",
    "    print(len(wt_positions), \"\\n\", len(mut_positions))\n",
    "    \n",
    "    test_arr = np.intersect1d(wt_positions, mut_positions).tolist()\n",
    "    # Plan: Get the sequences and compare to the sequences from pdb. Only get residues that are in wt and mutant at correct index.\n",
    "    wt_seq = wt_seq[test_arr[0]:test_arr[-2]]\n",
    "    start = 0\n",
    "    stop = len(wild_type_seq)\n",
    "    idx = wild_type_seq.find(wt_seq, start, stop)\n",
    "    print('Here:', idx)\n",
    "    print(wt_seq, '\\n', wild_type_seq)\n",
    "    #for aa in range(len(wt_seq)):\n",
    "    #    if\n",
    "    #seq = seq[test_arr]\n",
    "    #print(wt_uniprot_seq, len(wt_uniprot_seq))#, '\\n', wt_seq, \"\\n\", seq)\n",
    "            \n",
    "    \n",
    "    \n",
    "    #print(len(wt_seq), len(seq))\n",
    "    print(len(wild_type_coords), len(mutant_coords)) \n",
    "    #Run SVD and calculate RMSD - we exclude 5 first and 5 last residues\n",
    "    si = SVDSuperimposer()\n",
    "    si.set(np.array(wild_type_coords[5:-5]), np.array(mutant_coords[5:-5]))\n",
    "    si.run() # Run the SVD alignment\n",
    "    print(si.get_rms())\n",
    "    return si.get_rms()\n",
    "    \n"
   ]
  },
  {
   "cell_type": "code",
   "execution_count": 163,
   "id": "d789f78b",
   "metadata": {},
   "outputs": [
    {
     "name": "stdout",
     "output_type": "stream",
     "text": [
      "3qic E339K\n",
      "S411X\n",
      "-----------KKEKVEQILAEFQLQEEDLKKVMRRMQKEMDRGLRLETHEEASVKMLPTYVRSTPEGSEVGDFLSLDLGGTNFRVMLVKVGEGEEGQWSVKTKHQMYSIPEDAMTGTAEMLFDYISECISDFLDKHQMKHKKLPLGFTFSFPVRHEDIDKGILLNWTKGFKASGAEGNNVVGLLRDAIKRRGDFEMDVVAMVNDTVATMISCYYEDHQCEVGMIVGTGCNACYMEEMQNVELVEGDEGRMCVNTEWGAFGDSGELDEFLLEYDRLVDESSANPGQQLYEKLIGGKYMGELVRLVLLRLVDENLLFHGEASEQLRTRGAFETRFVSQVESDTGDRKQIYNILSTLGLRPSTTDCDIVRRACESVSTRAAHMCSAGLAGVINRMRESRSEDVMRITVGVDGSVYKLHPSFKERFHASVRRLTPSCEITFIESEEGSGRGAALVSAVACxxxxxxxx \n",
      " \n",
      " -----------KKEKVEQILAEFQLQEEDLKKVMRRMQKEMDRGLRLETHEEASVKMLPTYVRSTPEGSEVGDFLSLDLGGTNFRVMLVKVGEGEEGQWSVKTKHQMYSIPEDAMTGTAEMLFDYISECISDFLDKHQMKHKKLPLGFTFSFPVRHEDIDKGILLNWTKGFKASGAEGNNVVGLLRDAIKRRGDFEMDVVAMVNDTVATMISCYYEDHQCEVGMIVGTGCNACYMEEMQNVELVEGDEGRMCVNTEWGAFGDSGELDEFLLEYDRLVDESSANPGQQLYEKLIGGKYMGELVRLVLLRLVDENLLFHGEASEQLRTRGAFETRFVSQVKSDTGDRKQIYNILSTLGLRPSTTDCDIVRRACESVSTRAAHMCSAGLAGVINRMRESRSEDVMRITVGVDGXVYKLHPSFKERFHASVRRLTPSCEITFIESEEGSGRGAALVSAVACKKXXXXXX\n",
      "454 \n",
      " 447\n",
      "Here: 7\n",
      "KKEKVEQILAEFQLQEEDLKKVMRRMQKEMDRGLRLETHEEASVKMLPTYVRSTPEGSEVGDFLSLDLGGTNFRVMLVKVGEGEEGQWSVKTKHQMYSIPEDAMTGTAEMLFDYISECISDFLDKHQMKHKKLPLGFTFSFPVRHEDIDKGILLNWTKGFKASGAEGNNVVGLLRDAIKRRGDFEMDVVAMVNDTVATMISCYYEDHQCEVGMIVGTGCNACYMEEMQNVELVEGDEGRMCVNTEWGAFGDSGELDEFLLEYDRLVDESSANPGQQLYEKLIGGKYMGELVRLVLLRLVDENLLFHGEASEQLRTRGAFETRFVSQVESDTGDRKQIYNILSTLGLRPSTTDCDIVRRACESVSTRAAHMCSAGLAGVINRMRESRSEDVMRITVGVDGSVYKLHPSFKERFHASVRRLTPSCEITFIESEEGSGRGAALVSAVAC \n",
      " NLYFQGMKKEKVEQILAEFQLQEEDLKKVMRRMQKEMDRGLRLETHEEASVKMLPTYVRSTPEGSEVGDFLSLDLGGTNFRVMLVKVGEGEEGQWSVKTKHQMYSIPEDAMTGTAEMLFDYISECISDFLDKHQMKHKKLPLGFTFSFPVRHEDIDKGILLNWTKGFKASGAEGNNVVGLLRDAIKRRGDFEMDVVAMVNDTVATMISCYYEDHQCEVGMIVGTGCNACYMEEMQNVELVEGDEGRMCVNTEWGAFGDSGELDEFLLEYDRLVDESSANPGQQLYEKLIGGKYMGELVRLVLLRLVDENLLFHGEASEQLRTRGAFETRFVSQVESDTGDRKQIYNILSTLGLRPSTTDCDIVRRACESVSTRAAHMCSAGLAGVINRMRESRSEDVMRITVGVDGSVYKLHPSFKERFHASVRRLTPSCEITFIESEEGSGRGAALVSAVAC\n",
      "453 452\n"
     ]
    },
    {
     "ename": "Exception",
     "evalue": "Coordinate number/dimension mismatch.",
     "output_type": "error",
     "traceback": [
      "\u001b[0;31m---------------------------------------------------------------------------\u001b[0m",
      "\u001b[0;31mException\u001b[0m                                 Traceback (most recent call last)",
      "Input \u001b[0;32mIn [163]\u001b[0m, in \u001b[0;36m<cell line: 3>\u001b[0;34m()\u001b[0m\n\u001b[1;32m      3\u001b[0m \u001b[38;5;28;01mfor\u001b[39;00m i \u001b[38;5;129;01min\u001b[39;00m \u001b[38;5;28mrange\u001b[39m(\u001b[38;5;28mlen\u001b[39m(pdb_list)):\n\u001b[1;32m      4\u001b[0m     \u001b[38;5;28;01mif\u001b[39;00m pdb_list[i][\u001b[38;5;241m1\u001b[39m] \u001b[38;5;241m==\u001b[39m \u001b[38;5;124m'\u001b[39m\u001b[38;5;124mA\u001b[39m\u001b[38;5;124m'\u001b[39m:\n\u001b[0;32m----> 5\u001b[0m         rmsd_list\u001b[38;5;241m.\u001b[39mappend(\u001b[43malign_strucs\u001b[49m\u001b[43m(\u001b[49m\u001b[38;5;124;43m'\u001b[39;49m\u001b[38;5;124;43m3idh\u001b[39;49m\u001b[38;5;124;43m'\u001b[39;49m\u001b[43m,\u001b[49m\u001b[43m \u001b[49m\u001b[43mpdb_list\u001b[49m\u001b[43m[\u001b[49m\u001b[43mi\u001b[49m\u001b[43m]\u001b[49m\u001b[43m)\u001b[49m)\n",
      "Input \u001b[0;32mIn [162]\u001b[0m, in \u001b[0;36malign_strucs\u001b[0;34m(wt_pdb, pdb_list)\u001b[0m\n\u001b[1;32m     73\u001b[0m \u001b[38;5;66;03m#Run SVD and calculate RMSD - we exclude 5 first and 5 last residues\u001b[39;00m\n\u001b[1;32m     74\u001b[0m si \u001b[38;5;241m=\u001b[39m SVDSuperimposer()\n\u001b[0;32m---> 75\u001b[0m \u001b[43msi\u001b[49m\u001b[38;5;241;43m.\u001b[39;49m\u001b[43mset\u001b[49m\u001b[43m(\u001b[49m\u001b[43mnp\u001b[49m\u001b[38;5;241;43m.\u001b[39;49m\u001b[43marray\u001b[49m\u001b[43m(\u001b[49m\u001b[43mwild_type_coords\u001b[49m\u001b[43m[\u001b[49m\u001b[38;5;241;43m5\u001b[39;49m\u001b[43m:\u001b[49m\u001b[38;5;241;43m-\u001b[39;49m\u001b[38;5;241;43m5\u001b[39;49m\u001b[43m]\u001b[49m\u001b[43m)\u001b[49m\u001b[43m,\u001b[49m\u001b[43m \u001b[49m\u001b[43mnp\u001b[49m\u001b[38;5;241;43m.\u001b[39;49m\u001b[43marray\u001b[49m\u001b[43m(\u001b[49m\u001b[43mmutant_coords\u001b[49m\u001b[43m[\u001b[49m\u001b[38;5;241;43m5\u001b[39;49m\u001b[43m:\u001b[49m\u001b[38;5;241;43m-\u001b[39;49m\u001b[38;5;241;43m5\u001b[39;49m\u001b[43m]\u001b[49m\u001b[43m)\u001b[49m\u001b[43m)\u001b[49m\n\u001b[1;32m     76\u001b[0m si\u001b[38;5;241m.\u001b[39mrun() \u001b[38;5;66;03m# Run the SVD alignment\u001b[39;00m\n\u001b[1;32m     77\u001b[0m \u001b[38;5;28mprint\u001b[39m(si\u001b[38;5;241m.\u001b[39mget_rms())\n",
      "File \u001b[0;32m~/opt/anaconda3/lib/python3.9/site-packages/Bio/SVDSuperimposer/__init__.py:142\u001b[0m, in \u001b[0;36mSVDSuperimposer.set\u001b[0;34m(self, reference_coords, coords)\u001b[0m\n\u001b[1;32m    140\u001b[0m m \u001b[38;5;241m=\u001b[39m coords\u001b[38;5;241m.\u001b[39mshape\n\u001b[1;32m    141\u001b[0m \u001b[38;5;28;01mif\u001b[39;00m n \u001b[38;5;241m!=\u001b[39m m \u001b[38;5;129;01mor\u001b[39;00m \u001b[38;5;129;01mnot\u001b[39;00m (n[\u001b[38;5;241m1\u001b[39m] \u001b[38;5;241m==\u001b[39m m[\u001b[38;5;241m1\u001b[39m] \u001b[38;5;241m==\u001b[39m \u001b[38;5;241m3\u001b[39m):\n\u001b[0;32m--> 142\u001b[0m     \u001b[38;5;28;01mraise\u001b[39;00m \u001b[38;5;167;01mException\u001b[39;00m(\u001b[38;5;124m\"\u001b[39m\u001b[38;5;124mCoordinate number/dimension mismatch.\u001b[39m\u001b[38;5;124m\"\u001b[39m)\n\u001b[1;32m    143\u001b[0m \u001b[38;5;28mself\u001b[39m\u001b[38;5;241m.\u001b[39mn \u001b[38;5;241m=\u001b[39m n[\u001b[38;5;241m0\u001b[39m]\n",
      "\u001b[0;31mException\u001b[0m: Coordinate number/dimension mismatch."
     ]
    }
   ],
   "source": [
    "pdb_list\n",
    "rmsd_list = list()\n",
    "for i in range(len(pdb_list)):\n",
    "    if pdb_list[i][1] == 'A':\n",
    "        rmsd_list.append(align_strucs('3idh', pdb_list[i]))"
   ]
  },
  {
   "cell_type": "code",
   "execution_count": null,
   "id": "bb081376",
   "metadata": {},
   "outputs": [],
   "source": [
    "output_variance_np = np.asarray(rmsd_list)\n",
    "# Create histogram of means\n",
    "hist,bin_edges = np.histogram(rmsd_list)\n",
    "weights = np.ones_like(rmsd_list) / len(rmsd_list)\n",
    "n, bins, patches = plt.hist(rmsd_list, 50, weights = weights, facecolor='b', edgecolor='k', alpha=0.75)\n",
    "plt.grid(axis='y', alpha=0.75)\n",
    "plt.xlabel(r'RMSD C$\\alpha$ [Å])',fontsize=8)\n",
    "plt.ylabel('Frequency',fontsize=8)\n",
    "plt.xticks(fontsize=8,rotation='vertical')\n",
    "plt.yticks(fontsize=8)\n",
    "plt.ylabel('Frequency',fontsize=8)\n",
    "plt.title('P09211: RMSD of wild type and mutants',fontsize=8)\n",
    "plt.axvline(np.mean(rmsd_list), color='r', linestyle='dashed', linewidth=2)\n",
    "plt.savefig('figs/rmsd_dis_P09211.png', dpi=1200)"
   ]
  },
  {
   "cell_type": "code",
   "execution_count": 80,
   "id": "191d57dd",
   "metadata": {},
   "outputs": [
    {
     "name": "stdout",
     "output_type": "stream",
     "text": [
      "de\n"
     ]
    }
   ],
   "source": [
    "x = 'degergfjdjfsjdjfds'\n",
    "print(x[0:2])"
   ]
  },
  {
   "cell_type": "code",
   "execution_count": null,
   "id": "69b890f6",
   "metadata": {},
   "outputs": [],
   "source": []
  },
  {
   "cell_type": "code",
   "execution_count": null,
   "id": "43b1f5ad",
   "metadata": {},
   "outputs": [],
   "source": []
  }
 ],
 "metadata": {
  "kernelspec": {
   "display_name": "Python 3 (ipykernel)",
   "language": "python",
   "name": "python3"
  },
  "language_info": {
   "codemirror_mode": {
    "name": "ipython",
    "version": 3
   },
   "file_extension": ".py",
   "mimetype": "text/x-python",
   "name": "python",
   "nbconvert_exporter": "python",
   "pygments_lexer": "ipython3",
   "version": "3.9.12"
  }
 },
 "nbformat": 4,
 "nbformat_minor": 5
}
