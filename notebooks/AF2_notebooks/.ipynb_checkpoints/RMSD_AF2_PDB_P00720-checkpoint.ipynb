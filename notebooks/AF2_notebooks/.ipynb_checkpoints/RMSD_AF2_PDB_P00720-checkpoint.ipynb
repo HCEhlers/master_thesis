{
 "cells": [
  {
   "cell_type": "raw",
   "id": "033b531a-33af-40de-9e73-cb8bca46427d",
   "metadata": {},
   "source": [
    "---\n",
    "title: \"Comparing AF2 RMSD with PDB RMSD\"\n",
    "execute: \n",
    "  enabled: true\n",
    "format: pdf\n",
    "---"
   ]
  },
  {
   "cell_type": "code",
   "execution_count": 1,
   "id": "99ff9b01-ef75-4aca-8552-42e4433fa2f2",
   "metadata": {},
   "outputs": [],
   "source": [
    "import pandas as pd\n",
    "import numpy as np\n",
    "import os, sys\n",
    "import matplotlib.pyplot as plt\n",
    "from matplotlib.pyplot import gcf\n",
    "import seaborn as sns\n",
    "import scipy.stats\n",
    "from scipy.stats import gaussian_kde\n",
    "from matplotlib import cm\n",
    "from matplotlib.colors import Normalize\n",
    "from scipy import stats\n",
    "import urllib.request\n",
    "import mdtraj as md\n",
    "import scipy as sp\n",
    "sns.set_style(\"darkgrid\")"
   ]
  },
  {
   "cell_type": "code",
   "execution_count": 2,
   "id": "30d38a37-beb8-4549-8bd2-59a983ca8d81",
   "metadata": {},
   "outputs": [],
   "source": [
    "#Use this method if running from the notebooks folder otherwise comment out the following change:\n",
    "os.chdir('../..')\n",
    "\n",
    "cwd = os.getcwd()\n",
    "DATA_PATH_ROOT = cwd\n",
    "DATA_PATH_MUT_AF2 = DATA_PATH_ROOT + '/data/results_rmsd/results_rmsd_af2/results_rmsd_P00720_mut/'\n",
    "DATA_PATH_MUT_PDB = DATA_PATH_ROOT + '/data/results_rmsd/results_rmsd_pdb/results_rmsd_P00720_mut/'\n",
    "DATA_PATH_PDB = DATA_PATH_ROOT + '/data/arodz12/pdbs_P00720/'\n",
    "DATA_PATH_PDB_WT= DATA_PATH_ROOT + '/data/arodz12/pdbs_wt_P00720/'\n",
    "DATA_PATH_AF2 = DATA_PATH_ROOT + '/data/results_af2/P00720/P00720_default'\n",
    "DATA_PATH_MUT_2_MUT = DATA_PATH_ROOT + '/data/results_rmsd/results_rmsd_af2/results_rmsd_P00720_mut2mut/'\n",
    "DATA_PATH_MUT_2_WT = DATA_PATH_ROOT + '/data/results_rmsd/results_rmsd_af2/results_rmsd_P00720_mut2wt/'\n",
    "\n",
    "# PDBs in the dataset\n",
    "arodz_pdbs = ['1dya', '1dyb', '1dyc', '1dyd', '1dye', '1dyf', '1dyg', '1l00','1l02', '1l03', '1l05', '1l06', '1l07', '1l08', '1l09', '1l10','1l11', '1l12', '1l13', '1l14', '1l15', '1l16', '1l19', '1l20','1l21', '1l22', '1l23', '1l24', '1l25', '1l26', '1l27', '1l28','1l29', '1l30', '1l31', '1l32', '1l33', '1l34', '1l37', '1l38','1l44', '1l45', '1l46', '1l47', '1l48', '1l52', '1l53', '1l56','1l57', '1l58', '1l60', '1l69', '1l98', '1l99']"
   ]
  },
  {
   "cell_type": "code",
   "execution_count": 3,
   "id": "c15af953-e406-4034-9ef2-74ba9d8d633c",
   "metadata": {},
   "outputs": [],
   "source": [
    "def get_chi1_angles(pdb):\n",
    "        pdb = md.load_pdb(pdb)\n",
    "        topology = pdb.topology\n",
    "        table, bonds = topology.to_dataframe()\n",
    "        ch1_pos, ch1_rad = md.compute_chi1(pdb)[0], md.compute_chi1(pdb)[1]\n",
    "        chi_1_angles = np.degrees(ch1_rad)\n",
    "        res = [table['resName'][ch1_pos[res][-1]] for res in range(len(ch1_pos))]\n",
    "        n = [table['resSeq'][ch1_pos[res][-1]] for res in range(len(ch1_pos))]\n",
    "        pos = [list(a) for a in zip(n,res)]\n",
    "        return chi_1_angles, pos\n",
    "\n",
    "def conv_to_np_arr_new(list_angles):\n",
    "    mean_angles = np.array([])\n",
    "    max_val = max(len(elem) for elem in list_angles)\n",
    "    for i in range(len(list_angles)):\n",
    "        len_ls = len(list_angles[i])\n",
    "        if len_ls < max_val:\n",
    "            arr_2nan = np.empty((1,max_val-len_ls))\n",
    "            arr_2nan[:] = 0\n",
    "            list_angles[i] = np.append(list_angles[i],arr_2nan)\n",
    "    degs =  np.vstack((list_angles))\n",
    "    av_sin = np.mean(np.sin(degs * np.pi / 180.),axis=0)\n",
    "    av_cos = np.mean(np.cos(degs * np.pi / 180.),axis=0)\n",
    "    mean_angles = np.rad2deg(np.arctan2(av_sin,av_cos))\n",
    "    mean_angles[mean_angles <= -120] += 360\n",
    "    return list_angles, mean_angles\n",
    "\n",
    "def conv_to_np_arr_old(list_angles):\n",
    "    max_val = max(len(elem) for elem in list_angles)\n",
    "    for i in range(len(list_angles)):\n",
    "        len_ls = len(list_angles[i])\n",
    "        if len_ls < max_val:\n",
    "            arr_2nan = np.empty((1,max_val-len_ls))\n",
    "            arr_2nan[:] = 0\n",
    "            list_angles[i] = np.append(list_angles[i],arr_2nan)\n",
    "    return list_angles\n",
    "\n",
    "# Correlation of Vector\n",
    "def correlations_vector(score1, score2):\n",
    "    # Declaring y and x to append mave_data comp_data, respectively.\n",
    "    y=[]; x=[]\n",
    "    # Looping through NaNs and inly appending non NaNs to y and x\n",
    "    for i in range(score1.shape[0]):\n",
    "        if np.isnan(score1[i]) or np.isnan(score2[i]):\n",
    "            pass\n",
    "        else:\n",
    "            x.append(float(score1[i]))\n",
    "            y.append(float(score2[i]))\n",
    "    # Converting to np arrays and calculating pearson and spearman correalation.\n",
    "    x=np.array(x)\n",
    "    y=np.array(y)\n",
    "    r=sp.stats.pearsonr(x,y)\n",
    "    s,p=sp.stats.spearmanr(x,y)\n",
    "    print(\"Pearson's correlation coefficient between data: \",abs(r[0]))\n",
    "    print(\"Spearman's correlation coefficient bewteen data: \" ,abs(s))\n",
    "\n",
    "    return [abs(r[0]),abs(s)]\n",
    "\n",
    "# Correlation of Matrix\n",
    "def correlations_matrix(score1, score2):\n",
    "    # Declaring y and x to append mave_data comp_data, respectively.\n",
    "    y=[]; x=[]\n",
    "\n",
    "    # Looping through NaNs and inly appending non NaNs to y and x\n",
    "    for i in range(score1.shape[0]):\n",
    "        for j in range(score1.shape[1]):\n",
    "            if np.isnan(score1[i,j]) or np.isnan(score2[i,j]):\n",
    "                pass\n",
    "            else:\n",
    "                x.append(float(score1[i,j]))\n",
    "                y.append(float(score2[i,j]))\n",
    "    # Converting to np arrays and calculating pearson and spearman correalation.\n",
    "    x=np.array(x)\n",
    "    y=np.array(y)\n",
    "    r=sp.stats.pearsonr(x,y)\n",
    "    s,p=sp.stats.spearmanr(x,y)\n",
    "    print(\"Pearson's correlation coefficient between data: \",abs(r[0]))\n",
    "    print(\"Spearman's correlation coefficient bewteen data: \" ,abs(s))\n",
    "\n",
    "    return [abs(r[0]),abs(s)]\n",
    "\n",
    "# Load RMSDs from file\n",
    "def load_rmsd(path, pdbs):\n",
    "    dir_list = sorted(os.listdir(path))\n",
    "    rmsd_list = np.zeros(len(dir_list))\n",
    "    mut_list = [0]*len(dir_list)\n",
    "    for i in range(len(dir_list)):\n",
    "        df = pd.read_csv(path + dir_list[i])['rmsd'][0]\n",
    "        rmsd_list[i] = df\n",
    "        if 'af2' in path:\n",
    "            df1 = pd.read_csv(path + dir_list[i])['mut'][0]\n",
    "            mut_list[i] = df1\n",
    "    return rmsd_list, mut_list\n",
    "\n",
    "# Load torsion angles for PDBs\n",
    "def compile_angles_pdb(path):\n",
    "    filenames = list()\n",
    "    dir_list = sorted(os.listdir(path))\n",
    "    angles_list = list()\n",
    "    pos_list = list()\n",
    "    for i in range(1,len(dir_list)):\n",
    "        chi1_angle, pos = get_chi1_angles(path + dir_list[i])\n",
    "        chi1_angle = chi1_angle.squeeze()\n",
    "        angles_list.append(chi1_angle)\n",
    "        filenames.append(dir_list[i])\n",
    "        pdb = md.load_pdb(path + dir_list[i])\n",
    "        topology = pdb.topology\n",
    "        table, bonds = topology.to_dataframe()\n",
    "        pos_list.append(pos)\n",
    "    return angles_list, filenames, pos_list\n",
    "\n",
    "# Load torsion angles for af 2\n",
    "def compile_angles_af2(path, pdbs):\n",
    "    filenames = list()\n",
    "    dir_list = sorted(os.listdir(path))\n",
    "    angles_list = list()\n",
    "    pos_list = list()\n",
    "    plddt_list = list()\n",
    "    for k in range(len(dir_list)):\n",
    "        for pdb in pdbs:\n",
    "            if pdb in dir_list[k]:\n",
    "                tmp_dir_list = os.listdir(path + '/' + dir_list[k])    \n",
    "                pdb_file = [file for file in  tmp_dir_list if 'rank_1' in file and '.pdb' in file]\n",
    "                # Read pLDDT scores\n",
    "                plddt_file = [file for file in  tmp_dir_list if 'rank_1' in file and '.json' in file]\n",
    "                plddt_df = pd.read_json(path + '/' + dir_list[k] + '/' + plddt_file[0])\n",
    "                plddt_ls = plddt_df['plddt'].tolist()\n",
    "                plddt_list.append(plddt_ls)\n",
    "                filenames.append(pdb_file[0])\n",
    "                chi1_angle, pos = get_chi1_angles(path + '/' + dir_list[k] + '/' + pdb_file[0])\n",
    "                chi1_angle = chi1_angle.squeeze()\n",
    "                angles_list.append(chi1_angle)\n",
    "                pos_list.append(pos)\n",
    "    return angles_list, filenames, pos_list, plddt_list\n",
    "\n",
    "def circ_meanscatter_plot(x_ls,y_ls, plddt):\n",
    "    X, X_means = conv_to_np_arr_new(x_ls)\n",
    "    Y, Y_means = conv_to_np_arr_new(y_ls)\n",
    "    print(X_means.shape, Y_means.shape)\n",
    "    #fig = plt.figure()\n",
    "    plddt_mean = np.mean(plddt_indexed,axis=0)\n",
    "    #kernel = gaussian_kde(plddt_mean)\n",
    "    #kde = kernel.evaluate(plddt_mean)\n",
    "    #norm = Normalize(vmin=kde.min(), vmax=kde.max())\n",
    "    #colors = plt.cm.ScalarMappable(norm=norm, cmap='GnBu').to_rgba(kde)\n",
    "    colormap = plt.cm.get_cmap('GnBu') # 'plasma' or 'viridis'\n",
    "    colors = colormap(plddt_mean)    \n",
    "    \n",
    "    plt.title('P00720',fontsize=12)\n",
    "    plt.xlabel('$\\chi_1$ AF2 [$^\\circ$]',fontsize=12)\n",
    "    plt.ylabel('$\\chi_1$ X-ray [$^\\circ$]',fontsize=12)\n",
    "    plt.xlim(-120,250)\n",
    "    plt.ylim(-120,250)\n",
    "    trend = np.polyfit(X_means,Y_means,1)\n",
    "    trendpoly = np.poly1d(trend) \n",
    "    scatter_plot = plt.scatter(X_means, Y_means, vmin=0, vmax=X_means.max(), c=colors)\n",
    "    sm = plt.cm.ScalarMappable(cmap=colormap)\n",
    "    sm.set_clim(vmin=0, vmax=100)\n",
    "    plt.colorbar(sm, label='pLDDT')\n",
    "    plt.plot(X_means,trendpoly(X_means), c='black', label = 'ρ = 0.86')\n",
    "    plt.legend(fontsize=14, loc=\"upper left\")\n",
    "    plt.savefig(DATA_PATH_ROOT + \"/notebooks/figs/chi1_plot_P00720_wt.pdf\")\n",
    "    \n",
    "    print(X_means.shape, Y_means.shape)\n",
    "    return correlations_vector(X_means, Y_means)\n",
    "\n",
    "def scatter_plot(x_ls,y_ls):\n",
    "    X=np.stack(conv_to_np_arr_old(x_ls))\n",
    "    Y=np.stack(conv_to_np_arr_old(y_ls))\n",
    "    print(np.nanmean(X, axis=0))\n",
    "    values = np.vstack((np.nanmean(X, axis=0), np.nanmean(Y, axis=0)))\n",
    "    kernel = gaussian_kde(values)\n",
    "    kde = kernel.evaluate(values)\n",
    "    norm = Normalize(vmin=kde.min(), vmax=kde.max())\n",
    "    colors = cm.ScalarMappable(norm=norm, cmap='viridis_r').to_rgba(kde)\n",
    "    plt.title('P00720',fontsize=12)\n",
    "    plt.xlabel('$\\chi_1$ AF2 [$^\\circ$]',fontsize=12)\n",
    "    plt.ylabel('$\\chi_1$ X-ray [$^\\circ$]',fontsize=12)\n",
    "\n",
    "    trend = np.polyfit(np.nanmean(X, axis=0),np.nanmean(Y, axis=0),1)\n",
    "    trendpoly = np.poly1d(trend) \n",
    "    plt.scatter(np.nanmean(X, axis=0), np.nanmean(Y, axis=0), c=colors)\n",
    "    plt.plot(np.nanmean(X, axis=0),trendpoly(np.nanmean(X, axis=0)), c='black', label = 'ρ = 0.63')\n",
    "    plt.legend(fontsize=14, loc=\"upper left\")\n",
    "    plt.savefig(DATA_PATH_ROOT + \"/notebooks/figs/chi1_plot_P00720.png\", dpi=1200)\n",
    "    \n",
    "    return correlations_matrix(X, Y)\n",
    "\n",
    "def mean_plddt(path, pdbs):\n",
    "    filenames = list()\n",
    "    dir_list = sorted(os.listdir(path))\n",
    "    plddt_mean_ls = list()\n",
    "    for k in range(len(dir_list)):\n",
    "        for pdb in pdbs:\n",
    "            if pdb in dir_list[k]:\n",
    "                tmp_dir_list = os.listdir(path + '/' + dir_list[k])    \n",
    "                pdb_file = [file for file in  tmp_dir_list if 'rank_1' in file and '.pdb' in file]\n",
    "                # Read pLDDT scores\n",
    "                plddt_file = [file for file in  tmp_dir_list if 'rank_1' in file and '.json' in file]\n",
    "                print(plddt_file[0])\n",
    "                plddt_df = pd.read_json(path + '/' + dir_list[k] + '/' + plddt_file[0])\n",
    "                plddt_ls = plddt_df['plddt'].mean()\n",
    "                plddt_mean_ls.append(plddt_ls)\n",
    "                filenames.append(pdb_file[0])\n",
    "    mean_arr = np.asarray(plddt_mean_ls)\n",
    "    mean = np.mean(plddt_mean_ls)\n",
    "    return mean"
   ]
  },
  {
   "cell_type": "code",
   "execution_count": 4,
   "id": "da2398a8-88b4-4043-bbc7-b370f10e1244",
   "metadata": {},
   "outputs": [],
   "source": [
    "# Get RMSDs\n",
    "af2_rmsd_list, mut = load_rmsd(DATA_PATH_MUT_AF2, arodz_pdbs)\n",
    "pdb_rmsd_list, _ = load_rmsd(DATA_PATH_MUT_PDB, arodz_pdbs)\n",
    "# Get chi 1 angles\n",
    "chi_1_pdb, filenames_pdb, pos_pdb = compile_angles_pdb(DATA_PATH_PDB)\n",
    "chi_1_af2, filenames_af2, pos_af2, plddt = compile_angles_af2(DATA_PATH_AF2,arodz_pdbs)\n",
    "\n",
    "chi_1_pdb_wt, filenames_pdb_wt, pos_pdb_wt = compile_angles_pdb(DATA_PATH_PDB_WT)\n",
    "\n",
    "\n",
    "\n",
    "DATA_PATH_MUT_2_MUT = '/Users/holger/Desktop/master_thesis/data/results_rmsd/results_rmsd_af2/results_rmsd_P00720_mut2mut/'\n",
    "DATA_PATH_MUT_2_WT = '/Users/holger/Desktop/master_thesis/data/results_rmsd/results_rmsd_af2/results_rmsd_P00720_mut2wt/'\n",
    "\n",
    "mut_2_mut_rmsd_list, mut = load_rmsd(DATA_PATH_MUT_2_MUT, arodz_pdbs)\n",
    "mut_2_wt_rmsd_list, mut = load_rmsd(DATA_PATH_MUT_2_WT, arodz_pdbs)"
   ]
  },
  {
   "cell_type": "code",
   "execution_count": 5,
   "id": "eb6e1fdf-37f1-4866-87b9-c2d2f8a98e51",
   "metadata": {},
   "outputs": [
    {
     "data": {
      "text/plain": [
       "array([0.25680394, 0.20254202, 0.31448288, 0.20840408])"
      ]
     },
     "execution_count": 5,
     "metadata": {},
     "output_type": "execute_result"
    }
   ],
   "source": [
    "pdb_rmsd_list[pdb_rmsd_list > 0.2]"
   ]
  },
  {
   "cell_type": "code",
   "execution_count": 6,
   "id": "f3a79403-f127-4603-96b9-130e729b820f",
   "metadata": {},
   "outputs": [
    {
     "name": "stdout",
     "output_type": "stream",
     "text": [
      "P00720_1dya_b1204_unrelaxed_rank_1_model_4_scores.json\n",
      "P00720_1dyb_f04ad_unrelaxed_rank_1_model_5_scores.json\n",
      "P00720_1dyc_758d8_unrelaxed_rank_1_model_5_scores.json\n",
      "P00720_1dyd_f1332_unrelaxed_rank_1_model_4_scores.json\n",
      "P00720_1dye_54fa0_unrelaxed_rank_1_model_5_scores.json\n",
      "P00720_1dyf_0067a_unrelaxed_rank_1_model_5_scores.json\n",
      "P00720_1dyg_c7a70_unrelaxed_rank_1_model_5_scores.json\n",
      "P00720_1l00_61b06_unrelaxed_rank_1_model_5_scores.json\n",
      "P00720_1l02_1a6d8_unrelaxed_rank_1_model_5_scores.json\n",
      "P00720_1l03_82680_unrelaxed_rank_1_model_5_scores.json\n",
      "P00720_1l05_30f86_unrelaxed_rank_1_model_5_scores.json\n",
      "P00720_1l06_e8c17_unrelaxed_rank_1_model_4_scores.json\n",
      "P00720_1l07_87220_unrelaxed_rank_1_model_4_scores.json\n",
      "P00720_1l08_10734_unrelaxed_rank_1_model_5_scores.json\n",
      "P00720_1l09_3871c_unrelaxed_rank_1_model_5_scores.json\n",
      "P00720_1l10_e37a6_unrelaxed_rank_1_model_5_scores.json\n",
      "P00720_1l11_d2a72_unrelaxed_rank_1_model_5_scores.json\n",
      "P00720_1l12_c181c_unrelaxed_rank_1_model_5_scores.json\n",
      "P00720_1l13_b411e_unrelaxed_rank_1_model_5_scores.json\n",
      "P00720_1l14_eb277_unrelaxed_rank_1_model_5_scores.json\n",
      "P00720_1l15_b22a4_unrelaxed_rank_1_model_5_scores.json\n",
      "P00720_1l16_ade76_unrelaxed_rank_1_model_5_scores.json\n",
      "P00720_1l19_e6a8b_unrelaxed_rank_1_model_5_scores.json\n",
      "P00720_1l20_230f6_unrelaxed_rank_1_model_4_scores.json\n",
      "P00720_1l21_683e5_unrelaxed_rank_1_model_4_scores.json\n",
      "P00720_1l22_a4332_unrelaxed_rank_1_model_5_scores.json\n",
      "P00720_1l23_ffde4_unrelaxed_rank_1_model_5_scores.json\n",
      "P00720_1l24_25c17_unrelaxed_rank_1_model_4_scores.json\n",
      "P00720_1l25_9d1f8_unrelaxed_rank_1_model_4_scores.json\n",
      "P00720_1l26_a30a0_unrelaxed_rank_1_model_4_scores.json\n",
      "P00720_1l27_4d829_unrelaxed_rank_1_model_5_scores.json\n",
      "P00720_1l28_86283_unrelaxed_rank_1_model_5_scores.json\n",
      "P00720_1l29_0b649_unrelaxed_rank_1_model_4_scores.json\n",
      "P00720_1l30_ebc83_unrelaxed_rank_1_model_4_scores.json\n",
      "P00720_1l31_4f90c_unrelaxed_rank_1_model_5_scores.json\n",
      "P00720_1l32_affda_unrelaxed_rank_1_model_5_scores.json\n",
      "P00720_1l33_bd093_unrelaxed_rank_1_model_5_scores.json\n",
      "P00720_1l34_7bb7f_unrelaxed_rank_1_model_4_scores.json\n",
      "P00720_1l37_86905_unrelaxed_rank_1_model_4_scores.json\n",
      "P00720_1l38_a471e_unrelaxed_rank_1_model_4_scores.json\n",
      "P00720_1l44_d7882_unrelaxed_rank_1_model_5_scores.json\n",
      "P00720_1l45_c2b96_unrelaxed_rank_1_model_4_scores.json\n",
      "P00720_1l46_8411c_unrelaxed_rank_1_model_5_scores.json\n",
      "P00720_1l47_2ece2_unrelaxed_rank_1_model_5_scores.json\n",
      "P00720_1l48_b0f67_unrelaxed_rank_1_model_4_scores.json\n",
      "P00720_1l52_48c8f_unrelaxed_rank_1_model_5_scores.json\n",
      "P00720_1l53_02c2a_unrelaxed_rank_1_model_5_scores.json\n",
      "P00720_1l56_a1dbb_unrelaxed_rank_1_model_4_scores.json\n",
      "P00720_1l57_44c91_unrelaxed_rank_1_model_5_scores.json\n",
      "P00720_1l58_3d612_unrelaxed_rank_1_model_4_scores.json\n",
      "P00720_1l60_c7f5b_unrelaxed_rank_1_model_4_scores.json\n",
      "P00720_1l69_4cd51_unrelaxed_rank_1_model_5_scores.json\n",
      "P00720_1l98_79afb_unrelaxed_rank_1_model_5_scores.json\n",
      "P00720_1l99_16304_unrelaxed_rank_1_model_4_scores.json\n"
     ]
    }
   ],
   "source": [
    "mean_plddt_r = mean_plddt(DATA_PATH_AF2,arodz_pdbs)"
   ]
  },
  {
   "cell_type": "code",
   "execution_count": 7,
   "id": "cc22bc56-0193-4114-a7d1-17bcc2117dae",
   "metadata": {},
   "outputs": [
    {
     "data": {
      "text/plain": [
       "97.28"
      ]
     },
     "execution_count": 7,
     "metadata": {},
     "output_type": "execute_result"
    }
   ],
   "source": [
    "round(mean_plddt_r,3)"
   ]
  },
  {
   "cell_type": "code",
   "execution_count": 8,
   "id": "f278b6ab-3cdd-47d8-94d0-50df461676bc",
   "metadata": {},
   "outputs": [
    {
     "name": "stdout",
     "output_type": "stream",
     "text": [
      "[ 177.28623962   60.25485229 -167.87823486  -65.66547394  -62.42394257\n",
      " -179.76196289  -83.68650818  116.11830139  -82.90359497  -72.41091156\n",
      "  -68.82652283  171.26538086  -50.0970459   -62.67490005 -170.68638611\n",
      "  -67.51976013   69.56281281  -54.00791931 -106.70300293  -62.06936264\n",
      " -104.40190125  -48.68244934  -76.86505127  -51.54836655 -159.91394043\n",
      "  -57.27020645 -175.20809937  170.6897583   -65.61618805 -167.23019409\n",
      "  -73.44783783  163.48051453    1.34834349   -3.61504865 -148.46099854\n",
      "  -75.06263733 -112.96772003  144.38540649  -78.80606842  179.25436401\n",
      "  -76.18106842  169.57627869  -68.3393631    72.12442017 -110.37179565\n",
      "  -70.67329407 -174.1366272    67.83221436   61.4706192    65.47091675\n",
      " -160.90707397 -122.14631653  -73.75780487  -53.61594772  177.39710999\n",
      "  -71.30089569 -172.06208801  -75.77752686  -65.29595947  -60.3780632\n",
      "  173.59220886 -172.02964783  173.10066223  -74.89427185  -73.37917328\n",
      "  -55.39774704  -87.8952179  -171.22366333  -93.01502228  -53.71474457\n",
      " -157.09786987    0.64559507 -178.48953247 -166.74845886  -73.20154572\n",
      "   76.90163422  -68.39538574   59.32014084  178.97712708  -61.91176987\n",
      "  -89.89718628  -66.78707886 -173.41574097  -62.6815033  -164.21472168\n",
      "  -68.05169678  176.6174469  -173.07264709 -166.79924011   85.26605988\n",
      " -105.31188202  -60.14380264  175.5642395   -75.24646759  -61.36484146\n",
      "  -56.19219971  -39.63305664  -65.21338654 -140.82862854  -76.58074951\n",
      "  -65.14730835 -107.79005432  -78.0641098   -51.8870163   -55.14584351\n",
      "  -43.21632385  -81.29795837  -61.41482925  156.26931763 -170.57859802\n",
      "  -79.1692276  -115.50985718   52.35050583 -176.07859802  169.58285522\n",
      " -175.6517334   -72.55500793 -114.16704559   46.46140671   17.08259392\n",
      "  -66.19950867  172.26139832  103.53742218  -74.57086182  172.45240784\n",
      "  -74.10662079  -72.3715744   -58.52901459  -86.62452698 -154.14074707\n",
      "   69.95690918   65.93881989  -72.36287689  -60.49098587  -69.27878571\n",
      " -114.42784119  -58.75875473  -75.09863281    0.        ]\n",
      "[ 175.08518982   61.11567688 -170.45314026  -65.62791443  -70.44950867\n",
      " -168.32873535  -77.68107605  168.90019226  -79.27542114  -74.96496582\n",
      "  -64.80667877  169.7000885   -61.03102112  -54.03842926  178.87043762\n",
      "  -69.07028198   71.79718018  -70.98152924   77.09213257   65.38815308\n",
      "  -63.35226822  -55.15367889  -75.01488495  -52.53699875 -163.13414001\n",
      "  -56.62391663 -178.72511292  171.2008667   -64.36886597 -179.6308136\n",
      "  -63.56410599  142.48039246   -0.62482935  163.41261292  169.96574402\n",
      "  -82.14542389  -84.26006317  178.68865967  -79.32679749  174.49928284\n",
      "  -69.2514267   166.11309814  -64.76337433   85.5039444  -110.29135895\n",
      "  -60.66308594 -176.69863892  173.58634949   62.78350449   68.38391113\n",
      " -161.31163025  -85.12817383  -76.49866486  -87.61585999  171.65170288\n",
      "  -71.27574158 -171.2015686   -75.914711    -64.15826416  -64.0340271\n",
      "  172.41099548 -170.36474609  173.55635071  -74.85050201  -77.50241852\n",
      "  -58.40269852  -81.1636734  -168.71740723  -92.6734314   -60.65073776\n",
      " -174.42460632   -5.11993885 -176.93557739 -169.64579773  -73.04488373\n",
      "   73.04982758  -63.17475891   59.17293167  179.15016174  -60.841465\n",
      "  -81.09259796  -74.10942841 -170.69506836  -63.41168594 -165.75230408\n",
      "  -66.91412354  174.59526062 -175.94294739 -168.04760742   82.09236145\n",
      " -146.54771423  -53.43285751  178.30625916  -74.93871307  -58.42557144\n",
      "  -51.00311661  -61.92344284  -66.65170288 -146.80389404  -73.06986237\n",
      "  -72.4393692  -135.03482056  -70.36558533  -52.41864014  -61.81419754\n",
      "  -39.3268013   -77.3103714   -59.35290527  162.45056152 -171.02900696\n",
      "  -80.27599335  -57.92807388   52.31759644  178.60401917  169.18261719\n",
      " -177.9210968   -73.93556976  -76.62915802   49.37608337   19.83137512\n",
      "  -69.46472168  167.1505127   -89.80525208  -79.04312897  177.65124512\n",
      "  -72.18400574  -70.52422333  -54.65595245  -83.01040649 -148.35333252\n",
      "   72.33540344   72.60360718  -69.63913727  -65.73729706  -69.78614044\n",
      "  -72.36811066  -96.18080139  -80.43515015    0.        ]\n",
      "[ 174.39094543   57.45685959 -169.53775024  -63.68740463  -68.51307678\n",
      " -168.85269165  -79.2649765   165.56948853  -77.76280212  -77.14891815\n",
      "  -63.08845901  169.85266113  -65.86230469  -53.2627449   172.49101257\n",
      "  -66.89893341   70.68148804  -67.12569427   76.26683807   73.97805786\n",
      "  -55.24011612  -54.07722473  -75.03071594  -52.84776688 -162.86505127\n",
      "  -53.72496033 -179.15010071  171.87141418  -68.24871063 -171.78823853\n",
      "  -60.84289932  142.83337402  -11.26109409  166.70256042  175.20776367\n",
      "  -78.14104462  -78.47969818 -174.79100037  -76.9879303   172.0423584\n",
      "  -70.66264343  173.08964539  -61.00952911   86.97372437 -109.35875702\n",
      "  -67.32167816 -158.28260803  176.40179443   62.38716888   72.45367432\n",
      " -163.85646057  -83.25153351  -78.89845276  -85.60275269 -176.62988281\n",
      "  -71.14914703 -172.42929077  -75.78256989  -65.84425354  -66.25312805\n",
      "  171.11859131 -170.05764771  174.40563965  -78.43525696  -77.10083008\n",
      "  -57.16025162  -80.97168732 -172.84378052  -91.95726013  -64.29520416\n",
      " -179.53556824   -6.81455898 -177.75865173 -170.8674469   -70.87917328\n",
      "   73.89808655  -64.72922516   57.70871735 -177.81417847  -59.83962631\n",
      "  -80.72110748  -72.75899506 -174.44265747  -64.09391785 -168.0683136\n",
      "  -66.82430267  175.63224792 -176.23901367 -171.10151672   77.188591\n",
      " -173.40530396  -54.53152084 -179.55685425  -74.12359619  -63.49116898\n",
      "  -54.18154144  -65.54679871  -68.00832367 -175.41822815  -70.73015594\n",
      "  -75.8653183  -167.42271423  -63.31986618  -52.22682953  -64.29283905\n",
      "  -41.01197815  -76.46189117  -51.36175156  165.17619324 -174.02539062\n",
      "  -79.06885529  -58.58683395   52.22173691  177.61047363  167.80236816\n",
      " -177.29187012  -74.8169632   -63.29764938   49.39051819   22.90054703\n",
      "  -69.02770996  167.84263611  -85.06462097  -72.9305191   175.77656555\n",
      "  -72.98186493  -68.12736511  -54.34194183  -80.60228729 -152.13072205\n",
      "   75.9614563    70.14992523  -68.9236908   -68.022995    -71.70412445\n",
      "  -58.99064636    0.            0.            0.        ]\n",
      "[ 172.67976379   62.86349869 -168.01994324  -64.90239716  -56.01049805\n",
      " -175.98297119  -75.79735565  165.35736084  -72.84066772  -75.75354767\n",
      "  -53.75329208  165.37850952  -63.65731812  -52.24367523  -62.62055206\n",
      "  -64.75131989   70.20998383  -55.79578018   72.73005676   76.67082214\n",
      "  -64.66445923  -47.3536644   -71.62793732  -48.27189636 -157.9835968\n",
      "  -55.2909584  -176.53218079  167.17710876  -66.44371796 -169.96589661\n",
      "  -66.11688995  137.78999329  -23.03242874  170.26156616 -178.96208191\n",
      "  -95.31871796  -90.24550629 -165.56303406  -83.11771393  177.1856842\n",
      "  -70.7377243   179.3059082   -58.84737015   62.76418304  -67.83097076\n",
      "  -75.86968994 -157.75195312  166.66073608   64.70939636   67.15702057\n",
      " -163.29730225  -90.25743866  -73.69895935  -75.36677551  174.62615967\n",
      "  -68.74237823 -173.88494873  -79.09098816  -51.19225311  -68.86613464\n",
      "  167.85133362 -168.28327942  175.86094666  -74.11322021  -76.76651764\n",
      "  -62.7330513   118.92819214 -165.30615234  -78.83003235  -58.94345093\n",
      " -168.52825928   -3.11894178 -176.73452759 -169.88267517  -69.01132965\n",
      "   73.72735596  -64.54945374   57.89500427 -176.17175293  -55.43937683\n",
      "  -83.74053955  -66.41407776 -174.33703613  -64.5765152  -162.56692505\n",
      "  -71.02375031  170.95889282 -175.6499939  -176.06013489  102.77437592\n",
      "  172.18615723  -59.73122406 -175.14631653  -73.61458588  -59.59149933\n",
      "  -55.98613358  -73.48021698  -67.05401611 -175.71568298  -52.62280273\n",
      "  -67.94158936 -148.61193848  -37.08096313  -47.84151459  -62.23478699\n",
      "  -37.2529335   -66.62498474  -47.64754868  164.63731384 -175.96572876\n",
      "  -79.54611206  -73.33315277   56.84526443  173.23085022  168.89691162\n",
      " -179.01545715  -82.15643311  -56.25857925   48.40245056   18.41463661\n",
      "  -59.4871254   162.56335449  -94.46671295  -66.89660645  177.04760742\n",
      "  -64.84362793  -71.02459717  -55.69713211  -81.67997742 -156.23660278\n",
      "   74.60299683   68.02526855  -69.53290558  -61.67719269  -72.65866089\n",
      "  -80.59928131    0.            0.            0.        ]\n",
      "[ 163.43824768   61.95824814 -170.41075134  -66.39757538  -66.40568542\n",
      " -167.10404968  -75.82878876  169.19250488  -76.99977112  -74.68972778\n",
      "  -53.27677155  161.4440155   -48.80496597  -52.76012421  171.17552185\n",
      "  -71.1807785    67.81681824  -62.73867798   71.57848358   73.58534241\n",
      "  -58.78194427  -58.42549133  -74.77121735  -54.42523575 -155.78665161\n",
      "  -52.7981987  -177.69332886  172.74598694  -70.36698914 -164.23117065\n",
      "  -63.00677872  145.21183777  -25.15546799 -178.50898743  176.42131042\n",
      "  -77.41470337  -90.57157135  155.88870239  -72.61300659  179.42100525\n",
      "  -61.575737   -176.81878662  -60.32566071 -107.50524902  -73.1567688\n",
      "  -74.19911957 -154.94802856  174.10676575   62.10095215   73.37310028\n",
      " -173.52824402  -85.82822418  -68.88183594  -92.88382721  176.65470886\n",
      "  -66.6399765  -172.62374878  -77.01083374  -59.56643677  -63.983181\n",
      "  166.01994324 -174.14942932  175.18040466  -76.26638794  -79.19898224\n",
      "  -62.34369659 -100.40503693 -168.56686401  -87.52788544  -59.31945801\n",
      " -172.98736572    3.606457   -171.33169556 -170.4183197   -73.93235016\n",
      "   79.12445068  -57.05784607   59.60696793  177.96238708  -64.51771545\n",
      "  -84.73622894  -70.05984497 -179.85342407  -66.18645477 -167.43209839\n",
      "  -69.92653656  173.84506226 -175.3407135   177.45072937   89.61552429\n",
      " -134.0045166   -50.94688416 -171.36296082  -79.52935028  -55.07863235\n",
      "  -55.23177338  -55.89820099  -66.81409454 -168.19685364  -57.10057449\n",
      "  -68.94325256 -156.19429016  -45.76683807  -59.79556274  -62.49530411\n",
      "  -42.06143951  -72.35340881  -43.31706619  164.47244263 -171.53659058\n",
      "  -84.53623962  -64.58961487   54.15973663  177.3291626   165.36566162\n",
      " -177.33296204  -76.69205475  -59.20403671   47.35120392   16.85486984\n",
      "  -64.80664062  160.73634338  -74.64387512  -76.69377899  174.13087463\n",
      "  -71.85782623  -71.87632751  -54.25408936  -85.5245285  -155.67355347\n",
      "   75.9068222    69.70964813  -69.87337494  -62.42691422  -70.84690094\n",
      "  -75.68824005    0.            0.            0.        ]\n",
      "[ 179.11399841   56.30801392 -168.88931274  -62.09375763  -63.67420959\n",
      " -170.24046326  -76.45956421  160.38639832  -79.18412018  -77.63805389\n",
      "  -58.71419525  169.8041687   -61.02188492  -56.5402565   174.81837463\n",
      "  -63.91179276   66.20648956  -73.88038635   74.91804504   69.5474472\n",
      "  -58.64427948  -52.96203995  -76.50751495  -53.66522217 -164.59407043\n",
      "  -58.08454895  179.71295166  171.9004364   -75.22883606 -170.57948303\n",
      "  -60.00079727  140.44296265  -16.12959671  175.02178955  178.71836853\n",
      "  -67.06202698  -74.52745819 -157.13253784  -74.42965698  176.22328186\n",
      "  -73.24117279 -162.76748657  -56.76708221   76.68644714 -107.27796936\n",
      "  -64.82726288 -164.07008362  168.69902039   64.72921753   70.81880188\n",
      " -156.89224243  -76.74996185  -77.88565063  -92.53949738 -174.87431335\n",
      "  -69.77269745 -170.93937683  -77.80122375  -66.21668243  -64.82036591\n",
      "  178.2348938  -170.48310852  179.89981079  -81.67363739  -76.60985565\n",
      "  -56.23530579  -75.97779846 -172.61853027  -97.11064911  -62.26433563\n",
      " -175.61917114   -7.03750086 -175.68902588 -172.93763733  -73.07958221\n",
      "   75.62464905  -66.77955627   56.97691345  179.58018494  -67.78197479\n",
      "  -83.13717651  -78.98471069 -168.16662598  -63.33224869 -169.41773987\n",
      "  -69.05162811  172.71951294 -175.13874817 -169.71963501   71.66595459\n",
      " -172.79585266  -56.43622589 -177.21388245  -73.3953476   -57.43403244\n",
      "  -49.74198532  -54.31031418  -69.22420502 -174.34066772  -71.54467773\n",
      "  -80.37071228 -166.9209137   -56.80858994  -43.4201088   -73.04701996\n",
      "  -32.42404938  -77.26853943  -48.16043472  168.03303528 -173.88786316\n",
      "  -85.77497101  -60.5856514    58.09876251  177.1131134   166.20677185\n",
      " -179.37963867  -78.20996857  -69.84837341   47.48878098   23.10058212\n",
      "  -70.14660645  173.70152283  -80.0919342   -74.51501465  169.81204224\n",
      "  -68.63570404  -73.0031662   -54.40987778  -81.64416504 -145.83642578\n",
      "   69.72951508   66.02932739  -71.90129089  -71.58508301  -72.77958679\n",
      "  -62.28794098    0.            0.            0.        ]\n"
     ]
    }
   ],
   "source": [
    "chi_1_pdb_wt_ls = []\n",
    "for i in range(len(chi_1_pdb_wt)):\n",
    "    if 139-len(chi_1_pdb_wt[i]) !=0:\n",
    "        chi_1_pdb_wt[i] = np.append(chi_1_pdb_wt[i],np.zeros(139-len(chi_1_pdb_wt[i])))\n",
    "        print(chi_1_pdb_wt[i])"
   ]
  },
  {
   "cell_type": "code",
   "execution_count": 26,
   "id": "5a8209a6-3b25-4dd5-9dea-16839480ba00",
   "metadata": {},
   "outputs": [
    {
     "name": "stdout",
     "output_type": "stream",
     "text": [
      "Pearson's correlation coefficient between data:  0.1640880968427228\n",
      "Spearman's correlation coefficient bewteen data:  0.18635410710882405\n"
     ]
    },
    {
     "data": {
      "text/plain": [
       "[0.1640880968427228, 0.18635410710882405]"
      ]
     },
     "execution_count": 26,
     "metadata": {},
     "output_type": "execute_result"
    },
    {
     "data": {
      "image/png": "[encoded data removed]",
      "text/plain": [
       "<Figure size 432x288 with 1 Axes>"
      ]
     },
     "metadata": {},
     "output_type": "display_data"
    }
   ],
   "source": [
    "# RMSD plot: AF2 vs. PDB\n",
    "plt.ylabel('Variant RMSD [Å]',fontsize=8)\n",
    "plt.xlabel('Wild-type RMSD [Å]',fontsize=8)\n",
    "\n",
    "\n",
    "plt.scatter(mut_2_wt_rmsd_list, mut_2_mut_rmsd_list)\n",
    "plt.xlim(0.3,0.75)\n",
    "plt.ylim(0.3,0.75)\n",
    "plt.savefig(DATA_PATH_ROOT + \"/notebooks/figs/P00720_dis_scatter.png\", dpi=1200)\n",
    "correlations_vector(af2_rmsd_list, pdb_rmsd_list)"
   ]
  },
  {
   "cell_type": "code",
   "execution_count": 10,
   "id": "d1328022-c147-479c-aba9-15bbe561524b",
   "metadata": {},
   "outputs": [
    {
     "name": "stdout",
     "output_type": "stream",
     "text": [
      "108\n"
     ]
    }
   ],
   "source": [
    "chi_1_af2_mean = []\n",
    "chi_1_pdb_mean = []\n",
    "rsn_N = list()\n",
    "for i in range(len(filenames_af2)):\n",
    "    rsn_N.append(mut[i])\n",
    "    chi_1_af2_mean.append(np.mean(chi_1_af2[i]))\n",
    "    chi_1_pdb_mean.append(np.mean(chi_1_pdb[i]))\n",
    "\n",
    "for i in range(len(pos_af2[0])):\n",
    "    if pos_af2[0][i][0] == int(rsn_N[0][3:-3]):\n",
    "        print(i)\n",
    "\n",
    "chi_1_mut_af2 = np.asarray([chi_1_af2[0][108],chi_1_af2[2][108],chi_1_af2[3][108],chi_1_af2[4][108],chi_1_af2[5][108],chi_1_af2[6][108],chi_1_af2[9][131],chi_1_af2[10][131],chi_1_af2[11][131],chi_1_af2[12][131],chi_1_af2[14][131],\n",
    "                chi_1_af2[15][131],chi_1_af2[16][131],chi_1_af2[17][131],chi_1_af2[18][131],chi_1_af2[19][131],chi_1_af2[20][131],chi_1_af2[21][131],chi_1_af2[22][33],chi_1_af2[23][33],chi_1_af2[27][33],chi_1_af2[29][71],\n",
    "                chi_1_af2[30][71],chi_1_af2[32][71],chi_1_af2[33][71],chi_1_af2[34][71],chi_1_af2[35][71],chi_1_af2[37][71],chi_1_af2[38][71],chi_1_af2[39][71],chi_1_af2[40][71],chi_1_af2[41][71],chi_1_af2[42][71],\n",
    "                chi_1_af2[43][129],chi_1_af2[44][82],chi_1_af2[45][127],chi_1_af2[46][124],chi_1_af2[47][50],chi_1_af2[48][95],chi_1_af2[52][88]], dtype=np.float32)\n",
    "\n",
    "chi_1_mut_pdb = np.asarray([chi_1_pdb[0][108],chi_1_pdb[2][108],chi_1_pdb[3][108],chi_1_pdb[4][108],chi_1_pdb[5][108],chi_1_pdb[6][108],chi_1_pdb[9][131],chi_1_pdb[10][131],chi_1_pdb[11][131],chi_1_pdb[12][131],chi_1_pdb[14][131],\n",
    "                chi_1_pdb[15][131],chi_1_pdb[16][131],chi_1_pdb[17][131],chi_1_pdb[18][131],chi_1_pdb[19][131],chi_1_pdb[20][131],chi_1_pdb[21][131],chi_1_pdb[22][33],chi_1_pdb[23][33],chi_1_pdb[27][33],chi_1_pdb[29][33],\n",
    "                chi_1_pdb[30][71],chi_1_pdb[32][71],chi_1_pdb[33][71],chi_1_pdb[34][71],chi_1_pdb[35][71],chi_1_pdb[37][71],chi_1_pdb[38][71],chi_1_pdb[39][71],chi_1_pdb[40][71],chi_1_pdb[41][71],chi_1_pdb[42][71],\n",
    "                chi_1_pdb[43][129],chi_1_pdb[44][82],chi_1_pdb[45][127],chi_1_pdb[46][124],chi_1_pdb[47][50],chi_1_pdb[48][95],chi_1_pdb[52][88]], dtype=np.float32)\n",
    "\n",
    "chi_1_mut_af2[chi_1_mut_af2 <= -120] += 360\n",
    "chi_1_mut_pdb[chi_1_mut_pdb <= -120] += 360\n",
    "#from collections import Counter\n",
    "#Counter(rsn_N)"
   ]
  },
  {
   "cell_type": "code",
   "execution_count": 28,
   "id": "28d86341-d60d-4254-96ac-bd532b5e11cf",
   "metadata": {},
   "outputs": [
    {
     "name": "stdout",
     "output_type": "stream",
     "text": [
      "Pearson's correlation coefficient between data:  0.8884621018675184\n",
      "Spearman's correlation coefficient bewteen data:  0.7681050656660413\n"
     ]
    },
    {
     "data": {
      "text/plain": [
       "[0.8884621018675184, 0.7681050656660413]"
      ]
     },
     "execution_count": 28,
     "metadata": {},
     "output_type": "execute_result"
    },
    {
     "data": {
      "image/png": "[encoded data removed]",
      "text/plain": [
       "<Figure size 432x288 with 1 Axes>"
      ]
     },
     "metadata": {},
     "output_type": "display_data"
    }
   ],
   "source": [
    "plt.title('P00720',fontsize=8)\n",
    "plt.ylabel('X-ray $\\chi_1$ [$^\\circ$]',fontsize=8)\n",
    "plt.xlabel('AF2 $\\chi_1$ [$^\\circ$]',fontsize=8)\n",
    "trend = np.polyfit(chi_1_mut_af2,chi_1_mut_pdb,1)\n",
    "trendpoly = np.poly1d(trend) \n",
    "plt.scatter(chi_1_mut_af2, chi_1_mut_pdb, c=chi_1_mut_af2, cmap='rainbow')\n",
    "plt.plot(chi_1_mut_af2,trendpoly(chi_1_mut_af2), c='black', label = 'ρ = 0.89')\n",
    "plt.legend(fontsize=14)\n",
    "plt.savefig(DATA_PATH_ROOT + '/notebooks/figs/chi1_mut_rainbow_P00720.png', dpi=1200, bbox_inches = 'tight')\n",
    "\n",
    "correlations_vector(np.array(chi_1_mut_af2),np.array(chi_1_mut_pdb))\n",
    "\n"
   ]
  },
  {
   "cell_type": "code",
   "execution_count": 31,
   "id": "f169d3b2-b9ce-4737-b3a3-c312086f5bfa",
   "metadata": {},
   "outputs": [
    {
     "name": "stdout",
     "output_type": "stream",
     "text": [
      "Pearson's correlation coefficient between data:  0.027558981336252904\n",
      "Spearman's correlation coefficient bewteen data:  0.01945891714317796\n"
     ]
    },
    {
     "data": {
      "text/plain": [
       "[0.027558981336252904, 0.01945891714317796]"
      ]
     },
     "execution_count": 31,
     "metadata": {},
     "output_type": "execute_result"
    },
    {
     "data": {
      "image/png": "[encoded data removed]",
      "text/plain": [
       "<Figure size 432x288 with 1 Axes>"
      ]
     },
     "metadata": {},
     "output_type": "display_data"
    }
   ],
   "source": [
    "# Same plot as above but for wt\n",
    "chi_1_angles_wt, _ = get_chi1_angles(DATA_PATH_ROOT + '/data/arodz12/pdbs_P00720/0_2lzm.pdb')\n",
    "\n",
    "chi_1_angles_wt = conv_to_np_arr_old(chi_1_angles_wt)\n",
    "\n",
    "\n",
    "chi_1_mut_af2 = np.asarray([chi_1_af2[0][108],chi_1_af2[2][108],chi_1_af2[3][108],chi_1_af2[4][108],chi_1_af2[5][108],chi_1_af2[6][108],chi_1_af2[9][131],chi_1_af2[10][131],chi_1_af2[11][131],chi_1_af2[12][131],chi_1_af2[14][131],\n",
    "                chi_1_af2[15][131],chi_1_af2[16][131],chi_1_af2[17][131],chi_1_af2[18][131],chi_1_af2[19][131],chi_1_af2[20][131],chi_1_af2[21][131],chi_1_af2[22][33],chi_1_af2[23][33],chi_1_af2[27][33],chi_1_af2[29][71],\n",
    "                chi_1_af2[30][71],chi_1_af2[32][71],chi_1_af2[33][71],chi_1_af2[34][71],chi_1_af2[35][71],chi_1_af2[37][71],chi_1_af2[38][71],chi_1_af2[39][71],chi_1_af2[40][71],chi_1_af2[41][71],chi_1_af2[42][71],\n",
    "                chi_1_af2[43][129],chi_1_af2[44][82],chi_1_af2[45][127],chi_1_af2[46][124],chi_1_af2[47][50],chi_1_af2[48][95],chi_1_af2[52][88]], dtype=np.float32)\n",
    "\n",
    "chi_1_mut_wt = np.asarray([chi_1_angles_wt[0][108],chi_1_angles_wt[0][108],chi_1_angles_wt[0][108],chi_1_angles_wt[0][108],chi_1_angles_wt[0][108],chi_1_angles_wt[0][108],chi_1_angles_wt[0][131],chi_1_angles_wt[0][131],chi_1_angles_wt[0][131],chi_1_angles_wt[0][131],chi_1_angles_wt[0][131],\n",
    "                chi_1_angles_wt[0][131],chi_1_angles_wt[0][131],chi_1_angles_wt[0][131],chi_1_angles_wt[0][131],chi_1_angles_wt[0][131],chi_1_angles_wt[0][131],chi_1_angles_wt[0][131],chi_1_angles_wt[0][33],chi_1_angles_wt[0][33],chi_1_angles_wt[0][33],chi_1_angles_wt[0][33],\n",
    "                chi_1_angles_wt[0][71],chi_1_angles_wt[0][71],chi_1_angles_wt[0][71],chi_1_angles_wt[0][71],chi_1_angles_wt[0][71],chi_1_angles_wt[0][71],chi_1_angles_wt[0][71],chi_1_angles_wt[0][71],chi_1_angles_wt[0][71],chi_1_angles_wt[0][71],chi_1_angles_wt[0][71],\n",
    "                chi_1_angles_wt[0][129],chi_1_angles_wt[0][82],chi_1_angles_wt[0][127],chi_1_angles_wt[0][124],chi_1_angles_wt[0][50],chi_1_angles_wt[0][95],chi_1_angles_wt[0][88]], dtype=np.float32)\n",
    "\n",
    "chi_1_mut_af2[chi_1_mut_af2 <= -120] += 360\n",
    "chi_1_mut_wt[chi_1_mut_wt <= -120] += 360\n",
    "plt.title('P00720',fontsize=8)\n",
    "plt.ylabel('X-ray $\\chi_1$ [$^\\circ$]',fontsize=8)\n",
    "plt.xlabel('AF2 $\\chi_1$ [$^\\circ$]',fontsize=8)\n",
    "trend = np.polyfit(chi_1_mut_af2,chi_1_mut_wt,1)\n",
    "trendpoly = np.poly1d(trend) \n",
    "plt.scatter(chi_1_mut_af2, chi_1_mut_wt, c=chi_1_mut_af2, cmap='rainbow')\n",
    "plt.plot(chi_1_mut_af2,trendpoly(chi_1_mut_af2), c='black', label = 'ρ = 0.03')\n",
    "plt.legend(fontsize=14)\n",
    "plt.savefig(DATA_PATH_ROOT + '/notebooks/figs/chi1_wt_rainbow_P00720.png', dpi=1200, bbox_inches = 'tight')\n",
    "correlations_vector(np.array(chi_1_mut_af2),np.array(chi_1_mut_wt))"
   ]
  },
  {
   "cell_type": "code",
   "execution_count": 32,
   "id": "d167dec7-cc8c-4e4d-a11e-42e881852aae",
   "metadata": {},
   "outputs": [
    {
     "name": "stdout",
     "output_type": "stream",
     "text": [
      "Pearson's correlation coefficient between data:  0.8884621018675184\n",
      "Spearman's correlation coefficient bewteen data:  0.7681050656660413\n"
     ]
    },
    {
     "data": {
      "text/plain": [
       "[0.8884621018675184, 0.7681050656660413]"
      ]
     },
     "execution_count": 32,
     "metadata": {},
     "output_type": "execute_result"
    },
    {
     "data": {
      "image/png": "[encoded data removed]",
      "text/plain": [
       "<Figure size 432x288 with 1 Axes>"
      ]
     },
     "metadata": {},
     "output_type": "display_data"
    }
   ],
   "source": [
    "plt.title('P00720',fontsize=8)\n",
    "plt.ylabel('X-ray $\\chi_1$ [$^\\circ$]',fontsize=8)\n",
    "plt.xlabel('AF2 $\\chi_1$ [$^\\circ$]',fontsize=8)\n",
    "trend = np.polyfit(chi_1_mut_af2,chi_1_mut_pdb,1)\n",
    "trendpoly = np.poly1d(trend) \n",
    "plt.scatter(chi_1_mut_af2, chi_1_mut_pdb)\n",
    "plt.xlim(-120,250)\n",
    "plt.ylim(-120,250)\n",
    "plt.plot(chi_1_mut_af2,trendpoly(chi_1_mut_af2), c='black', label = 'ρ = 0.89')\n",
    "plt.legend(fontsize=14, )\n",
    "plt.savefig(DATA_PATH_ROOT + '/notebooks/figs/chi1_mut_P00720.png', dpi=1200, bbox_inches = 'tight')\n",
    "\n",
    "correlations_vector(np.array(chi_1_mut_af2),np.array(chi_1_mut_pdb))"
   ]
  },
  {
   "cell_type": "code",
   "execution_count": 14,
   "id": "90b5cb0a-9110-4ca0-b898-60a5b5701e9a",
   "metadata": {},
   "outputs": [
    {
     "data": {
      "text/plain": [
       "(54, 139)"
      ]
     },
     "execution_count": 14,
     "metadata": {},
     "output_type": "execute_result"
    }
   ],
   "source": [
    "# Do this for all\n",
    "plddt_idx = list()\n",
    "for i in range(len(pos_af2)):\n",
    "    tmp = np.asarray([pos_af2[0][i][0] for i in range(len(pos_af2[0]))])\n",
    "    plddt_idx.append(tmp)\n",
    "plddt_idx = np.vstack(np.asarray(plddt_idx)-1)\n",
    "plddt = np.asarray(plddt)\n",
    "plddt_indexed = [np.append(plddt[i][plddt_idx[i]],np.array([np.mean(plddt_idx[i],axis=0)])) for i in range(len(plddt))]\n",
    "\n",
    "plddt_indexed = np.vstack(plddt_indexed)\n",
    "\n",
    "plddt_indexed.shape"
   ]
  },
  {
   "cell_type": "code",
   "execution_count": 15,
   "id": "5e79f1eb-4171-47e2-a61e-ac5588ddf4b5",
   "metadata": {},
   "outputs": [
    {
     "name": "stdout",
     "output_type": "stream",
     "text": [
      "(139,) (139,)\n",
      "(139,) (139,)\n",
      "Pearson's correlation coefficient between data:  0.8591091907689683\n",
      "Spearman's correlation coefficient bewteen data:  0.7546226372938916\n"
     ]
    },
    {
     "name": "stderr",
     "output_type": "stream",
     "text": [
      "/var/folders/38/bl4yf01j4jx6h6m2ctkbjd3r0000gn/T/ipykernel_58606/2921246052.py:159: MatplotlibDeprecationWarning: Auto-removal of grids by pcolor() and pcolormesh() is deprecated since 3.5 and will be removed two minor releases later; please call grid(False) first.\n",
      "  plt.colorbar(sm, label='pLDDT')\n"
     ]
    },
    {
     "data": {
      "text/plain": [
       "[0.8591091907689683, 0.7546226372938916]"
      ]
     },
     "execution_count": 15,
     "metadata": {},
     "output_type": "execute_result"
    },
    {
     "data": {
      "image/png": "[encoded data removed]",
      "text/plain": [
       "<Figure size 432x288 with 2 Axes>"
      ]
     },
     "metadata": {},
     "output_type": "display_data"
    }
   ],
   "source": [
    "# Scatter plot chi_1_af2 vs. chi_1_pdb\n",
    "#circ_meanscatter_plot(chi_1_af2, chi_1_pdb,plddt)\n",
    "circ_meanscatter_plot(chi_1_af2,chi_1_pdb_wt, plddt)\n"
   ]
  },
  {
   "cell_type": "code",
   "execution_count": 16,
   "id": "f42d115b-cf1a-4034-a5ee-bdd68f676045",
   "metadata": {},
   "outputs": [],
   "source": [
    "#scatter_plot(chi_1_af2, chi_1_pdb)"
   ]
  },
  {
   "cell_type": "code",
   "execution_count": 33,
   "id": "98e2e009-278a-4799-b116-7d7ee1577cf1",
   "metadata": {},
   "outputs": [
    {
     "name": "stderr",
     "output_type": "stream",
     "text": [
      "/Users/holger/opt/anaconda3/lib/python3.9/site-packages/seaborn/matrix.py:654: UserWarning: Clustering large matrix with scipy. Installing `fastcluster` may give better performance.\n",
      "  warnings.warn(msg)\n"
     ]
    },
    {
     "data": {
      "image/png": "[encoded data removed]",
      "text/plain": [
       "<Figure size 720x720 with 5 Axes>"
      ]
     },
     "metadata": {},
     "output_type": "display_data"
    }
   ],
   "source": [
    "X=np.stack(conv_to_np_arr_old(chi_1_af2)).reshape(-1,139)\n",
    "Y=np.stack(conv_to_np_arr_old(chi_1_pdb)).reshape(-1,139)\n",
    "\n",
    "dat = np.vstack((Y,X)).T\n",
    "filenames_combined = filenames_pdb+filenames_af2\n",
    "names = filenames_combined\n",
    "\n",
    "filenames_combined = filenames_pdb+filenames_af2\n",
    "names = filenames_combined\n",
    "filenames_combined = [\"AF2_\" + name[7:11] if name.startswith(\"P00720\") else \"PDB_\"+ name[0:4] for name in names]\n",
    "df_test = pd.DataFrame(dat, index=[i for i in range(139)], columns=filenames_combined)\n",
    "\n",
    "\n",
    "dataset = [\"AF2\" if name.startswith(\"P00720\") else \"X-ray\" for name in names]\n",
    "a = {'AF2': 'lightgray', 'X-ray': 'lightblue'}\n",
    "colors = lambda x: a[x]\n",
    "col_colors = list(map(colors, dataset))\n",
    "sns.set(font_scale = 0.60)\n",
    "cm=sns.clustermap(df_test,\n",
    "               method='average',\n",
    "               cbar_pos = (1, .20, .03, .45),\n",
    "               yticklabels=False,\n",
    "               col_colors=col_colors,\n",
    "               xticklabels=True,\n",
    "               #standard_scale=1,\n",
    "               annot_kws={\"size\": 1},\n",
    "               cmap='viridis',\n",
    "               vmin=-180,\n",
    "               vmax=180)\n",
    "\n",
    "# Add legends\n",
    "for label in ['X-ray', 'AF2']:\n",
    "    cm.ax_col_dendrogram.bar(0, 0, color=a[label], label=label, linewidth=0);\n",
    "l1 = cm.ax_col_dendrogram.legend(title='Structure', loc=\"center\", ncol=5, bbox_to_anchor=(0.1, 0.89), bbox_transform=gcf().transFigure, prop={'size': 10})\n",
    "\n",
    "\n",
    "plt.savefig(DATA_PATH_ROOT + '/notebooks/figs/clustermap_chi1_P00720.png', dpi=1200, bbox_inches = 'tight')"
   ]
  },
  {
   "cell_type": "code",
   "execution_count": 34,
   "id": "fc7d3a72-f822-43aa-8d19-1e7f7d28a547",
   "metadata": {},
   "outputs": [
    {
     "name": "stdout",
     "output_type": "stream",
     "text": [
      "Pearson's correlation coefficient between data:  0.1640880968427228\n",
      "Spearman's correlation coefficient bewteen data:  0.18635410710882405\n"
     ]
    },
    {
     "data": {
      "text/plain": [
       "[0.1640880968427228, 0.18635410710882405]"
      ]
     },
     "execution_count": 34,
     "metadata": {},
     "output_type": "execute_result"
    },
    {
     "data": {
      "image/png": "[encoded data removed]",
      "text/plain": [
       "<Figure size 432x288 with 1 Axes>"
      ]
     },
     "metadata": {},
     "output_type": "display_data"
    }
   ],
   "source": [
    "# RMSD plot: AF2 vs. PDB\n",
    "plt.title('P00720',fontsize=8)\n",
    "plt.ylabel('X-ray RMSD [Å]',fontsize=8)\n",
    "plt.xlabel('AF2 RMSD [Å]',fontsize=8)\n",
    "trend = np.polyfit(af2_rmsd_list,pdb_rmsd_list,1)\n",
    "trendpoly = np.poly1d(trend) \n",
    "plt.scatter(af2_rmsd_list, pdb_rmsd_list)\n",
    "plt.plot(af2_rmsd_list,trendpoly(af2_rmsd_list), c='black', label = r'$\\rho = 0.16$')\n",
    "plt.legend(fontsize=14)\n",
    "plt.savefig(DATA_PATH_ROOT + '/notebooks/figs/rmsd_P00720.png', dpi=1200, bbox_inches = 'tight')\n",
    "correlations_vector(af2_rmsd_list, pdb_rmsd_list)"
   ]
  },
  {
   "cell_type": "code",
   "execution_count": 19,
   "id": "bbcd996c-1838-4eee-9399-51f17d50eae7",
   "metadata": {},
   "outputs": [
    {
     "data": {
      "text/plain": [
       "<matplotlib.lines.Line2D at 0x7ff471baac10>"
      ]
     },
     "execution_count": 19,
     "metadata": {},
     "output_type": "execute_result"
    },
    {
     "data": {
      "image/png": "[encoded data removed]",
      "text/plain": [
       "<Figure size 432x288 with 1 Axes>"
      ]
     },
     "metadata": {},
     "output_type": "display_data"
    }
   ],
   "source": [
    "# Create histogram of RMSDs\n",
    "output_variance_np = np.asarray(af2_rmsd_list)\n",
    "hist,bin_edges = np.histogram(af2_rmsd_list)\n",
    "weights = np.ones_like(af2_rmsd_list) / len(af2_rmsd_list)\n",
    "n, bins, patches = plt.hist(af2_rmsd_list, 50, weights = weights, facecolor='lightblue', edgecolor='k', alpha=0.75)\n",
    "plt.grid(axis='y', alpha=0.75)\n",
    "plt.xlabel(r'RMSD C$\\alpha$ [Å])',fontsize=8)\n",
    "plt.ylabel('Frequency',fontsize=8)\n",
    "plt.xticks(fontsize=8,rotation='vertical')\n",
    "plt.yticks(fontsize=8)\n",
    "plt.ylabel('Frequency',fontsize=8)\n",
    "plt.title('P61626: RMSD of wild type and mutants',fontsize=8)\n",
    "plt.axvline(np.mean(af2_rmsd_list), color='b', linestyle='dashed', linewidth=2)\n",
    "#plt.savefig('/Users/holgerchristiannyelandehlers/Desktop/master_thesis/notebooks/figs/rmsd_dis_P0A7Y4.png', dpi=1200)"
   ]
  },
  {
   "cell_type": "code",
   "execution_count": 20,
   "id": "399e8be4-62a3-4bdb-b0e2-1fa90f3448c6",
   "metadata": {},
   "outputs": [
    {
     "data": {
      "text/plain": [
       "0.14205071641945755"
      ]
     },
     "execution_count": 20,
     "metadata": {},
     "output_type": "execute_result"
    }
   ],
   "source": [
    "# Concat dataframes\n",
    "df_af2 = pd.DataFrame (af2_rmsd_list, columns = ['rmsd_af2'])\n",
    "df_pdb = pd.DataFrame (pdb_rmsd_list, columns = ['rmsd_pdb'])\n",
    "df_mut2mut = pd.DataFrame (mut_2_mut_rmsd_list, columns = ['rmsd'])\n",
    "df_mut2wt = pd.DataFrame (mut_2_wt_rmsd_list, columns = ['rmsd'])\n",
    "\n",
    "df_concated = pd.concat([df_af2, df_pdb], axis=1)\n",
    "a = dict(zip(np.unique(df_concated.rmsd_af2), np.array(['g','skyblue'])))\n",
    "#df_concated.describe()\n",
    "df_pdb['rmsd_pdb'].mean()"
   ]
  },
  {
   "cell_type": "code",
   "execution_count": 35,
   "id": "49fc9a99-a0eb-4fdd-a009-59fd7377d793",
   "metadata": {},
   "outputs": [
    {
     "data": {
      "image/png": "[encoded data removed]",
      "text/plain": [
       "<Figure size 432x288 with 1 Axes>"
      ]
     },
     "metadata": {},
     "output_type": "display_data"
    }
   ],
   "source": [
    "sns.histplot(df_pdb,x=\"rmsd_pdb\", binwidth=0.01, alpha=0.75, kde=True, color=\"lightgrey\", label=\"X-rayM2W: $\\mu = {}$, $\\sigma = {}$\".format(round(df_pdb[\"rmsd_pdb\"].mean(),3),round(df_pdb[\"rmsd_pdb\"].std(),3)))\n",
    "sns.histplot(df_af2, x=\"rmsd_af2\", binwidth=0.01, alpha=0.75, kde=True, color='lightblue', label=\"AF2M2W: $\\mu = {}$, $\\sigma = {}$\".format(round(df_af2[\"rmsd_af2\"].mean(),3),round(df_af2[\"rmsd_af2\"].std(),3)))\n",
    "sns.histplot(df_mut2mut,x=\"rmsd\", binwidth=0.01, alpha=0.75, kde=True, color=\"lightyellow\", label=\"AF2M2M: $\\mu = {}$, $\\sigma = {}$\".format(round(df_mut2mut[\"rmsd\"].mean(),3),round(df_mut2mut[\"rmsd\"].std(),3)))\n",
    "sns.histplot(df_mut2wt, x=\"rmsd\", binwidth=0.01, alpha=0.75, kde=True, color='lightgreen', label=\"AF2M2W: $\\mu = {}$, $\\sigma = {}$\".format(round(df_mut2wt[\"rmsd\"].mean(),3),round(df_mut2wt[\"rmsd\"].std(),3)))\n",
    "\n",
    "plt.legend(fontsize=8)\n",
    "plt.title('P00720: RMSD calculated using ChimeraX Matchmaker',fontsize=8)\n",
    "\n",
    "plt.xlabel(\"RMSD [Å]\")\n",
    "plt.ylabel(\"Count\")\n",
    "plt.savefig(DATA_PATH_ROOT + \"/notebooks/figs/P00720_dis.pdf\")\n",
    "plt.show()"
   ]
  },
  {
   "cell_type": "code",
   "execution_count": 41,
   "id": "bdf9ab1b-982c-4496-9323-be0138814945",
   "metadata": {},
   "outputs": [],
   "source": [
    "# Define consts\n",
    "DATA_PATH_MUT_AF2_2wt = DATA_PATH_ROOT + '/data/results_rmsd/results_rmsd_af2/results_rmsd_P00720_mut2wt/'\n",
    "DATA_PATH_MUT_PDB_2mut = DATA_PATH_ROOT + '/data/results_rmsd/results_rmsd_af2/results_rmsd_P00720_mut2mut/'\n",
    "DATA_PATH_PDB = DATA_PATH_ROOT + '/data/arodz12/pdbs_P00720/'\n",
    "DATA_PATH_AF2 = DATA_PATH_ROOT + '/data/results_af2/P00720/'\n",
    "arodz_pdbs = ['1dya', '1dyb', '1dyc', '1dyd', '1dye', '1dyf', '1dyg', '1l00',\n",
    "       '1l02', '1l03', '1l05', '1l06', '1l07', '1l08', '1l09', '1l10',\n",
    "       '1l11', '1l12', '1l13', '1l14', '1l15', '1l16', '1l19', '1l20',\n",
    "       '1l21', '1l22', '1l23', '1l24', '1l25', '1l26', '1l27', '1l28',\n",
    "       '1l29', '1l30', '1l31', '1l32', '1l33', '1l34', '1l37', '1l38',\n",
    "       '1l44', '1l45', '1l46', '1l47', '1l48', '1l52', '1l53', '1l56',\n",
    "       '1l57', '1l58', '1l60', '1l69', '1l98', '1l99']\n",
    "# Get RMSDs\n",
    "#af2_rmsd_list_2wt, mut = load_rmsd(DATA_PATH_MUT_AF2_2wt, arodz_pdbs)\n",
    "pdb_rmsd_list_2mut, _ = load_rmsd(DATA_PATH_MUT_PDB_2mut, arodz_pdbs)\n",
    "dir_list = sorted(os.listdir(DATA_PATH_MUT_AF2_2wt))\n",
    "af2_rmsd_list_2wt = np.zeros(len(dir_list))\n",
    "mut_list = [0]*len(dir_list)\n",
    "for i in range(len(dir_list)):\n",
    "    df = pd.read_csv(DATA_PATH_MUT_AF2_2wt + dir_list[i])['rmsd'][0]\n",
    "    af2_rmsd_list_2wt[i] = df"
   ]
  },
  {
   "cell_type": "code",
   "execution_count": 42,
   "id": "615623a1-306f-4f00-9a1e-5d05f5a7a478",
   "metadata": {},
   "outputs": [
    {
     "name": "stdout",
     "output_type": "stream",
     "text": [
      "0.5055709948524781\n",
      "Pearson's correlation coefficient between data:  0.7702430672713338\n",
      "Spearman's correlation coefficient bewteen data:  0.7699256718124642\n"
     ]
    },
    {
     "data": {
      "text/plain": [
       "[0.7702430672713338, 0.7699256718124642]"
      ]
     },
     "execution_count": 42,
     "metadata": {},
     "output_type": "execute_result"
    },
    {
     "data": {
      "image/png": "[encoded data removed]",
      "text/plain": [
       "<Figure size 432x288 with 1 Axes>"
      ]
     },
     "metadata": {},
     "output_type": "display_data"
    }
   ],
   "source": [
    "# RMSD plot: AF2 vs. PDB\n",
    "fig, ax = plt.subplots()\n",
    "print(np.mean(pdb_rmsd_list_2mut))\n",
    "plt.ylabel('Wild-type RMSD [Å]',fontsize=8)\n",
    "plt.xlabel('Variant RMSD [Å]',fontsize=8)\n",
    "trend = np.polyfit(pdb_rmsd_list_2mut,af2_rmsd_list_2wt,1)\n",
    "trendpoly = np.poly1d(trend) \n",
    "plt.xlim([0.4, 0.65])\n",
    "plt.ylim([0.45, 0.6])\n",
    "plt.text(0.47, 0.54,'ρ = 0.77', size=12)\n",
    "plt.scatter(pdb_rmsd_list_2mut, af2_rmsd_list_2wt)\n",
    "plt.title('P00720: AF2 structures compared to crystal variant and crystal wt structures',fontsize=8)\n",
    "plt.plot(pdb_rmsd_list_2mut,trendpoly(pdb_rmsd_list_2mut), c='black')\n",
    "plt.savefig(DATA_PATH_ROOT + \"/notebooks/figs/rmsd_plot_P00720_af2_vs_mut_wt.pdf\", dpi=1200)\n",
    "correlations_vector(pdb_rmsd_list_2mut, af2_rmsd_list_2wt)"
   ]
  },
  {
   "cell_type": "code",
   "execution_count": 43,
   "id": "459bcd5d-054b-4f11-aee9-e117543c1813",
   "metadata": {},
   "outputs": [
    {
     "name": "stdout",
     "output_type": "stream",
     "text": [
      "0.1501993205385918\n",
      "0.14205071641945755\n"
     ]
    }
   ],
   "source": [
    "print(df_af2[\"rmsd_af2\"].mean())\n",
    "print(df_pdb['rmsd_pdb'].mean())"
   ]
  },
  {
   "cell_type": "code",
   "execution_count": 40,
   "id": "e74706a7-9e6d-44d9-97f5-2dec388d9aa6",
   "metadata": {},
   "outputs": [
    {
     "data": {
      "text/html": [
       "<div>\n",
       "<style scoped>\n",
       "    .dataframe tbody tr th:only-of-type {\n",
       "        vertical-align: middle;\n",
       "    }\n",
       "\n",
       "    .dataframe tbody tr th {\n",
       "        vertical-align: top;\n",
       "    }\n",
       "\n",
       "    .dataframe thead th {\n",
       "        text-align: right;\n",
       "    }\n",
       "</style>\n",
       "<table border=\"1\" class=\"dataframe\">\n",
       "  <thead>\n",
       "    <tr style=\"text-align: right;\">\n",
       "      <th></th>\n",
       "      <th>rmsd_pdb</th>\n",
       "    </tr>\n",
       "  </thead>\n",
       "  <tbody>\n",
       "    <tr>\n",
       "      <th>0</th>\n",
       "      <td>1.543003e-01</td>\n",
       "    </tr>\n",
       "    <tr>\n",
       "      <th>1</th>\n",
       "      <td>1.220695e-14</td>\n",
       "    </tr>\n",
       "    <tr>\n",
       "      <th>2</th>\n",
       "      <td>1.543003e-01</td>\n",
       "    </tr>\n",
       "    <tr>\n",
       "      <th>3</th>\n",
       "      <td>1.539666e-01</td>\n",
       "    </tr>\n",
       "    <tr>\n",
       "      <th>4</th>\n",
       "      <td>1.533662e-01</td>\n",
       "    </tr>\n",
       "    <tr>\n",
       "      <th>5</th>\n",
       "      <td>1.713034e-01</td>\n",
       "    </tr>\n",
       "    <tr>\n",
       "      <th>6</th>\n",
       "      <td>1.341971e-01</td>\n",
       "    </tr>\n",
       "    <tr>\n",
       "      <th>7</th>\n",
       "      <td>1.488999e-01</td>\n",
       "    </tr>\n",
       "    <tr>\n",
       "      <th>8</th>\n",
       "      <td>1.843102e-01</td>\n",
       "    </tr>\n",
       "    <tr>\n",
       "      <th>9</th>\n",
       "      <td>2.568039e-01</td>\n",
       "    </tr>\n",
       "    <tr>\n",
       "      <th>10</th>\n",
       "      <td>8.541935e-02</td>\n",
       "    </tr>\n",
       "    <tr>\n",
       "      <th>11</th>\n",
       "      <td>1.277074e-01</td>\n",
       "    </tr>\n",
       "    <tr>\n",
       "      <th>12</th>\n",
       "      <td>1.030786e-01</td>\n",
       "    </tr>\n",
       "    <tr>\n",
       "      <th>13</th>\n",
       "      <td>9.810608e-02</td>\n",
       "    </tr>\n",
       "    <tr>\n",
       "      <th>14</th>\n",
       "      <td>7.515602e-02</td>\n",
       "    </tr>\n",
       "    <tr>\n",
       "      <th>15</th>\n",
       "      <td>6.805436e-02</td>\n",
       "    </tr>\n",
       "    <tr>\n",
       "      <th>16</th>\n",
       "      <td>7.478731e-02</td>\n",
       "    </tr>\n",
       "    <tr>\n",
       "      <th>17</th>\n",
       "      <td>1.061318e-01</td>\n",
       "    </tr>\n",
       "    <tr>\n",
       "      <th>18</th>\n",
       "      <td>7.793385e-02</td>\n",
       "    </tr>\n",
       "    <tr>\n",
       "      <th>19</th>\n",
       "      <td>6.789503e-02</td>\n",
       "    </tr>\n",
       "    <tr>\n",
       "      <th>20</th>\n",
       "      <td>7.480278e-02</td>\n",
       "    </tr>\n",
       "    <tr>\n",
       "      <th>21</th>\n",
       "      <td>7.379783e-02</td>\n",
       "    </tr>\n",
       "    <tr>\n",
       "      <th>22</th>\n",
       "      <td>6.761811e-02</td>\n",
       "    </tr>\n",
       "    <tr>\n",
       "      <th>23</th>\n",
       "      <td>1.430938e-01</td>\n",
       "    </tr>\n",
       "    <tr>\n",
       "      <th>24</th>\n",
       "      <td>1.274493e-01</td>\n",
       "    </tr>\n",
       "    <tr>\n",
       "      <th>25</th>\n",
       "      <td>1.476224e-01</td>\n",
       "    </tr>\n",
       "    <tr>\n",
       "      <th>26</th>\n",
       "      <td>1.550084e-01</td>\n",
       "    </tr>\n",
       "    <tr>\n",
       "      <th>27</th>\n",
       "      <td>1.908197e-01</td>\n",
       "    </tr>\n",
       "    <tr>\n",
       "      <th>28</th>\n",
       "      <td>1.391859e-01</td>\n",
       "    </tr>\n",
       "    <tr>\n",
       "      <th>29</th>\n",
       "      <td>1.323954e-01</td>\n",
       "    </tr>\n",
       "    <tr>\n",
       "      <th>30</th>\n",
       "      <td>1.987983e-01</td>\n",
       "    </tr>\n",
       "    <tr>\n",
       "      <th>31</th>\n",
       "      <td>9.103698e-02</td>\n",
       "    </tr>\n",
       "    <tr>\n",
       "      <th>32</th>\n",
       "      <td>1.659036e-01</td>\n",
       "    </tr>\n",
       "    <tr>\n",
       "      <th>33</th>\n",
       "      <td>1.490634e-01</td>\n",
       "    </tr>\n",
       "    <tr>\n",
       "      <th>34</th>\n",
       "      <td>1.385028e-01</td>\n",
       "    </tr>\n",
       "    <tr>\n",
       "      <th>35</th>\n",
       "      <td>1.722730e-01</td>\n",
       "    </tr>\n",
       "    <tr>\n",
       "      <th>36</th>\n",
       "      <td>1.654227e-01</td>\n",
       "    </tr>\n",
       "    <tr>\n",
       "      <th>37</th>\n",
       "      <td>1.704900e-01</td>\n",
       "    </tr>\n",
       "    <tr>\n",
       "      <th>38</th>\n",
       "      <td>1.505862e-01</td>\n",
       "    </tr>\n",
       "    <tr>\n",
       "      <th>39</th>\n",
       "      <td>1.736729e-01</td>\n",
       "    </tr>\n",
       "    <tr>\n",
       "      <th>40</th>\n",
       "      <td>1.466902e-01</td>\n",
       "    </tr>\n",
       "    <tr>\n",
       "      <th>41</th>\n",
       "      <td>1.308050e-01</td>\n",
       "    </tr>\n",
       "    <tr>\n",
       "      <th>42</th>\n",
       "      <td>1.576270e-01</td>\n",
       "    </tr>\n",
       "    <tr>\n",
       "      <th>43</th>\n",
       "      <td>1.534089e-01</td>\n",
       "    </tr>\n",
       "    <tr>\n",
       "      <th>44</th>\n",
       "      <td>1.561004e-01</td>\n",
       "    </tr>\n",
       "    <tr>\n",
       "      <th>45</th>\n",
       "      <td>1.633874e-01</td>\n",
       "    </tr>\n",
       "    <tr>\n",
       "      <th>46</th>\n",
       "      <td>2.025420e-01</td>\n",
       "    </tr>\n",
       "    <tr>\n",
       "      <th>47</th>\n",
       "      <td>1.406346e-01</td>\n",
       "    </tr>\n",
       "    <tr>\n",
       "      <th>48</th>\n",
       "      <td>3.144829e-01</td>\n",
       "    </tr>\n",
       "    <tr>\n",
       "      <th>49</th>\n",
       "      <td>1.761575e-01</td>\n",
       "    </tr>\n",
       "    <tr>\n",
       "      <th>50</th>\n",
       "      <td>1.660486e-01</td>\n",
       "    </tr>\n",
       "    <tr>\n",
       "      <th>51</th>\n",
       "      <td>1.627114e-01</td>\n",
       "    </tr>\n",
       "    <tr>\n",
       "      <th>52</th>\n",
       "      <td>2.084041e-01</td>\n",
       "    </tr>\n",
       "    <tr>\n",
       "      <th>53</th>\n",
       "      <td>1.684778e-01</td>\n",
       "    </tr>\n",
       "  </tbody>\n",
       "</table>\n",
       "</div>"
      ],
      "text/plain": [
       "        rmsd_pdb\n",
       "0   1.543003e-01\n",
       "1   1.220695e-14\n",
       "2   1.543003e-01\n",
       "3   1.539666e-01\n",
       "4   1.533662e-01\n",
       "5   1.713034e-01\n",
       "6   1.341971e-01\n",
       "7   1.488999e-01\n",
       "8   1.843102e-01\n",
       "9   2.568039e-01\n",
       "10  8.541935e-02\n",
       "11  1.277074e-01\n",
       "12  1.030786e-01\n",
       "13  9.810608e-02\n",
       "14  7.515602e-02\n",
       "15  6.805436e-02\n",
       "16  7.478731e-02\n",
       "17  1.061318e-01\n",
       "18  7.793385e-02\n",
       "19  6.789503e-02\n",
       "20  7.480278e-02\n",
       "21  7.379783e-02\n",
       "22  6.761811e-02\n",
       "23  1.430938e-01\n",
       "24  1.274493e-01\n",
       "25  1.476224e-01\n",
       "26  1.550084e-01\n",
       "27  1.908197e-01\n",
       "28  1.391859e-01\n",
       "29  1.323954e-01\n",
       "30  1.987983e-01\n",
       "31  9.103698e-02\n",
       "32  1.659036e-01\n",
       "33  1.490634e-01\n",
       "34  1.385028e-01\n",
       "35  1.722730e-01\n",
       "36  1.654227e-01\n",
       "37  1.704900e-01\n",
       "38  1.505862e-01\n",
       "39  1.736729e-01\n",
       "40  1.466902e-01\n",
       "41  1.308050e-01\n",
       "42  1.576270e-01\n",
       "43  1.534089e-01\n",
       "44  1.561004e-01\n",
       "45  1.633874e-01\n",
       "46  2.025420e-01\n",
       "47  1.406346e-01\n",
       "48  3.144829e-01\n",
       "49  1.761575e-01\n",
       "50  1.660486e-01\n",
       "51  1.627114e-01\n",
       "52  2.084041e-01\n",
       "53  1.684778e-01"
      ]
     },
     "execution_count": 40,
     "metadata": {},
     "output_type": "execute_result"
    }
   ],
   "source": [
    "df_pdb"
   ]
  },
  {
   "cell_type": "code",
   "execution_count": null,
   "id": "093c769b-3261-462e-9566-47049bd11898",
   "metadata": {},
   "outputs": [],
   "source": []
  }
 ],
 "metadata": {
  "kernelspec": {
   "display_name": "Python 3 (ipykernel)",
   "language": "python",
   "name": "python3"
  },
  "language_info": {
   "codemirror_mode": {
    "name": "ipython",
    "version": 3
   },
   "file_extension": ".py",
   "mimetype": "text/x-python",
   "name": "python",
   "nbconvert_exporter": "python",
   "pygments_lexer": "ipython3",
   "version": "3.9.12"
  }
 },
 "nbformat": 4,
 "nbformat_minor": 5
}
