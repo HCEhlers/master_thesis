{
 "cells": [
  {
   "cell_type": "code",
   "execution_count": 1,
   "id": "8d8e684e",
   "metadata": {},
   "outputs": [],
   "source": [
    "import os, sys\n",
    "import pandas as pd\n",
    "import urllib.request\n",
    "import numpy as np\n",
    "import matplotlib.pyplot as plt\n",
    "import seaborn as sns\n",
    "import mdtraj as md\n",
    "import scipy as sp"
   ]
  },
  {
   "cell_type": "code",
   "execution_count": 2,
   "id": "e036d488-467c-4f3f-a822-11bc91c78be5",
   "metadata": {},
   "outputs": [],
   "source": [
    "#Use this method if running from the notebooks folder otherwise comment out the following change:\n",
    "os.chdir('../..')\n",
    "cwd = os.getcwd()\n",
    "DATA_PATH_ROOT = cwd\n",
    "DATA_PATH = DATA_PATH_ROOT + '/data/arodz12/'\n",
    "UNIPROT_ID = 'P00698'\n",
    "DF_WT_SEQS = pd.read_csv(DATA_PATH + 'pw_dist_rmsd/' + UNIPROT_ID + '_wt.result')\n",
    "PDBS = DF_WT_SEQS['pdb_id']\n",
    "pdb_list = PDBS.tolist()[0:100] # Only using 100 out of 752\n",
    "sns.set_style(\"darkgrid\")"
   ]
  },
  {
   "cell_type": "code",
   "execution_count": 3,
   "id": "88d8c7a5-16b6-43b2-822e-d44145cd5c65",
   "metadata": {},
   "outputs": [],
   "source": [
    "# Define functions\n",
    "def get_chi1_angles(pdb):\n",
    "        pdb = md.load_pdb(pdb)\n",
    "        topology = pdb.topology\n",
    "        table, bonds = topology.to_dataframe()\n",
    "        ch1_pos, ch1_rad = md.compute_chi1(pdb)[0], md.compute_chi1(pdb)[1]\n",
    "        chi_1_angles = np.degrees(ch1_rad)\n",
    "        res = [table['resName'][ch1_pos[res][-1]] for res in range(len(ch1_pos))]\n",
    "        n = [table['resSeq'][ch1_pos[res][-1]] for res in range(len(ch1_pos))]\n",
    "        pos = [list(a) for a in zip(n,res)]\n",
    "        return chi_1_angles, pos\n",
    "    \n",
    "def compile_angles_pdb(path):\n",
    "    filenames = list()\n",
    "    dir_list = sorted(os.listdir(path))\n",
    "    angles_list = list()\n",
    "    pos_list = list()\n",
    "    for i in range(1,len(dir_list)):\n",
    "        chi1_angle, pos = get_chi1_angles(path + dir_list[i])\n",
    "        chi1_angle = chi1_angle.squeeze()\n",
    "        angles_list.append(chi1_angle)\n",
    "        filenames.append(dir_list[i])\n",
    "        pdb = md.load_pdb(path + dir_list[i])\n",
    "        topology = pdb.topology\n",
    "        table, bonds = topology.to_dataframe()\n",
    "        pos_list.append(pos)\n",
    "    return angles_list, filenames, pos_list\n",
    "\n",
    "# Load torsion angles for af 2\n",
    "def compile_angles_af2(path, pdbs):\n",
    "    filenames = list()\n",
    "    dir_list = sorted(os.listdir(path))\n",
    "    angles_list = list()\n",
    "    pos_list = list()\n",
    "    for k in range(len(dir_list)):\n",
    "        for pdb in pdbs:\n",
    "            if pdb in dir_list[k]:\n",
    "                tmp_dir_list = os.listdir(path + '/' + dir_list[k])    \n",
    "                pdb_file = [file for file in  tmp_dir_list if 'rank_1' in file and '.pdb' in file] \n",
    "                filenames.append(pdb_file[0])\n",
    "                chi1_angle, pos = get_chi1_angles(path + '/' + dir_list[k] + '/' + pdb_file[0])\n",
    "                chi1_angle = chi1_angle.squeeze()\n",
    "                angles_list.append(chi1_angle)\n",
    "                pos_list.append(pos)\n",
    "    return angles_list, filenames, pos_list\n",
    "\n",
    "def circ_meanscatter_plot(x_ls,y_ls):\n",
    "    \n",
    "    X = np.asarray(x_ls).ravel()\n",
    "    X[X <= -120] += 360\n",
    "    Y, Y_means = conv_to_np_arr_new(y_ls)\n",
    "    print(X.shape, Y_means.shape)\n",
    "    #values = np.vstack((X, Y))\n",
    "    #kernel = gaussian_kde(values)\n",
    "    #kde = kernel.evaluate(values)\n",
    "    #norm = Normalize(vmin=kde.min(), vmax=kde.max())\n",
    "    #colors = cm.ScalarMappable(norm=norm, cmap='viridis_r').to_rgba(kde)\n",
    "    plt.title('P00698',fontsize=12)\n",
    "    plt.xlabel('$\\chi_1$ AF2 [$^\\circ$]',fontsize=12)\n",
    "    plt.ylabel('$\\chi_1$ X-ray [$^\\circ$]',fontsize=12)\n",
    "    plt.xlim(-120,250)\n",
    "    plt.ylim(-120,250)\n",
    "    trend = np.polyfit(X,Y_means,1)\n",
    "    trendpoly = np.poly1d(trend) \n",
    "    plt.scatter(X, Y_means)#, c=colors)\n",
    "    plt.plot(X,trendpoly(X), c='black', label = 'ρ = 0.90')\n",
    "    plt.legend(fontsize=14, loc=\"upper left\")\n",
    "    plt.legend(fontsize=14, loc=\"upper left\")\n",
    "    plt.savefig(DATA_PATH_ROOT + \"/notebooks/figs/chi1_plot_P00698-wt.png\", dpi=1200)\n",
    "    \n",
    "    print(X.shape, Y_means.shape)\n",
    "    return correlations_vector(X, Y_means)\n",
    "\n",
    "def conv_to_np_arr_new(list_angles):\n",
    "    mean_angles = np.array([])\n",
    "    max_val = 105 #max(len(elem) for elem in list_angles)\n",
    "    tmp_list = list()\n",
    "    if len(list_angles) != 105:\n",
    "        for i in range(len(list_angles)):\n",
    "            len_ls = len(list_angles[i])\n",
    "            if len_ls > 105:\n",
    "                continue\n",
    "            elif len_ls <= max_val:\n",
    "                arr_2nan = np.empty((1,max_val-len_ls))\n",
    "                arr_2nan[:] = 0\n",
    "                list_angles[i] = np.append(list_angles[i],arr_2nan)\n",
    "                tmp_list.append(list_angles[i])\n",
    "    \n",
    "    list_angles = tmp_list\n",
    "    degs =  np.vstack((list_angles))\n",
    "    #print('here here: ', degs[degs < -120])\n",
    "    av_sin = np.mean(np.sin(degs * np.pi / 180.),axis=0)\n",
    "    av_cos = np.mean(np.cos(degs * np.pi / 180.),axis=0)\n",
    "    mean_angles = np.rad2deg(np.arctan2(av_sin,av_cos))\n",
    "    mean_angles[mean_angles <= -120] += 360\n",
    "    return list_angles, mean_angles\n",
    "\n",
    "def correlations_vector(score1, score2):\n",
    "    # Declaring y and x to append mave_data comp_data, respectively.\n",
    "    y=[]; x=[]\n",
    "    # Looping through NaNs and inly appending non NaNs to y and x\n",
    "    for i in range(score1.shape[0]):\n",
    "        if np.isnan(score1[i]) or np.isnan(score2[i]):\n",
    "            pass\n",
    "        else:\n",
    "            x.append(float(score1[i]))\n",
    "            y.append(float(score2[i]))\n",
    "    # Converting to np arrays and calculating pearson and spearman correalation.\n",
    "    x=np.array(x)\n",
    "    y=np.array(y)\n",
    "    r=sp.stats.pearsonr(x,y)\n",
    "    s,p=sp.stats.spearmanr(x,y)\n",
    "    print(\"Pearson's correlation coefficient between data: \",abs(r[0]))\n",
    "    print(\"Spearman's correlation coefficient bewteen data: \" ,abs(s))\n",
    "\n",
    "    return [abs(r[0]),abs(s)]"
   ]
  },
  {
   "cell_type": "code",
   "execution_count": 4,
   "id": "f2cb0c67",
   "metadata": {},
   "outputs": [],
   "source": [
    "def download_pdb(pdbcode, datadir, downloadurl=\"https://files.rcsb.org/download/\"):\n",
    "    \"\"\"\n",
    "    Downloads a PDB file from the Internet and saves it in a data directory.\n",
    "    :param pdbcode: The standard PDB ID e.g. '3ICB' or '3icb'\n",
    "    :param datadir: The directory where the downloaded file will be saved\n",
    "    :param downloadurl: The base PDB download URL, cf.\n",
    "        `https://www.rcsb.org/pages/download/http#structures` for details\n",
    "    :return: the full path to the downloaded PDB file or None if something went wrong\n",
    "    \"\"\"\n",
    "    pdbfn = pdbcode + \".pdb\"\n",
    "    url = downloadurl + pdbfn\n",
    "    outfnm = os.path.join(datadir, pdbfn)\n",
    "    try:\n",
    "        urllib.request.urlretrieve(url, outfnm)\n",
    "        return outfnm\n",
    "    except Exception as err:\n",
    "        print(str(err), file=sys.stderr)\n",
    "        return None\n"
   ]
  },
  {
   "cell_type": "code",
   "execution_count": 5,
   "id": "d15998b6",
   "metadata": {},
   "outputs": [],
   "source": [
    "# Downlaod structures\n",
    "#for i in range(len(pdb_list)): # exclude NaN [-1]\n",
    "#    print(i, pdb_list[i])\n",
    "#    download_pdb(pdb_list[i], DATA_PATH + 'pdbs_wt_P00698/')"
   ]
  },
  {
   "cell_type": "code",
   "execution_count": 6,
   "id": "aeb5152f",
   "metadata": {},
   "outputs": [
    {
     "data": {
      "text/html": [
       "<div>\n",
       "<style scoped>\n",
       "    .dataframe tbody tr th:only-of-type {\n",
       "        vertical-align: middle;\n",
       "    }\n",
       "\n",
       "    .dataframe tbody tr th {\n",
       "        vertical-align: top;\n",
       "    }\n",
       "\n",
       "    .dataframe thead th {\n",
       "        text-align: right;\n",
       "    }\n",
       "</style>\n",
       "<table border=\"1\" class=\"dataframe\">\n",
       "  <thead>\n",
       "    <tr style=\"text-align: right;\">\n",
       "      <th></th>\n",
       "      <th>rmsd</th>\n",
       "    </tr>\n",
       "  </thead>\n",
       "  <tbody>\n",
       "    <tr>\n",
       "      <th>0</th>\n",
       "      <td>0.219778</td>\n",
       "    </tr>\n",
       "    <tr>\n",
       "      <th>1</th>\n",
       "      <td>0.793534</td>\n",
       "    </tr>\n",
       "    <tr>\n",
       "      <th>2</th>\n",
       "      <td>0.284272</td>\n",
       "    </tr>\n",
       "    <tr>\n",
       "      <th>3</th>\n",
       "      <td>0.727697</td>\n",
       "    </tr>\n",
       "    <tr>\n",
       "      <th>4</th>\n",
       "      <td>0.722666</td>\n",
       "    </tr>\n",
       "    <tr>\n",
       "      <th>...</th>\n",
       "      <td>...</td>\n",
       "    </tr>\n",
       "    <tr>\n",
       "      <th>744</th>\n",
       "      <td>0.707392</td>\n",
       "    </tr>\n",
       "    <tr>\n",
       "      <th>745</th>\n",
       "      <td>0.811536</td>\n",
       "    </tr>\n",
       "    <tr>\n",
       "      <th>746</th>\n",
       "      <td>0.737028</td>\n",
       "    </tr>\n",
       "    <tr>\n",
       "      <th>747</th>\n",
       "      <td>0.729259</td>\n",
       "    </tr>\n",
       "    <tr>\n",
       "      <th>748</th>\n",
       "      <td>0.738112</td>\n",
       "    </tr>\n",
       "  </tbody>\n",
       "</table>\n",
       "<p>749 rows × 1 columns</p>\n",
       "</div>"
      ],
      "text/plain": [
       "         rmsd\n",
       "0    0.219778\n",
       "1    0.793534\n",
       "2    0.284272\n",
       "3    0.727697\n",
       "4    0.722666\n",
       "..        ...\n",
       "744  0.707392\n",
       "745  0.811536\n",
       "746  0.737028\n",
       "747  0.729259\n",
       "748  0.738112\n",
       "\n",
       "[749 rows x 1 columns]"
      ]
     },
     "execution_count": 6,
     "metadata": {},
     "output_type": "execute_result"
    }
   ],
   "source": [
    "DF_WT_RMSD = pd.read_csv(DATA_PATH + 'pw_dist_rmsd/' + 'rmsd_wt_' + UNIPROT_ID + '.csv')\n",
    "DF_WT_RMSD"
   ]
  },
  {
   "cell_type": "code",
   "execution_count": 7,
   "id": "b2944377",
   "metadata": {},
   "outputs": [
    {
     "data": {
      "text/plain": [
       "<AxesSubplot:xlabel='rmsd', ylabel='Count'>"
      ]
     },
     "execution_count": 7,
     "metadata": {},
     "output_type": "execute_result"
    },
    {
     "data": {
      "image/png": "[encoded data removed]",
      "text/plain": [
       "<Figure size 432x288 with 1 Axes>"
      ]
     },
     "metadata": {},
     "output_type": "display_data"
    }
   ],
   "source": [
    "sns.histplot(DF_WT_RMSD, x=\"rmsd\", binwidth=0.05, alpha=0.75, kde=True, color='lightblue', label=\"WT: $\\mu = {}$, $\\sigma = {}$\".format(round(DF_WT_RMSD[\"rmsd\"].mean(),3),round(DF_WT_RMSD[\"rmsd\"].std(),3)))"
   ]
  },
  {
   "cell_type": "code",
   "execution_count": 8,
   "id": "aaea2c6e",
   "metadata": {},
   "outputs": [
    {
     "data": {
      "image/png": "[encoded data removed]",
      "text/plain": [
       "<Figure size 432x288 with 1 Axes>"
      ]
     },
     "metadata": {},
     "output_type": "display_data"
    },
    {
     "data": {
      "text/plain": [
       "array([0.0119945 , 0.01296652, 0.01321584, ..., 1.1503332 , 1.18001358,\n",
       "       1.18631404])"
      ]
     },
     "execution_count": 8,
     "metadata": {},
     "output_type": "execute_result"
    }
   ],
   "source": [
    "W = np.load(DATA_PATH + 'pw_dist_rmsd/' + 'M_P00698_wt.npy')\n",
    "W_u = np.unique(np.triu(W, k=0))[1:]\n",
    "num_bins = 20 # <-- Change here - Specify total number of bins for histogram\n",
    "plt.hist(W_u.ravel(), bins=np.linspace(np.min(W_u), np.max(W_u), num=num_bins)) #<-- Change here.  Note the use of ravel.\n",
    "plt.show()\n",
    "W_u\n"
   ]
  },
  {
   "cell_type": "code",
   "execution_count": 9,
   "id": "dd0864e5-6eb1-4047-a551-93611b0492a6",
   "metadata": {},
   "outputs": [
    {
     "data": {
      "image/png": "[encoded data removed]",
      "text/plain": [
       "<Figure size 432x288 with 1 Axes>"
      ]
     },
     "metadata": {},
     "output_type": "display_data"
    },
    {
     "name": "stdout",
     "output_type": "stream",
     "text": [
      "[[ True  True  True]\n",
      " [ True  True  True]\n",
      " [ True  True  True]]\n",
      "[[0.         0.10386269 0.12536002]\n",
      " [0.         0.         0.11063878]\n",
      " [0.         0.         0.        ]]\n"
     ]
    }
   ],
   "source": [
    "M =np.load(DATA_PATH + 'pw_dist_rmsd/' + 'M_pair_P00698_mut.npy')\n",
    "M_u = np.unique(np.triu(M, k=0))[1:] # <-- Get upper triangle of symmetric matrix\n",
    "num_bins = 20 \n",
    "plt.hist(M_u.ravel(), bins=np.linspace(np.min(M_u), np.max(M_u), num=num_bins)) \n",
    "plt.show()\n",
    "print(np.triu(M,k=0) == np.triu(M,k=1))\n",
    "print(np.triu(M,k=1))"
   ]
  },
  {
   "cell_type": "code",
   "execution_count": 10,
   "id": "a4304bf7-7c85-4faf-9ae2-d4044a4571e5",
   "metadata": {},
   "outputs": [
    {
     "data": {
      "image/png": "[encoded data removed]",
      "text/plain": [
       "<Figure size 432x288 with 1 Axes>"
      ]
     },
     "metadata": {},
     "output_type": "display_data"
    },
    {
     "name": "stdout",
     "output_type": "stream",
     "text": [
      "0.33934897026821914\n"
     ]
    }
   ],
   "source": [
    "M =np.load(DATA_PATH + 'pw_dist_rmsd/' + 'M_pair_P00698_PDBA_mut.npy')\n",
    "M_u = np.unique(np.triu(M, k=0))[1:] # <-- Get upper triangle of symmetric matrix\n",
    "num_bins = 20 \n",
    "plt.hist(M_u.ravel(), bins=np.linspace(np.min(M_u), np.max(M_u), num=num_bins)) \n",
    "plt.show()\n",
    "print(np.mean(M_u))"
   ]
  },
  {
   "cell_type": "code",
   "execution_count": 11,
   "id": "be04c1ba-e7f1-4360-aa00-59dc45d544c0",
   "metadata": {},
   "outputs": [
    {
     "data": {
      "image/png": "[encoded data removed]",
      "text/plain": [
       "<Figure size 432x288 with 1 Axes>"
      ]
     },
     "metadata": {},
     "output_type": "display_data"
    }
   ],
   "source": [
    "M = np.load(DATA_PATH + 'pw_dist_rmsd/' + 'M_pair_P00698_mut.npy')\n",
    "M = np.load(DATA_PATH + 'pw_dist_rmsd/' + 'M_pair_P00698_PDBA_mut.npy')\n",
    "num_bins = 20  \n",
    "plt.hist(M.ravel(), bins=np.linspace(np.min(M), np.max(M), num=num_bins))\n",
    "plt.show()"
   ]
  },
  {
   "cell_type": "code",
   "execution_count": 12,
   "id": "dd3d66d2-4e39-4dd2-8a1b-ee80bf1a25ac",
   "metadata": {},
   "outputs": [
    {
     "data": {
      "image/png": "[encoded data removed]",
      "text/plain": [
       "<Figure size 432x288 with 1 Axes>"
      ]
     },
     "metadata": {},
     "output_type": "display_data"
    }
   ],
   "source": [
    "A =np.load(DATA_PATH + 'pw_dist_rmsd/' + 'M_pair_P00698_mut_af2.npy')\n",
    "num_bins = 20  \n",
    "plt.hist(A.ravel(), bins=np.linspace(np.min(A), np.max(A), num=num_bins))\n",
    "plt.show()"
   ]
  },
  {
   "cell_type": "code",
   "execution_count": 13,
   "id": "1383e606-b65f-426a-adbe-088e662c5263",
   "metadata": {},
   "outputs": [
    {
     "data": {
      "image/png": "[encoded data removed]",
      "text/plain": [
       "<Figure size 432x288 with 1 Axes>"
      ]
     },
     "metadata": {},
     "output_type": "display_data"
    }
   ],
   "source": [
    "df_W = pd.DataFrame(W.ravel(), columns=['rmsd'])\n",
    "df_M = pd.DataFrame(M.ravel(), columns=['rmsd'])\n",
    "df_A = pd.DataFrame(A.ravel(), columns=['rmsd'])\n",
    "sns.histplot(df_W, x=\"rmsd\", binwidth=0.1, alpha=0.7, kde=True, color='lightgreen', label=\"WT X-ray: $\\mu = {}$, $\\sigma = {}$\".format(round(df_W[\"rmsd\"].mean(),3),round(df_W[\"rmsd\"].std(),3)), stat = \"probability\")\n",
    "sns.histplot(df_M, x=\"rmsd\", binwidth=0.1, alpha=0.5, kde=True, color='grey', label=\"MUT X-ray: $\\mu = {}$, $\\sigma = {}$\".format(round(df_M[\"rmsd\"].mean(),3),round(df_M[\"rmsd\"].std(),3)), stat = \"probability\")\n",
    "sns.histplot(df_A, x=\"rmsd\", binwidth=0.1, alpha=0.5, kde=True, color='lightblue', label=\"MUT AF2: $\\mu = {}$, $\\sigma = {}$\".format(round(df_A[\"rmsd\"].mean(),3),round(df_A[\"rmsd\"].std(),3)), stat = \"probability\")\n",
    "\n",
    "plt.legend(fontsize=8)\n",
    "plt.title('P00698: RMSD calculated using ChimeraX Matchmaker',fontsize=8)\n",
    "plt.xlabel(\"RMSD for each pair [Å]\")\n",
    "plt.ylabel(\"Frequency\")\n",
    "\n",
    "plt.savefig(DATA_PATH_ROOT + \"/notebooks/figs/pairwise_wt_xray_mut_xray_mut_af2_P00698.pdf\")\n",
    "plt.show()"
   ]
  },
  {
   "cell_type": "code",
   "execution_count": 14,
   "id": "6e363f29-bb5f-43e3-aca6-477bc5904db9",
   "metadata": {},
   "outputs": [
    {
     "data": {
      "text/html": [
       "<div>\n",
       "<style scoped>\n",
       "    .dataframe tbody tr th:only-of-type {\n",
       "        vertical-align: middle;\n",
       "    }\n",
       "\n",
       "    .dataframe tbody tr th {\n",
       "        vertical-align: top;\n",
       "    }\n",
       "\n",
       "    .dataframe thead th {\n",
       "        text-align: right;\n",
       "    }\n",
       "</style>\n",
       "<table border=\"1\" class=\"dataframe\">\n",
       "  <thead>\n",
       "    <tr style=\"text-align: right;\">\n",
       "      <th></th>\n",
       "      <th>rmsd</th>\n",
       "    </tr>\n",
       "  </thead>\n",
       "  <tbody>\n",
       "    <tr>\n",
       "      <th>count</th>\n",
       "      <td>9.000000</td>\n",
       "    </tr>\n",
       "    <tr>\n",
       "      <th>mean</th>\n",
       "      <td>0.067360</td>\n",
       "    </tr>\n",
       "    <tr>\n",
       "      <th>std</th>\n",
       "      <td>0.053261</td>\n",
       "    </tr>\n",
       "    <tr>\n",
       "      <th>min</th>\n",
       "      <td>0.000000</td>\n",
       "    </tr>\n",
       "    <tr>\n",
       "      <th>25%</th>\n",
       "      <td>0.000000</td>\n",
       "    </tr>\n",
       "    <tr>\n",
       "      <th>50%</th>\n",
       "      <td>0.080458</td>\n",
       "    </tr>\n",
       "    <tr>\n",
       "      <th>75%</th>\n",
       "      <td>0.095477</td>\n",
       "    </tr>\n",
       "    <tr>\n",
       "      <th>max</th>\n",
       "      <td>0.127183</td>\n",
       "    </tr>\n",
       "  </tbody>\n",
       "</table>\n",
       "</div>"
      ],
      "text/plain": [
       "           rmsd\n",
       "count  9.000000\n",
       "mean   0.067360\n",
       "std    0.053261\n",
       "min    0.000000\n",
       "25%    0.000000\n",
       "50%    0.080458\n",
       "75%    0.095477\n",
       "max    0.127183"
      ]
     },
     "execution_count": 14,
     "metadata": {},
     "output_type": "execute_result"
    }
   ],
   "source": [
    "df_A.describe()"
   ]
  },
  {
   "cell_type": "code",
   "execution_count": 15,
   "id": "9d904092-8901-4141-8bdd-4195a28fe72b",
   "metadata": {},
   "outputs": [
    {
     "name": "stdout",
     "output_type": "stream",
     "text": [
      "(105,) (105,)\n",
      "(105,) (105,)\n",
      "Pearson's correlation coefficient between data:  0.8982592438763913\n",
      "Spearman's correlation coefficient bewteen data:  0.830354551109268\n"
     ]
    },
    {
     "data": {
      "text/plain": [
       "[0.8982592438763913, 0.830354551109268]"
      ]
     },
     "execution_count": 15,
     "metadata": {},
     "output_type": "execute_result"
    },
    {
     "data": {
      "image/png": "[encoded data removed]",
      "text/plain": [
       "<Figure size 432x288 with 1 Axes>"
      ]
     },
     "metadata": {},
     "output_type": "display_data"
    }
   ],
   "source": [
    "# Get chi 1 angles\n",
    "DATA_PATH_PDB_WT = DATA_PATH + 'pdbs_wt_P00698/'\n",
    "DATA_PATH_AF2_WT = DATA_PATH_ROOT + '/data/results_af2/P00698'\n",
    "\n",
    "wt = ['4lyz']\n",
    "chi_1_pdb, filenames_pdb, pos_pdb = compile_angles_pdb(DATA_PATH_PDB_WT)\n",
    "chi_1_af2, filenames_af2, pos_af2 = compile_angles_af2(DATA_PATH_AF2_WT,wt)\n",
    "\n",
    "# Plot chi_1 angles\n",
    "circ_meanscatter_plot(chi_1_af2, chi_1_pdb)"
   ]
  }
 ],
 "metadata": {
  "kernelspec": {
   "display_name": "Python 3 (ipykernel)",
   "language": "python",
   "name": "python3"
  },
  "language_info": {
   "codemirror_mode": {
    "name": "ipython",
    "version": 3
   },
   "file_extension": ".py",
   "mimetype": "text/x-python",
   "name": "python",
   "nbconvert_exporter": "python",
   "pygments_lexer": "ipython3",
   "version": "3.9.12"
  }
 },
 "nbformat": 4,
 "nbformat_minor": 5
}
