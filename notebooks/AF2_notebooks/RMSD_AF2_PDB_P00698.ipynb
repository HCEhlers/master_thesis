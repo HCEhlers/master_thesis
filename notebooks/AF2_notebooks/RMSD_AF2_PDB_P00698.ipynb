{
 "cells": [
  {
   "cell_type": "raw",
   "id": "033b531a-33af-40de-9e73-cb8bca46427d",
   "metadata": {},
   "source": [
    "---\n",
    "title: \"Comparing AF2 RMSD with PDB RMSD\"\n",
    "execute: \n",
    "  enabled: true\n",
    "format: pdf\n",
    "---"
   ]
  },
  {
   "cell_type": "code",
   "execution_count": 3,
   "id": "99ff9b01-ef75-4aca-8552-42e4433fa2f2",
   "metadata": {},
   "outputs": [],
   "source": [
    "import pandas as pd\n",
    "import numpy as np\n",
    "import os, sys\n",
    "import matplotlib.pyplot as plt\n",
    "from matplotlib.pyplot import gcf\n",
    "import seaborn as sns\n",
    "import scipy.stats\n",
    "from scipy.stats import gaussian_kde\n",
    "from matplotlib import cm\n",
    "from matplotlib.colors import Normalize\n",
    "from scipy import stats\n",
    "import urllib.request\n",
    "import mdtraj as md\n",
    "import scipy as sp\n",
    "sns.set_style(\"darkgrid\")"
   ]
  },
  {
   "cell_type": "code",
   "execution_count": 4,
   "id": "c2138c28-09a0-4603-9441-0f732ff90004",
   "metadata": {},
   "outputs": [
    {
     "name": "stdout",
     "output_type": "stream",
     "text": [
      "/Users/holger/Desktop/master_thesis\n"
     ]
    }
   ],
   "source": [
    "#Use this method if running from the notebooks folder otherwise comment out the following change:\n",
    "os.chdir('../..')\n",
    "\n",
    "cwd = os.getcwd()\n",
    "DATA_PATH_ROOT = cwd\n",
    "print(DATA_PATH_ROOT)\n",
    "DATA_PATH_MUT_AF2 = DATA_PATH_ROOT + '/data/results_rmsd/results_rmsd_af2/results_rmsd_P00698_mut/'\n",
    "DATA_PATH_MUT_PDB = DATA_PATH_ROOT + '/data/results_rmsd/results_rmsd_pdb/results_rmsd_P00698_mut/'\n",
    "DATA_PATH_PDB = DATA_PATH_ROOT + '/data/arodz12/pdbs_P00698/'\n",
    "DATA_PATH_PDB_WT= DATA_PATH_ROOT + '/data/arodz12/pdbs_wt_P00698/'\n",
    "DATA_PATH_AF2 = DATA_PATH_ROOT + '/data/results_af2/P00698/'\n",
    "DATA_PATH_MUT_2_MUT = DATA_PATH_ROOT + '/data/results_rmsd/results_rmsd_af2/results_rmsd_P00698_mut2mut/'\n",
    "DATA_PATH_MUT_2_WT = DATA_PATH_ROOT + '/data/results_rmsd/results_rmsd_af2/results_rmsd_P00698_mut2wt/'\n",
    "\n",
    "# PDBs in the dataset\n",
    "arodz_pdbs = ['1hem', '1heo', '1her']"
   ]
  },
  {
   "cell_type": "code",
   "execution_count": 5,
   "id": "c15af953-e406-4034-9ef2-74ba9d8d633c",
   "metadata": {},
   "outputs": [],
   "source": [
    "def get_chi1_angles(pdb):\n",
    "        pdb = md.load_pdb(pdb)\n",
    "        topology = pdb.topology\n",
    "        table, bonds = topology.to_dataframe()\n",
    "        ch1_pos, ch1_rad = md.compute_chi1(pdb)[0], md.compute_chi1(pdb)[1]\n",
    "        chi_1_angles = np.degrees(ch1_rad)\n",
    "        res = [table['resName'][ch1_pos[res][-1]] for res in range(len(ch1_pos))]\n",
    "        n = [table['resSeq'][ch1_pos[res][-1]] for res in range(len(ch1_pos))]\n",
    "        pos = [list(a) for a in zip(n,res)]\n",
    "        return chi_1_angles, pos\n",
    "\n",
    "def conv_to_np_arr_new(list_angles):\n",
    "    mean_angles = np.array([])\n",
    "    max_val = max(len(elem) for elem in list_angles)\n",
    "    print(max_val)\n",
    "    for i in range(len(list_angles)):\n",
    "        len_ls = len(list_angles[i])\n",
    "        if len_ls < max_val:\n",
    "            arr_2nan = np.empty((1,max_val-len_ls))\n",
    "            arr_2nan[:] = 0\n",
    "            list_angles[i] = np.append(list_angles[i],arr_2nan)\n",
    "        #for j in range(len_ls):\n",
    "            #if list_angles[i][j] <= -120:\n",
    "                #list_angles[i][j] += 360\n",
    "    degs =  np.vstack((list_angles))\n",
    "    #print('here here: ', degs[degs < -120])\n",
    "    av_sin = np.mean(np.sin(degs * np.pi / 180.),axis=0)\n",
    "    av_cos = np.mean(np.cos(degs * np.pi / 180.),axis=0)\n",
    "    mean_angles = np.rad2deg(np.arctan2(av_sin,av_cos))\n",
    "    mean_angles[mean_angles <= -120] += 360\n",
    "    return list_angles, mean_angles\n",
    "\n",
    "def conv_to_np_arr_old(list_angles):\n",
    "    max_val = max(len(elem) for elem in list_angles)\n",
    "    for i in range(len(list_angles)):\n",
    "        len_ls = len(list_angles[i])\n",
    "        if len_ls < max_val:\n",
    "            arr_2nan = np.empty((1,max_val-len_ls))\n",
    "            arr_2nan[:] = 0\n",
    "            list_angles[i] = np.append(list_angles[i],arr_2nan)\n",
    "    return list_angles\n",
    "\n",
    "# Correlation of Vector\n",
    "def correlations_vector(score1, score2):\n",
    "    # Declaring y and x to append mave_data comp_data, respectively.\n",
    "    y=[]; x=[]\n",
    "    # Looping through NaNs and inly appending non NaNs to y and x\n",
    "    for i in range(score1.shape[0]):\n",
    "        if np.isnan(score1[i]) or np.isnan(score2[i]):\n",
    "            pass\n",
    "        else:\n",
    "            x.append(float(score1[i]))\n",
    "            y.append(float(score2[i]))\n",
    "    # Converting to np arrays and calculating pearson and spearman correalation.\n",
    "    x=np.array(x)\n",
    "    y=np.array(y)\n",
    "    r=sp.stats.pearsonr(x,y)\n",
    "    s,p=sp.stats.spearmanr(x,y)\n",
    "    print(\"Pearson's correlation coefficient between data: \",abs(r[0]))\n",
    "    print(\"Spearman's correlation coefficient bewteen data: \" ,abs(s))\n",
    "\n",
    "    return [abs(r[0]),abs(s)]\n",
    "\n",
    "# Correlation of Matrix\n",
    "def correlations_matrix(score1, score2):\n",
    "    # Declaring y and x to append mave_data comp_data, respectively.\n",
    "    y=[]; x=[]\n",
    "\n",
    "    # Looping through NaNs and inly appending non NaNs to y and x\n",
    "    for i in range(score1.shape[0]):\n",
    "        for j in range(score1.shape[1]):\n",
    "            if np.isnan(score1[i,j]) or np.isnan(score2[i,j]):\n",
    "                pass\n",
    "            else:\n",
    "                x.append(float(score1[i,j]))\n",
    "                y.append(float(score2[i,j]))\n",
    "    # Converting to np arrays and calculating pearson and spearman correalation.\n",
    "    x=np.array(x)\n",
    "    y=np.array(y)\n",
    "    r=sp.stats.pearsonr(x,y)\n",
    "    s,p=sp.stats.spearmanr(x,y)\n",
    "    print(\"Pearson's correlation coefficient between data: \",abs(r[0]))\n",
    "    print(\"Spearman's correlation coefficient bewteen data: \" ,abs(s))\n",
    "\n",
    "    return [abs(r[0]),abs(s)]\n",
    "\n",
    "# Load RMSDs from file\n",
    "def load_rmsd(path, pdbs):\n",
    "    dir_list = sorted(os.listdir(path))\n",
    "    rmsd_list = np.zeros(len(dir_list))\n",
    "    mut_list = [0]*len(dir_list)\n",
    "    for i in range(len(dir_list)):\n",
    "        df = pd.read_csv(path + dir_list[i])['rmsd'][0]\n",
    "        rmsd_list[i] = df\n",
    "        if 'af2' in path:\n",
    "            df1 = pd.read_csv(path + dir_list[i])['mut'][0]\n",
    "            mut_list[i] = df1\n",
    "    return rmsd_list, mut_list\n",
    "\n",
    "# Load torsion angles for PDBs\n",
    "def compile_angles_pdb(path):\n",
    "    filenames = list()\n",
    "    dir_list = sorted(os.listdir(path))\n",
    "    angles_list = list()\n",
    "    pos_list = list()\n",
    "    for i in range(1,len(dir_list)):\n",
    "        chi1_angle, pos = get_chi1_angles(path + dir_list[i])\n",
    "        chi1_angle = chi1_angle.squeeze()\n",
    "        angles_list.append(chi1_angle)\n",
    "        filenames.append(dir_list[i])\n",
    "        pdb = md.load_pdb(path + dir_list[i])\n",
    "        topology = pdb.topology\n",
    "        table, bonds = topology.to_dataframe()\n",
    "        pos_list.append(pos)\n",
    "    return angles_list, filenames, pos_list\n",
    "\n",
    "# Load torsion angles for af 2\n",
    "def compile_angles_af2(path, pdbs):\n",
    "    filenames = list()\n",
    "    dir_list = sorted(os.listdir(path))\n",
    "    angles_list = list()\n",
    "    pos_list = list()\n",
    "    plddt_list = list()\n",
    "    for k in range(len(dir_list)):\n",
    "        for pdb in pdbs:\n",
    "            if pdb in dir_list[k]:\n",
    "                tmp_dir_list = os.listdir(path + '/' + dir_list[k])    \n",
    "                pdb_file = [file for file in  tmp_dir_list if 'rank_1' in file and '.pdb' in file]\n",
    "                # Read pLDDT scores\n",
    "                plddt_file = [file for file in  tmp_dir_list if 'rank_1' in file and '.json' in file]\n",
    "                plddt_df = pd.read_json(path + '/' + dir_list[k] + '/' + plddt_file[0])\n",
    "                plddt_ls = plddt_df['plddt'].tolist()\n",
    "                plddt_list.append(plddt_ls)\n",
    "                filenames.append(pdb_file[0])\n",
    "                chi1_angle, pos = get_chi1_angles(path + '/' + dir_list[k] + '/' + pdb_file[0])\n",
    "                chi1_angle = chi1_angle.squeeze()\n",
    "                angles_list.append(chi1_angle)\n",
    "                pos_list.append(pos)\n",
    "    return angles_list, filenames, pos_list, plddt_list\n",
    "\n",
    "def circ_meanscatter_plot(x_ls,y_ls, plddt):\n",
    "    X, X_means = conv_to_np_arr_new(x_ls)\n",
    "    Y, Y_means = conv_to_np_arr_new(y_ls)\n",
    "    \n",
    "    #fig = plt.figure()\n",
    "    plddt_mean = np.mean(plddt_indexed,axis=0)\n",
    "    #kernel = gaussian_kde(plddt_mean)\n",
    "    #kde = kernel.evaluate(plddt_mean)\n",
    "    #norm = Normalize(vmin=kde.min(), vmax=kde.max())\n",
    "    #colors = plt.cm.ScalarMappable(norm=norm, cmap='GnBu').to_rgba(kde)\n",
    "    colormap = plt.cm.get_cmap('GnBu') # 'plasma' or 'viridis'\n",
    "    colors = colormap(plddt_mean)    \n",
    "    \n",
    "    plt.title('P00698',fontsize=12)\n",
    "    plt.xlabel('$\\chi_1$ AF2 [$^\\circ$]',fontsize=12)\n",
    "    plt.ylabel('$\\chi_1$ X-ray [$^\\circ$]',fontsize=12)\n",
    "    plt.xlim(-120,250)\n",
    "    plt.ylim(-120,250)\n",
    "    trend = np.polyfit(X_means,Y_means,1)\n",
    "    trendpoly = np.poly1d(trend) \n",
    "    scatter_plot = plt.scatter(X_means, Y_means, vmin=0, vmax=X_means.max(), c=colors)\n",
    "    sm = plt.cm.ScalarMappable(cmap=colormap)\n",
    "    sm.set_clim(vmin=0, vmax=100)\n",
    "    plt.colorbar(sm, label='pLDDT')\n",
    "    plt.plot(X_means,trendpoly(X_means), c='black', label = 'ρ = 0.86')\n",
    "    plt.legend(fontsize=14, loc=\"upper left\")\n",
    "    plt.savefig(DATA_PATH_ROOT + \"/notebooks/figs/chi1_plot_P00698_wt.pdf\")\n",
    "    \n",
    "    print(X_means.shape, Y_means.shape)\n",
    "    return correlations_vector(X_means, Y_means)\n",
    "\n",
    "def scatter_plot(x_ls,y_ls):\n",
    "    X=np.stack(conv_to_np_arr_old(x_ls))\n",
    "    Y=np.stack(conv_to_np_arr_old(y_ls))\n",
    "    print(np.nanmean(X, axis=0))\n",
    "    values = np.vstack((np.nanmean(X, axis=0), np.nanmean(Y, axis=0)))\n",
    "    kernel = gaussian_kde(values)\n",
    "    kde = kernel.evaluate(values)\n",
    "    norm = Normalize(vmin=kde.min(), vmax=kde.max())\n",
    "    colors = cm.ScalarMappable(norm=norm, cmap='viridis_r').to_rgba(kde)\n",
    "    plt.title('P00698',fontsize=12)\n",
    "    plt.xlabel('$\\chi_1$ AF2 [$^\\circ$]',fontsize=12)\n",
    "    plt.ylabel('$\\chi_1$ X-ray [$^\\circ$]',fontsize=12)\n",
    "\n",
    "    trend = np.polyfit(np.nanmean(X, axis=0),np.nanmean(Y, axis=0),1)\n",
    "    trendpoly = np.poly1d(trend) \n",
    "    plt.scatter(np.nanmean(X, axis=0), np.nanmean(Y, axis=0), c=colors)\n",
    "    plt.plot(np.nanmean(X, axis=0),trendpoly(np.nanmean(X, axis=0)), c='black', label = 'ρ = 0.63')\n",
    "    plt.legend(fontsize=14, loc=\"upper left\")\n",
    "    plt.savefig(DATA_PATH_ROOT + \"/notebooks/figs/chi1_plot_P00698.png\", dpi=1200)\n",
    "    \n",
    "    return correlations_matrix(X, Y)\n",
    "\n",
    "def mean_plddt(path, pdbs):\n",
    "    filenames = list()\n",
    "    dir_list = sorted(os.listdir(path))\n",
    "    plddt_mean_ls = list()\n",
    "    for k in range(len(dir_list)):\n",
    "        for pdb in pdbs:\n",
    "            if pdb in dir_list[k]:\n",
    "                tmp_dir_list = os.listdir(path + '/' + dir_list[k])    \n",
    "                pdb_file = [file for file in  tmp_dir_list if 'rank_1' in file and '.pdb' in file]\n",
    "                # Read pLDDT scores\n",
    "                plddt_file = [file for file in  tmp_dir_list if 'rank_1' in file and '.json' in file]\n",
    "                print(plddt_file[0])\n",
    "                plddt_df = pd.read_json(path + '/' + dir_list[k] + '/' + plddt_file[0])\n",
    "                plddt_ls = plddt_df['plddt'].mean()\n",
    "                plddt_mean_ls.append(plddt_ls)\n",
    "                filenames.append(pdb_file[0])\n",
    "    mean_arr = np.asarray(plddt_mean_ls)\n",
    "    mean = np.mean(plddt_mean_ls)\n",
    "    return mean"
   ]
  },
  {
   "cell_type": "code",
   "execution_count": 6,
   "id": "da2398a8-88b4-4043-bbc7-b370f10e1244",
   "metadata": {},
   "outputs": [],
   "source": [
    "# Get RMSDs\n",
    "mut_2_mut_rmsd_list, mut = load_rmsd(DATA_PATH_MUT_2_MUT, arodz_pdbs)\n",
    "mut_2_wt_rmsd_list, mut = load_rmsd(DATA_PATH_MUT_2_WT, arodz_pdbs)\n",
    "\n",
    "\n",
    "# Get RMSDs\n",
    "af2_rmsd_list, mut = load_rmsd(DATA_PATH_MUT_AF2, arodz_pdbs)\n",
    "pdb_rmsd_list, _ = load_rmsd(DATA_PATH_MUT_PDB, arodz_pdbs)\n",
    "\n",
    "# Get chi 1 angles\n",
    "chi_1_pdb, filenames_pdb, pos_pdb = compile_angles_pdb(DATA_PATH_PDB)\n",
    "chi_1_pdb_wt, filenames_pdb_wt, pos_pdb_wt = compile_angles_pdb(DATA_PATH_PDB_WT)\n",
    "chi_1_pdb_wt_ls = []\n",
    "for i in range(len(chi_1_pdb_wt)):\n",
    "    if len(chi_1_pdb_wt[i]) == 105:\n",
    "        chi_1_pdb_wt_ls.append(chi_1_pdb_wt[i])\n",
    "        \n",
    "\n",
    "chi_1_af2, filenames_af2, pos_af2, plddt = compile_angles_af2(DATA_PATH_AF2,arodz_pdbs)"
   ]
  },
  {
   "cell_type": "code",
   "execution_count": 7,
   "id": "4af2660f-9468-45b3-b15a-ed04467d6674",
   "metadata": {},
   "outputs": [
    {
     "name": "stdout",
     "output_type": "stream",
     "text": [
      "P00698_1hem_8d87a_unrelaxed_rank_1_model_5_scores.json\n",
      "P00698_1heo_7d404_unrelaxed_rank_1_model_5_scores.json\n",
      "P00698_1her_d5821_unrelaxed_rank_1_model_5_scores.json\n"
     ]
    }
   ],
   "source": [
    "mean_plddt_r = mean_plddt(DATA_PATH_AF2,arodz_pdbs)"
   ]
  },
  {
   "cell_type": "code",
   "execution_count": 8,
   "id": "21cd5bd8-5983-4df5-a3cb-0044f4c5088f",
   "metadata": {},
   "outputs": [
    {
     "data": {
      "text/plain": [
       "98.161"
      ]
     },
     "execution_count": 8,
     "metadata": {},
     "output_type": "execute_result"
    }
   ],
   "source": [
    "round(mean_plddt_r,3)"
   ]
  },
  {
   "cell_type": "code",
   "execution_count": 9,
   "id": "3ff959b1-8583-45bf-86be-fc951f541846",
   "metadata": {},
   "outputs": [
    {
     "data": {
      "text/plain": [
       "array([], dtype=float64)"
      ]
     },
     "execution_count": 9,
     "metadata": {},
     "output_type": "execute_result"
    }
   ],
   "source": [
    "pdb_rmsd_list[pdb_rmsd_list > 1.4]"
   ]
  },
  {
   "cell_type": "code",
   "execution_count": 7,
   "id": "fec46e14-e92a-496f-9a56-d0d63eb43f9f",
   "metadata": {},
   "outputs": [
    {
     "name": "stdout",
     "output_type": "stream",
     "text": [
      "Pearson's correlation coefficient between data:  0.8898530161236589\n",
      "Spearman's correlation coefficient bewteen data:  0.5\n"
     ]
    },
    {
     "data": {
      "text/plain": [
       "[0.8898530161236589, 0.5]"
      ]
     },
     "execution_count": 7,
     "metadata": {},
     "output_type": "execute_result"
    },
    {
     "data": {
      "image/png": "[encoded data removed]",
      "text/plain": [
       "<Figure size 432x288 with 1 Axes>"
      ]
     },
     "metadata": {},
     "output_type": "display_data"
    }
   ],
   "source": [
    "# RMSD plot: AF2 vs. PDB\n",
    "plt.ylabel('Variant RMSD [Å]',fontsize=8)\n",
    "plt.xlabel('Wild-type RMSD [Å]',fontsize=8)\n",
    "\n",
    "plt.scatter(mut_2_wt_rmsd_list, mut_2_mut_rmsd_list)\n",
    "#plt.xlim(0.3,0.75)\n",
    "#plt.ylim(0.3,0.75)\n",
    "plt.savefig(DATA_PATH_ROOT + \"/notebooks/figs/P00698_dis_scatter.png\", dpi=1200)\n",
    "correlations_vector(mut_2_wt_rmsd_list, mut_2_mut_rmsd_list)"
   ]
  },
  {
   "cell_type": "code",
   "execution_count": 8,
   "id": "ee6ed430-81f0-4383-984e-f3fd9c3b2bc9",
   "metadata": {},
   "outputs": [
    {
     "name": "stdout",
     "output_type": "stream",
     "text": [
      "[\"['S91T']\", \"['I55V']\", \"['T40S']\"]\n",
      "30\n",
      "Pearson's correlation coefficient between data:  0.11658239546244947\n",
      "Spearman's correlation coefficient bewteen data:  0.5\n"
     ]
    },
    {
     "data": {
      "text/plain": [
       "[0.11658239546244947, 0.5]"
      ]
     },
     "execution_count": 8,
     "metadata": {},
     "output_type": "execute_result"
    },
    {
     "data": {
      "image/png": "[encoded data removed]",
      "text/plain": [
       "<Figure size 432x288 with 1 Axes>"
      ]
     },
     "metadata": {},
     "output_type": "display_data"
    }
   ],
   "source": [
    "chi_1_af2_mean = []\n",
    "chi_1_pdb_mean = []\n",
    "rsn_N = list()\n",
    "for i in range(len(filenames_af2)):\n",
    "    rsn_N.append(mut[i])\n",
    "    chi_1_af2_mean.append(np.mean(chi_1_af2[i]))\n",
    "    chi_1_pdb_mean.append(np.mean(chi_1_pdb[i]))\n",
    "\n",
    "print(rsn_N)\n",
    "for i in range(len(pos_af2[2])):\n",
    "    if pos_af2[2][i][0] == int(rsn_N[2][3:-3]):\n",
    "        print(i)\n",
    "        \n",
    "chi_1_mut_af2 = [chi_1_af2[0][74],chi_1_af2[1][42],chi_1_af2[2][30]]\n",
    "\n",
    "chi_1_mut_pdb = [chi_1_pdb[0][74],chi_1_pdb[1][42],chi_1_pdb[2][30]]\n",
    "\n",
    "plt.title('P00698',fontsize=8)\n",
    "plt.ylabel('X-ray $\\chi_1$ [$^\\circ$]',fontsize=8)\n",
    "plt.xlabel('AF2 $\\chi_1$ [$^\\circ$]',fontsize=8)\n",
    "trend = np.polyfit(chi_1_mut_af2,chi_1_mut_pdb,1)\n",
    "trendpoly = np.poly1d(trend) \n",
    "plt.scatter(chi_1_mut_af2, chi_1_mut_pdb)\n",
    "plt.xlim(-120,250)\n",
    "plt.ylim(-120,250)\n",
    "plt.plot(chi_1_mut_af2,trendpoly(chi_1_mut_af2), c='black', label = 'ρ = 1.0')\n",
    "plt.legend(fontsize=14, )\n",
    "plt.savefig(DATA_PATH_ROOT + '/notebooks/figs/chi1_mut_P00698.png', dpi=1200, bbox_inches = 'tight')\n",
    "\n",
    "correlations_vector(np.array(chi_1_mut_af2),np.array(chi_1_mut_pdb))"
   ]
  },
  {
   "cell_type": "code",
   "execution_count": 9,
   "id": "9f75005e-f9cd-4b2d-b5e6-a4c1bf0511b0",
   "metadata": {},
   "outputs": [
    {
     "data": {
      "text/plain": [
       "array([[96.04, 98.76, 98.79, 98.8 , 98.65, 98.85, 98.73, 98.85, 98.88,\n",
       "        98.82, 98.77, 98.84, 98.76, 98.62, 98.63, 98.45, 98.69, 98.57,\n",
       "        98.31, 98.64, 97.8 , 97.92, 98.66, 98.68, 98.83, 98.84, 98.89,\n",
       "        98.86, 98.91, 98.91, 98.83, 98.87, 98.83, 98.73, 98.68, 98.73,\n",
       "        98.67, 98.83, 98.91, 98.81, 98.71, 98.8 , 98.75, 98.52, 98.06,\n",
       "        97.13, 95.6 , 95.12, 96.06, 98.43, 98.79, 98.82, 98.9 , 98.85,\n",
       "        98.85, 98.83, 98.85, 98.86, 98.72, 98.77, 98.57, 98.46, 98.82,\n",
       "        98.86, 98.7 , 98.45, 97.89, 96.97, 97.96, 94.54, 95.49, 97.54,\n",
       "        98.26, 98.58, 98.63, 98.79, 98.65, 98.84, 98.84, 98.89, 98.71,\n",
       "        98.86, 98.89, 98.86, 98.57, 97.9 , 98.54, 98.67, 98.81, 98.86,\n",
       "        98.88, 98.88, 98.86, 98.89, 98.84, 98.86, 98.7 , 98.68, 98.19,\n",
       "        97.84, 95.16, 91.38, 94.63, 97.49, 98.22, 98.1 , 97.47, 98.28,\n",
       "        95.19, 96.41, 98.64, 98.24, 98.4 , 98.5 , 98.69, 98.4 , 97.5 ,\n",
       "        98.2 , 97.86, 98.19, 97.37, 97.61, 98.5 , 98.56, 98.35, 98.15,\n",
       "        98.41, 95.48, 94.86],\n",
       "       [95.58, 98.73, 98.77, 98.81, 98.66, 98.85, 98.75, 98.85, 98.89,\n",
       "        98.84, 98.79, 98.85, 98.78, 98.66, 98.66, 98.51, 98.69, 98.6 ,\n",
       "        98.36, 98.66, 97.81, 97.94, 98.66, 98.69, 98.84, 98.83, 98.89,\n",
       "        98.86, 98.9 , 98.9 , 98.8 , 98.86, 98.81, 98.7 , 98.64, 98.71,\n",
       "        98.67, 98.83, 98.9 , 98.78, 98.68, 98.79, 98.76, 98.51, 97.99,\n",
       "        97.06, 95.64, 95.08, 96.06, 98.44, 98.78, 98.81, 98.9 , 98.84,\n",
       "        98.82, 98.78, 98.83, 98.86, 98.71, 98.76, 98.53, 98.44, 98.81,\n",
       "        98.86, 98.7 , 98.41, 97.78, 96.78, 97.9 , 94.14, 95.28, 97.5 ,\n",
       "        98.23, 98.59, 98.62, 98.79, 98.65, 98.83, 98.83, 98.88, 98.71,\n",
       "        98.86, 98.89, 98.86, 98.56, 97.92, 98.58, 98.71, 98.82, 98.87,\n",
       "        98.88, 98.89, 98.86, 98.89, 98.83, 98.86, 98.7 , 98.66, 98.19,\n",
       "        97.9 , 95.06, 91.3 , 94.77, 97.41, 98.2 , 98.08, 97.43, 98.27,\n",
       "        95.02, 95.93, 98.6 , 98.14, 98.32, 98.42, 98.64, 98.34, 97.28,\n",
       "        98.07, 97.77, 98.1 , 97.32, 97.53, 98.47, 98.55, 98.34, 98.15,\n",
       "        98.4 , 95.44, 95.06],\n",
       "       [95.25, 98.66, 98.74, 98.76, 98.6 , 98.82, 98.66, 98.81, 98.86,\n",
       "        98.78, 98.7 , 98.81, 98.72, 98.56, 98.54, 98.35, 98.66, 98.55,\n",
       "        98.3 , 98.64, 97.77, 97.84, 98.65, 98.66, 98.82, 98.81, 98.87,\n",
       "        98.84, 98.89, 98.9 , 98.8 , 98.84, 98.79, 98.67, 98.61, 98.67,\n",
       "        98.62, 98.8 , 98.87, 98.58, 98.52, 98.75, 98.73, 98.48, 98.02,\n",
       "        97.09, 95.71, 95.01, 95.98, 98.42, 98.78, 98.8 , 98.88, 98.8 ,\n",
       "        98.81, 98.76, 98.82, 98.85, 98.69, 98.74, 98.55, 98.45, 98.81,\n",
       "        98.85, 98.69, 98.4 , 97.84, 96.93, 97.89, 94.54, 95.42, 97.59,\n",
       "        98.25, 98.57, 98.61, 98.77, 98.61, 98.81, 98.8 , 98.86, 98.63,\n",
       "        98.81, 98.86, 98.81, 98.21, 97.21, 98.35, 98.52, 98.74, 98.83,\n",
       "        98.85, 98.84, 98.82, 98.88, 98.82, 98.84, 98.69, 98.68, 98.24,\n",
       "        97.88, 95.52, 92.19, 94.88, 97.53, 98.19, 98.01, 97.49, 98.27,\n",
       "        95.83, 96.25, 98.58, 98.14, 98.3 , 98.38, 98.62, 98.31, 97.15,\n",
       "        98.04, 97.68, 98.05, 97.04, 97.44, 98.42, 98.48, 98.27, 98.05,\n",
       "        98.32, 94.99, 94.44]])"
      ]
     },
     "execution_count": 9,
     "metadata": {},
     "output_type": "execute_result"
    }
   ],
   "source": [
    "# Do this for all\n",
    "plddt_idx = list()\n",
    "for i in range(len(pos_af2)):\n",
    "    tmp = np.asarray([pos_af2[0][i][0] for i in range(len(pos_af2[0]))])\n",
    "    plddt_idx.append(tmp)\n",
    "plddt_idx = np.vstack(np.asarray(plddt_idx)-1)\n",
    "plddt = np.asarray(plddt)\n",
    "plddt_indexed = [plddt[i][plddt_idx[i]] for i in range(len(plddt))]\n",
    "\n",
    "plddt_indexed = np.vstack(plddt_indexed)\n",
    "\n",
    "plddt_indexed.shape\n",
    "plddt"
   ]
  },
  {
   "cell_type": "code",
   "execution_count": 10,
   "id": "5e79f1eb-4171-47e2-a61e-ac5588ddf4b5",
   "metadata": {},
   "outputs": [
    {
     "name": "stdout",
     "output_type": "stream",
     "text": [
      "105\n",
      "105\n"
     ]
    },
    {
     "name": "stderr",
     "output_type": "stream",
     "text": [
      "/var/folders/38/bl4yf01j4jx6h6m2ctkbjd3r0000gn/T/ipykernel_58329/3715567381.py:164: MatplotlibDeprecationWarning: Auto-removal of grids by pcolor() and pcolormesh() is deprecated since 3.5 and will be removed two minor releases later; please call grid(False) first.\n",
      "  plt.colorbar(sm, label='pLDDT')\n"
     ]
    },
    {
     "name": "stdout",
     "output_type": "stream",
     "text": [
      "(105,) (105,)\n",
      "Pearson's correlation coefficient between data:  0.8635682188489137\n",
      "Spearman's correlation coefficient bewteen data:  0.7699046236782084\n"
     ]
    },
    {
     "data": {
      "text/plain": [
       "[0.8635682188489137, 0.7699046236782084]"
      ]
     },
     "execution_count": 10,
     "metadata": {},
     "output_type": "execute_result"
    },
    {
     "data": {
      "image/png": "[encoded data removed]",
      "text/plain": [
       "<Figure size 432x288 with 2 Axes>"
      ]
     },
     "metadata": {},
     "output_type": "display_data"
    }
   ],
   "source": [
    "# Scatter plot chi_1_af2 vs. chi_1_pdb\n",
    "#circ_meanscatter_plot(chi_1_af2, chi_1_pdb,plddt)\n",
    "circ_meanscatter_plot(chi_1_af2,chi_1_pdb_wt_ls, plddt)"
   ]
  },
  {
   "cell_type": "code",
   "execution_count": 11,
   "id": "98e2e009-278a-4799-b116-7d7ee1577cf1",
   "metadata": {},
   "outputs": [
    {
     "data": {
      "image/png": "[encoded data removed]",
      "text/plain": [
       "<Figure size 720x720 with 5 Axes>"
      ]
     },
     "metadata": {},
     "output_type": "display_data"
    }
   ],
   "source": [
    "X=np.stack(conv_to_np_arr_old(chi_1_af2)).reshape(-1,105)\n",
    "Y=np.stack(conv_to_np_arr_old(chi_1_pdb)).reshape(-1,105)\n",
    "\n",
    "dat = np.vstack((Y,X)).T\n",
    "filenames_combined = filenames_pdb+filenames_af2\n",
    "names = filenames_combined\n",
    "filenames_combined = [\"AF2_\" + name[7:11] if name.startswith(\"P00698\") else \"PDB_\"+ name[0:4] for name in names]\n",
    "df_test = pd.DataFrame(dat, index=[i for i in range(105)], columns=filenames_combined)\n",
    "\n",
    "\n",
    "dataset = [\"AF2\" if name.startswith(\"P00698\") else \"PDB\" for name in names]\n",
    "a = {'AF2': 'lightgray', 'PDB': 'lightblue'}\n",
    "colors = lambda x: a[x]\n",
    "col_colors = list(map(colors, dataset))\n",
    "sns.set(font_scale = 0.60)\n",
    "cm=sns.clustermap(df_test,\n",
    "               method='average',\n",
    "               cbar_pos = (1, .20, .03, .45),\n",
    "               yticklabels=False,\n",
    "               col_colors=col_colors,\n",
    "               xticklabels=True,\n",
    "               #standard_scale=1,\n",
    "               annot_kws={\"size\": 1},\n",
    "               cmap='viridis',\n",
    "               vmin=-180,\n",
    "               vmax=180)\n",
    "\n",
    "# Add legends\n",
    "for label in ['PDB', 'AF2']:\n",
    "    cm.ax_col_dendrogram.bar(0, 0, color=a[label], label=label, linewidth=0);\n",
    "l1 = cm.ax_col_dendrogram.legend(title='Structure', loc=\"center\", ncol=5, bbox_to_anchor=(0.1, 0.89), bbox_transform=gcf().transFigure, prop={'size': 10})\n",
    "\n",
    "plt.savefig(DATA_PATH_ROOT + '/notebooks/figs/clustermap_chi1_P00698.png', dpi=1200, bbox_inches = 'tight')"
   ]
  },
  {
   "cell_type": "code",
   "execution_count": 12,
   "id": "fc7d3a72-f822-43aa-8d19-1e7f7d28a547",
   "metadata": {},
   "outputs": [
    {
     "name": "stdout",
     "output_type": "stream",
     "text": [
      "Pearson's correlation coefficient between data:  0.9941996493067053\n",
      "Spearman's correlation coefficient bewteen data:  1.0\n"
     ]
    },
    {
     "data": {
      "text/plain": [
       "[0.9941996493067053, 1.0]"
      ]
     },
     "execution_count": 12,
     "metadata": {},
     "output_type": "execute_result"
    },
    {
     "data": {
      "image/png": "[encoded data removed]",
      "text/plain": [
       "<Figure size 432x288 with 1 Axes>"
      ]
     },
     "metadata": {},
     "output_type": "display_data"
    }
   ],
   "source": [
    "# RMSD plot: AF2 vs. PDB\n",
    "plt.title('P00698',fontsize=8)\n",
    "plt.ylabel('X-ray RMSD [Å]',fontsize=8)\n",
    "plt.xlabel('AF2 RMSD [Å]',fontsize=8)\n",
    "trend = np.polyfit(af2_rmsd_list,pdb_rmsd_list,1)\n",
    "trendpoly = np.poly1d(trend) \n",
    "plt.scatter(af2_rmsd_list, pdb_rmsd_list)\n",
    "plt.plot(af2_rmsd_list,trendpoly(af2_rmsd_list), c='black', label = r'$\\rho = 0.99$')\n",
    "plt.legend(fontsize=14)\n",
    "plt.savefig(DATA_PATH_ROOT + '/notebooks/figs/rmsd_P00698.png', dpi=1200, bbox_inches = 'tight')\n",
    "correlations_vector(af2_rmsd_list, pdb_rmsd_list)"
   ]
  },
  {
   "cell_type": "code",
   "execution_count": 13,
   "id": "bbcd996c-1838-4eee-9399-51f17d50eae7",
   "metadata": {},
   "outputs": [
    {
     "data": {
      "text/plain": [
       "<matplotlib.lines.Line2D at 0x7fee2816ac40>"
      ]
     },
     "execution_count": 13,
     "metadata": {},
     "output_type": "execute_result"
    },
    {
     "data": {
      "image/png": "[encoded data removed]",
      "text/plain": [
       "<Figure size 432x288 with 1 Axes>"
      ]
     },
     "metadata": {},
     "output_type": "display_data"
    }
   ],
   "source": [
    "# Create histogram of RMSDs\n",
    "output_variance_np = np.asarray(af2_rmsd_list)\n",
    "hist,bin_edges = np.histogram(af2_rmsd_list)\n",
    "weights = np.ones_like(af2_rmsd_list) / len(af2_rmsd_list)\n",
    "n, bins, patches = plt.hist(af2_rmsd_list, 50, weights = weights, facecolor='lightblue', edgecolor='k', alpha=0.75)\n",
    "plt.grid(axis='y', alpha=0.75)\n",
    "plt.xlabel(r'RMSD C$\\alpha$ [Å])',fontsize=8)\n",
    "plt.ylabel('Frequency',fontsize=8)\n",
    "plt.xticks(fontsize=8,rotation='vertical')\n",
    "plt.yticks(fontsize=8)\n",
    "plt.ylabel('Frequency',fontsize=8)\n",
    "plt.title('P61626: RMSD of wild type and mutants',fontsize=8)\n",
    "plt.axvline(np.mean(af2_rmsd_list), color='b', linestyle='dashed', linewidth=2)\n",
    "#plt.savefig('/Users/holgerchristiannyelandehlers/Desktop/master_thesis/notebooks/figs/rmsd_dis_P0A7Y4.png', dpi=1200)"
   ]
  },
  {
   "cell_type": "code",
   "execution_count": 14,
   "id": "399e8be4-62a3-4bdb-b0e2-1fa90f3448c6",
   "metadata": {},
   "outputs": [],
   "source": [
    "# Concat dataframes\n",
    "df_af2 = pd.DataFrame (af2_rmsd_list, columns = ['rmsd_af2'])\n",
    "df_pdb = pd.DataFrame (pdb_rmsd_list, columns = ['rmsd_pdb'])\n",
    "df_mut2mut = pd.DataFrame (mut_2_mut_rmsd_list, columns = ['rmsd'])\n",
    "df_mut2wt = pd.DataFrame (mut_2_wt_rmsd_list, columns = ['rmsd'])\n",
    "df_concated = pd.concat([df_af2, df_pdb], axis=1)\n",
    "a = dict(zip(np.unique(df_concated.rmsd_af2), np.array(['g','skyblue'])))\n",
    "#df_concated.describe()"
   ]
  },
  {
   "cell_type": "code",
   "execution_count": 15,
   "id": "49fc9a99-a0eb-4fdd-a009-59fd7377d793",
   "metadata": {},
   "outputs": [
    {
     "data": {
      "image/png": "[encoded data removed]",
      "text/plain": [
       "<Figure size 432x288 with 1 Axes>"
      ]
     },
     "metadata": {},
     "output_type": "display_data"
    }
   ],
   "source": [
    "sns.histplot(df_pdb,x=\"rmsd_pdb\", binwidth=0.01, alpha=0.75, kde=True, color=\"lightgrey\", label=\"X-rayM2W: $\\mu = {}$, $\\sigma = {}$\".format(round(df_pdb[\"rmsd_pdb\"].mean(),3),round(df_pdb[\"rmsd_pdb\"].std(),3)))\n",
    "sns.histplot(df_af2, x=\"rmsd_af2\", binwidth=0.01, alpha=0.75, kde=True, color='lightblue', label=\"AF2M2W: $\\mu = {}$, $\\sigma = {}$\".format(round(df_af2[\"rmsd_af2\"].mean(),3),round(df_af2[\"rmsd_af2\"].std(),3)))\n",
    "sns.histplot(df_mut2mut,x=\"rmsd\", binwidth=0.01, alpha=0.75, kde=True, color=\"lightyellow\", label=\"AF2M2M: $\\mu = {}$, $\\sigma = {}$\".format(round(df_mut2mut[\"rmsd\"].mean(),3),round(df_mut2mut[\"rmsd\"].std(),3)))\n",
    "sns.histplot(df_mut2wt, x=\"rmsd\", binwidth=0.01, alpha=0.75, kde=True, color='lightgreen', label=\"AF2M2W: $\\mu = {}$, $\\sigma = {}$\".format(round(df_mut2wt[\"rmsd\"].mean(),3),round(df_mut2wt[\"rmsd\"].std(),3)))\n",
    "\n",
    "plt.legend(fontsize=8)\n",
    "plt.title('P00698: RMSD calculated using ChimeraX Matchmaker',fontsize=8)\n",
    "\n",
    "plt.xlabel(\"RMSD [Å]\")\n",
    "plt.ylabel(\"Count\")\n",
    "plt.savefig(DATA_PATH_ROOT + \"/notebooks/figs/P00698_dis.pdf\")\n",
    "plt.show()"
   ]
  },
  {
   "cell_type": "code",
   "execution_count": 16,
   "id": "bdf9ab1b-982c-4496-9323-be0138814945",
   "metadata": {},
   "outputs": [
    {
     "name": "stdout",
     "output_type": "stream",
     "text": [
      "0.09165606940431857\n",
      "0.44062537772448923\n"
     ]
    }
   ],
   "source": [
    "print(df_af2[\"rmsd_af2\"].mean())\n",
    "print(df_pdb['rmsd_pdb'].mean())"
   ]
  },
  {
   "cell_type": "code",
   "execution_count": null,
   "id": "abe8ef38-5aaf-4996-b2f7-7723b938a805",
   "metadata": {},
   "outputs": [],
   "source": []
  }
 ],
 "metadata": {
  "kernelspec": {
   "display_name": "Python 3 (ipykernel)",
   "language": "python",
   "name": "python3"
  },
  "language_info": {
   "codemirror_mode": {
    "name": "ipython",
    "version": 3
   },
   "file_extension": ".py",
   "mimetype": "text/x-python",
   "name": "python",
   "nbconvert_exporter": "python",
   "pygments_lexer": "ipython3",
   "version": "3.9.12"
  }
 },
 "nbformat": 4,
 "nbformat_minor": 5
}
