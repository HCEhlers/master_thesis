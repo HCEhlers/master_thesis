{
 "cells": [
  {
   "cell_type": "code",
   "execution_count": 9,
   "id": "2cf7c373-88fa-4310-8341-f03c34d84e7f",
   "metadata": {},
   "outputs": [],
   "source": [
    "import pandas as pd\n",
    "import numpy as np\n",
    "import matplotlib.pyplot as plt\n",
    "import seaborn as sns\n",
    "sns.set_style(\"darkgrid\")"
   ]
  },
  {
   "cell_type": "code",
   "execution_count": 10,
   "id": "5e35bdc0-9b39-443a-90d9-cd5772275b4a",
   "metadata": {},
   "outputs": [],
   "source": [
    "P00698 = pd.read_csv('/Users/holger/Desktop/master_thesis/data/results_rmsd/results_rmsd_af2/results_rmsd_P00698_m1_to_m5.csv')\n",
    "P00720 = pd.read_csv('/Users/holger/Desktop/master_thesis/data/results_rmsd/results_rmsd_af2/results_rmsd_P00720_m1_to_m5.csv')\n",
    "P0A7Y4 = pd.read_csv('/Users/holger/Desktop/master_thesis/data/results_rmsd/results_rmsd_af2/results_rmsd_P0A7Y4_m1_to_m5.csv')\n",
    "P61626 = pd.read_csv('/Users/holger/Desktop/master_thesis/data/results_rmsd/results_rmsd_af2/results_rmsd_P61626_m1_to_m5.csv')"
   ]
  },
  {
   "cell_type": "code",
   "execution_count": 11,
   "id": "891a21e2-3dee-4d0a-802d-091d318952a4",
   "metadata": {},
   "outputs": [],
   "source": [
    "# Create lists for the plot\n",
    "uniprot_ids = ['P00698', 'P00720', 'P0A7Y4', 'P61626']\n",
    "x_pos = np.arange(len(uniprot_ids))\n",
    "means = [P00698.mean()['rmsd'], P00720.mean()['rmsd'], P0A7Y4.mean()['rmsd'], P61626.mean()['rmsd']]\n",
    "errors = [P00698.std()['rmsd'], P00720.std()['rmsd'], P0A7Y4.std()['rmsd'], P61626.std()['rmsd']]\n"
   ]
  },
  {
   "cell_type": "code",
   "execution_count": 12,
   "id": "2d1273d0-8d07-4af1-b9a6-7aceb9168942",
   "metadata": {},
   "outputs": [
    {
     "data": {
      "image/png": "[encoded data removed]",
      "text/plain": [
       "<Figure size 432x288 with 1 Axes>"
      ]
     },
     "metadata": {},
     "output_type": "display_data"
    }
   ],
   "source": [
    "# Build the plot\n",
    "fig, ax = plt.subplots()\n",
    "ax.bar(x_pos, means, yerr=errors, align='center', alpha=1, ecolor='black', capsize=10)\n",
    "ax.set_ylabel('RMSD [Å]')\n",
    "ax.set_xticks(x_pos)\n",
    "ax.set_xticklabels(uniprot_ids)\n",
    "ax.set_title('Mean RMSD between AF2 Model 1 and AF2 Model 5')\n",
    "ax.yaxis.grid(True)\n",
    "\n",
    "# Save the figure and show\n",
    "plt.tight_layout()\n",
    "plt.savefig('/Users/holger/Desktop/master_thesis/notebooks/figs/bar_plot_m1_to_m5.png')\n",
    "plt.show()"
   ]
  },
  {
   "cell_type": "code",
   "execution_count": 13,
   "id": "0b31436e-58fa-4e8b-9ee7-633746d19224",
   "metadata": {},
   "outputs": [],
   "source": [
    "P00720_plddt = pd.read_json('/Users/holger/Desktop/master_thesis/data/results_af2/P00720/P00720_default/P00720_1l14.result/P00720_1l14_eb277_unrelaxed_rank_1_model_5_scores.json')"
   ]
  },
  {
   "cell_type": "code",
   "execution_count": 16,
   "id": "796e6cc0-e21f-4052-942c-b91c16727c55",
   "metadata": {},
   "outputs": [
    {
     "data": {
      "text/plain": [
       "97.36798780487807"
      ]
     },
     "execution_count": 16,
     "metadata": {},
     "output_type": "execute_result"
    }
   ],
   "source": [
    "P00720_plddt['plddt'].mean()"
   ]
  },
  {
   "cell_type": "code",
   "execution_count": null,
   "id": "e79d22e5-6f2c-4d5b-b3a3-be7c82855a23",
   "metadata": {},
   "outputs": [],
   "source": []
  }
 ],
 "metadata": {
  "kernelspec": {
   "display_name": "Python 3 (ipykernel)",
   "language": "python",
   "name": "python3"
  },
  "language_info": {
   "codemirror_mode": {
    "name": "ipython",
    "version": 3
   },
   "file_extension": ".py",
   "mimetype": "text/x-python",
   "name": "python",
   "nbconvert_exporter": "python",
   "pygments_lexer": "ipython3",
   "version": "3.9.12"
  }
 },
 "nbformat": 4,
 "nbformat_minor": 5
}
