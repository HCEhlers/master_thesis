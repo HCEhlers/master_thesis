{
 "cells": [
  {
   "cell_type": "code",
   "execution_count": 1,
   "id": "8d8e684e",
   "metadata": {},
   "outputs": [],
   "source": [
    "import os, sys\n",
    "import pandas as pd\n",
    "import urllib.request\n",
    "import numpy as np\n",
    "import matplotlib.pyplot as plt\n",
    "import seaborn as sns\n",
    "import mdtraj as md\n",
    "import scipy as sp"
   ]
  },
  {
   "cell_type": "code",
   "execution_count": 2,
   "id": "6fee0318-db6b-414f-9406-31be39f7811b",
   "metadata": {},
   "outputs": [],
   "source": [
    "#Use this method if running from the notebooks folder otherwise comment out the following change:\n",
    "os.chdir('../..')\n",
    "cwd = os.getcwd()\n",
    "DATA_PATH_ROOT = cwd\n",
    "DATA_PATH = DATA_PATH_ROOT + '/data/arodz12/'\n",
    "UNIPROT_ID = 'P00720'\n",
    "DF_WT_SEQS = pd.read_csv(DATA_PATH + 'pw_dist_rmsd/' + UNIPROT_ID + '_wt.result')\n",
    "PDBS = DF_WT_SEQS['pdb_id']\n",
    "pdb_list = PDBS.tolist()\n",
    "sns.set_style(\"darkgrid\")"
   ]
  },
  {
   "cell_type": "code",
   "execution_count": 3,
   "id": "61ed6aa1-dfb0-42c8-ac68-075b491e89c9",
   "metadata": {},
   "outputs": [],
   "source": [
    "# Define functions\n",
    "def get_chi1_angles(pdb):\n",
    "        pdb = md.load_pdb(pdb)\n",
    "        topology = pdb.topology\n",
    "        table, bonds = topology.to_dataframe()\n",
    "        ch1_pos, ch1_rad = md.compute_chi1(pdb)[0], md.compute_chi1(pdb)[1]\n",
    "        chi_1_angles = np.degrees(ch1_rad)\n",
    "        res = [table['resName'][ch1_pos[res][-1]] for res in range(len(ch1_pos))]\n",
    "        n = [table['resSeq'][ch1_pos[res][-1]] for res in range(len(ch1_pos))]\n",
    "        pos = [list(a) for a in zip(n,res)]\n",
    "        return chi_1_angles, pos\n",
    "    \n",
    "def compile_angles_pdb(path):\n",
    "    filenames = list()\n",
    "    dir_list = sorted(os.listdir(path))\n",
    "    angles_list = list()\n",
    "    pos_list = list()\n",
    "    for i in range(1,len(dir_list)):\n",
    "        chi1_angle, pos = get_chi1_angles(path + dir_list[i])\n",
    "        chi1_angle = chi1_angle.squeeze()\n",
    "        angles_list.append(chi1_angle)\n",
    "        filenames.append(dir_list[i])\n",
    "        pdb = md.load_pdb(path + dir_list[i])\n",
    "        topology = pdb.topology\n",
    "        table, bonds = topology.to_dataframe()\n",
    "        pos_list.append(pos)\n",
    "    return angles_list, filenames, pos_list\n",
    "\n",
    "# Load torsion angles for af 2\n",
    "def compile_angles_af2(path, pdbs):\n",
    "    filenames = list()\n",
    "    dir_list = sorted(os.listdir(path))\n",
    "    angles_list = list()\n",
    "    pos_list = list()\n",
    "    for k in range(len(dir_list)):\n",
    "        for pdb in pdbs:\n",
    "            if pdb in dir_list[k]:\n",
    "                tmp_dir_list = os.listdir(path + '/' + dir_list[k])    \n",
    "                pdb_file = [file for file in  tmp_dir_list if 'rank_1' in file and '.pdb' in file] \n",
    "                filenames.append(pdb_file[0])\n",
    "                chi1_angle, pos = get_chi1_angles(path + '/' + dir_list[k] + '/' + pdb_file[0])\n",
    "                chi1_angle = chi1_angle.squeeze()\n",
    "                angles_list.append(chi1_angle)\n",
    "                pos_list.append(pos)\n",
    "    return angles_list, filenames, pos_list\n",
    "\n",
    "def circ_meanscatter_plot(x_ls,y_ls):\n",
    "    \n",
    "    X = np.asarray(x_ls).ravel()\n",
    "    X[X <= -120] += 360\n",
    "    Y, Y_means = conv_to_np_arr_new(y_ls)\n",
    "    print(X.shape, Y_means.shape)\n",
    "    values = np.vstack((X, Y))\n",
    "    print('herehere', values)\n",
    "    #kernel = gaussian_kde(values)\n",
    "    #kde = kernel.evaluate(values)\n",
    "    #norm = Normalize(vmin=kde.min(), vmax=kde.max())\n",
    "    #colors = cm.ScalarMappable(norm=norm, cmap='viridis_r').to_rgba(kde)\n",
    "    plt.title('P00720',fontsize=12)\n",
    "    plt.xlabel('$\\chi_1$ AF2 [$^\\circ$]',fontsize=12)\n",
    "    plt.ylabel('$\\chi_1$ X-ray [$^\\circ$]',fontsize=12)\n",
    "    plt.xlim(-120,250)\n",
    "    plt.ylim(-120,250)\n",
    "    trend = np.polyfit(X,Y_means,1)\n",
    "    trendpoly = np.poly1d(trend) \n",
    "    plt.scatter(X, Y_means)#, c=colors)\n",
    "    plt.plot(X,trendpoly(X), c='black', label = 'ρ = 0.87')\n",
    "    plt.legend(fontsize=14, loc=\"upper left\")\n",
    "    plt.legend(fontsize=14, loc=\"upper left\")\n",
    "    plt.savefig(DATA_PATH_ROOT + \"/notebooks/figs/chi1_plot_P00720-wt.png\", dpi=1200)\n",
    "    \n",
    "    print(X.shape, Y_means.shape)\n",
    "    return correlations_vector(X, Y_means)\n",
    "\n",
    "def conv_to_np_arr_new(list_angles):\n",
    "    mean_angles = np.array([])\n",
    "    max_val = 138 #max(len(elem) for elem in list_angles)\n",
    "    tmp_list = list()\n",
    "    if len(list_angles) != 138:\n",
    "        for i in range(len(list_angles)):\n",
    "            len_ls = len(list_angles[i])\n",
    "            if len_ls > 138:\n",
    "                continue\n",
    "            elif len_ls <= max_val:\n",
    "                arr_2nan = np.empty((1,max_val-len_ls))\n",
    "                arr_2nan[:] = 0\n",
    "                list_angles[i] = np.append(list_angles[i],arr_2nan)\n",
    "                tmp_list.append(list_angles[i])\n",
    "    \n",
    "    list_angles = tmp_list\n",
    "    degs =  np.vstack((list_angles))\n",
    "    #print('here here: ', degs[degs < -120])\n",
    "    av_sin = np.mean(np.sin(degs * np.pi / 180.),axis=0)\n",
    "    av_cos = np.mean(np.cos(degs * np.pi / 180.),axis=0)\n",
    "    mean_angles = np.rad2deg(np.arctan2(av_sin,av_cos))\n",
    "    mean_angles[mean_angles <= -120] += 360\n",
    "    return list_angles, mean_angles\n",
    "\n",
    "def correlations_vector(score1, score2):\n",
    "    # Declaring y and x to append mave_data comp_data, respectively.\n",
    "    y=[]; x=[]\n",
    "    # Looping through NaNs and inly appending non NaNs to y and x\n",
    "    for i in range(score1.shape[0]):\n",
    "        if np.isnan(score1[i]) or np.isnan(score2[i]):\n",
    "            pass\n",
    "        else:\n",
    "            x.append(float(score1[i]))\n",
    "            y.append(float(score2[i]))\n",
    "    # Converting to np arrays and calculating pearson and spearman correalation.\n",
    "    x=np.array(x)\n",
    "    y=np.array(y)\n",
    "    r=sp.stats.pearsonr(x,y)\n",
    "    s,p=sp.stats.spearmanr(x,y)\n",
    "    print(\"Pearson's correlation coefficient between data: \",abs(r[0]))\n",
    "    print(\"Spearman's correlation coefficient bewteen data: \" ,abs(s))\n",
    "\n",
    "    return [abs(r[0]),abs(s)]"
   ]
  },
  {
   "cell_type": "code",
   "execution_count": 4,
   "id": "f2cb0c67",
   "metadata": {},
   "outputs": [],
   "source": [
    "def download_pdb(pdbcode, datadir, downloadurl=\"https://files.rcsb.org/download/\"):\n",
    "    \"\"\"\n",
    "    Downloads a PDB file from the Internet and saves it in a data directory.\n",
    "    :param pdbcode: The standard PDB ID e.g. '3ICB' or '3icb'\n",
    "    :param datadir: The directory where the downloaded file will be saved\n",
    "    :param downloadurl: The base PDB download URL, cf.\n",
    "        `https://www.rcsb.org/pages/download/http#structures` for details\n",
    "    :return: the full path to the downloaded PDB file or None if something went wrong\n",
    "    \"\"\"\n",
    "    pdbfn = pdbcode + \".pdb\"\n",
    "    url = downloadurl + pdbfn\n",
    "    outfnm = os.path.join(datadir, pdbfn)\n",
    "    try:\n",
    "        urllib.request.urlretrieve(url, outfnm)\n",
    "        return outfnm\n",
    "    except Exception as err:\n",
    "        print(str(err), file=sys.stderr)\n",
    "        return None\n"
   ]
  },
  {
   "cell_type": "code",
   "execution_count": 5,
   "id": "d15998b6",
   "metadata": {},
   "outputs": [],
   "source": [
    "# Downlaod structures\n",
    "#for i in range(len(PDBS)): # exclude NaN [-1]\n",
    "#    print(PDBS[i])\n",
    "#    download_pdb(PDBS[i], DATA_PATH + 'pdbs_wt_P00720/')"
   ]
  },
  {
   "cell_type": "code",
   "execution_count": 6,
   "id": "aeb5152f",
   "metadata": {},
   "outputs": [
    {
     "data": {
      "text/html": [
       "<div>\n",
       "<style scoped>\n",
       "    .dataframe tbody tr th:only-of-type {\n",
       "        vertical-align: middle;\n",
       "    }\n",
       "\n",
       "    .dataframe tbody tr th {\n",
       "        vertical-align: top;\n",
       "    }\n",
       "\n",
       "    .dataframe thead th {\n",
       "        text-align: right;\n",
       "    }\n",
       "</style>\n",
       "<table border=\"1\" class=\"dataframe\">\n",
       "  <thead>\n",
       "    <tr style=\"text-align: right;\">\n",
       "      <th></th>\n",
       "      <th>rmsd</th>\n",
       "    </tr>\n",
       "  </thead>\n",
       "  <tbody>\n",
       "    <tr>\n",
       "      <th>0</th>\n",
       "      <td>0.125405</td>\n",
       "    </tr>\n",
       "    <tr>\n",
       "      <th>1</th>\n",
       "      <td>0.172905</td>\n",
       "    </tr>\n",
       "    <tr>\n",
       "      <th>2</th>\n",
       "      <td>0.053855</td>\n",
       "    </tr>\n",
       "    <tr>\n",
       "      <th>3</th>\n",
       "      <td>0.136350</td>\n",
       "    </tr>\n",
       "    <tr>\n",
       "      <th>4</th>\n",
       "      <td>0.114875</td>\n",
       "    </tr>\n",
       "    <tr>\n",
       "      <th>5</th>\n",
       "      <td>0.159816</td>\n",
       "    </tr>\n",
       "  </tbody>\n",
       "</table>\n",
       "</div>"
      ],
      "text/plain": [
       "       rmsd\n",
       "0  0.125405\n",
       "1  0.172905\n",
       "2  0.053855\n",
       "3  0.136350\n",
       "4  0.114875\n",
       "5  0.159816"
      ]
     },
     "execution_count": 6,
     "metadata": {},
     "output_type": "execute_result"
    }
   ],
   "source": [
    "DF_WT_RMSD = pd.read_csv(DATA_PATH + 'pw_dist_rmsd/' + 'rmsd_wt_' + UNIPROT_ID + '.csv')\n",
    "DF_WT_RMSD"
   ]
  },
  {
   "cell_type": "code",
   "execution_count": 7,
   "id": "b2944377",
   "metadata": {},
   "outputs": [
    {
     "data": {
      "text/plain": [
       "<AxesSubplot:xlabel='rmsd', ylabel='Count'>"
      ]
     },
     "execution_count": 7,
     "metadata": {},
     "output_type": "execute_result"
    },
    {
     "data": {
      "image/png": "[encoded data removed]",
      "text/plain": [
       "<Figure size 432x288 with 1 Axes>"
      ]
     },
     "metadata": {},
     "output_type": "display_data"
    }
   ],
   "source": [
    "sns.histplot(DF_WT_RMSD, x=\"rmsd\", binwidth=0.05, alpha=0.75, kde=True, color='lightblue', label=\"WT: $\\mu = {}$, $\\sigma = {}$\".format(round(DF_WT_RMSD[\"rmsd\"].mean(),3),round(DF_WT_RMSD[\"rmsd\"].std(),3)))"
   ]
  },
  {
   "cell_type": "code",
   "execution_count": 8,
   "id": "aaea2c6e",
   "metadata": {},
   "outputs": [
    {
     "data": {
      "image/png": "[encoded data removed]",
      "text/plain": [
       "<Figure size 432x288 with 1 Axes>"
      ]
     },
     "metadata": {},
     "output_type": "display_data"
    },
    {
     "name": "stdout",
     "output_type": "stream",
     "text": [
      "(7, 7)\n",
      "(21,)\n",
      "[[0.         0.12540532 0.17290501 0.05385482 0.1363501  0.11487465\n",
      "  0.159816  ]\n",
      " [0.12540532 0.         0.15780416 0.11404232 0.1452456  0.1494643\n",
      "  0.16277569]\n",
      " [0.17290501 0.15780416 0.         0.1540997  0.18181259 0.16354131\n",
      "  0.21586554]\n",
      " [0.05385482 0.11404232 0.1540997  0.         0.12679101 0.10240861\n",
      "  0.15819363]\n",
      " [0.1363501  0.1452456  0.18181259 0.12679101 0.         0.16408846\n",
      "  0.11551699]\n",
      " [0.11487465 0.1494643  0.16354131 0.10240861 0.16408846 0.\n",
      "  0.20357356]\n",
      " [0.159816   0.16277569 0.21586554 0.15819363 0.11551699 0.20357356\n",
      "  0.        ]]\n"
     ]
    }
   ],
   "source": [
    "W = np.load(DATA_PATH + 'pw_dist_rmsd/' + 'M_P00720_wt.npy')\n",
    "W_u = np.unique(np.triu(W, k=0))[1:]\n",
    "num_bins = 20 # <-- Change here - Specify total number of bins for histogram\n",
    "plt.hist(W_u.ravel(), bins=np.linspace(np.min(W_u), np.max(W_u), num=num_bins)) #<-- Change here.  Note the use of ravel.\n",
    "plt.show()\n",
    "W_u\n",
    "print(W.shape)\n",
    "print(W_u.shape)\n",
    "print(W)"
   ]
  },
  {
   "cell_type": "code",
   "execution_count": 9,
   "id": "dd0864e5-6eb1-4047-a551-93611b0492a6",
   "metadata": {},
   "outputs": [
    {
     "data": {
      "image/png": "[encoded data removed]",
      "text/plain": [
       "<Figure size 432x288 with 1 Axes>"
      ]
     },
     "metadata": {},
     "output_type": "display_data"
    }
   ],
   "source": [
    "M =np.load(DATA_PATH + 'pw_dist_rmsd/' + 'M_pair_P00720_mut.npy')\n",
    "M_u = np.unique(np.triu(M, k=0))[1:] # <-- Get upper triangle of symmetric matrix\n",
    "num_bins = 20 \n",
    "plt.hist(M_u.ravel(), bins=np.linspace(np.min(M_u), np.max(M_u), num=num_bins)) \n",
    "plt.show()"
   ]
  },
  {
   "cell_type": "code",
   "execution_count": 10,
   "id": "be04c1ba-e7f1-4360-aa00-59dc45d544c0",
   "metadata": {},
   "outputs": [
    {
     "data": {
      "image/png": "[encoded data removed]",
      "text/plain": [
       "<Figure size 432x288 with 1 Axes>"
      ]
     },
     "metadata": {},
     "output_type": "display_data"
    }
   ],
   "source": [
    "M =np.load(DATA_PATH + 'pw_dist_rmsd/' + 'M_pair_P00720_mut.npy')\n",
    "num_bins = 20  \n",
    "plt.hist(M.ravel(), bins=np.linspace(np.min(M), np.max(M), num=num_bins))\n",
    "plt.show()"
   ]
  },
  {
   "cell_type": "code",
   "execution_count": 11,
   "id": "79d61b50-f9a5-4762-ba16-98697f950a02",
   "metadata": {},
   "outputs": [
    {
     "data": {
      "image/png": "[encoded data removed]",
      "text/plain": [
       "<Figure size 432x288 with 1 Axes>"
      ]
     },
     "metadata": {},
     "output_type": "display_data"
    }
   ],
   "source": [
    "A =np.load(DATA_PATH + 'pw_dist_rmsd/' + 'M_pair_P00720_mut_af2.npy')\n",
    "num_bins = 20  \n",
    "plt.hist(A.ravel(), bins=np.linspace(np.min(A), np.max(A), num=num_bins))\n",
    "plt.show()"
   ]
  },
  {
   "cell_type": "code",
   "execution_count": 12,
   "id": "1383e606-b65f-426a-adbe-088e662c5263",
   "metadata": {},
   "outputs": [
    {
     "data": {
      "image/png": "[encoded data removed]",
      "text/plain": [
       "<Figure size 432x288 with 1 Axes>"
      ]
     },
     "metadata": {},
     "output_type": "display_data"
    }
   ],
   "source": [
    "df_W = pd.DataFrame(W.ravel(), columns=['rmsd'])\n",
    "df_M = pd.DataFrame(M.ravel(), columns=['rmsd'])\n",
    "df_A = pd.DataFrame(A.ravel(), columns=['rmsd'])\n",
    "sns.histplot(df_W, x=\"rmsd\", binwidth=0.02, alpha=0.7, kde=True, color='lightgreen', label=\"WT X-ray: $\\mu = {}$, $\\sigma = {}$\".format(round(df_W[\"rmsd\"].mean(),3),round(df_W[\"rmsd\"].std(),3)), stat = \"probability\")\n",
    "sns.histplot(df_M, x=\"rmsd\", binwidth=0.02, alpha=0.5, kde=True, color='grey', label=\"MUT X-ray: $\\mu = {}$, $\\sigma = {}$\".format(round(df_M[\"rmsd\"].mean(),3),round(df_M[\"rmsd\"].std(),3)), stat = \"probability\")\n",
    "sns.histplot(df_A, x=\"rmsd\", binwidth=0.02, alpha=0.5, kde=True, color='lightblue', label=\"MUT AF2: $\\mu = {}$, $\\sigma = {}$\".format(round(df_A[\"rmsd\"].mean(),3),round(df_A[\"rmsd\"].std(),3)), stat = \"probability\")\n",
    "\n",
    "plt.legend(fontsize=8)\n",
    "plt.title('P00720: RMSD calculated using ChimeraX Matchmaker',fontsize=8)\n",
    "plt.xlabel(\"RMSD for each pair [Å]\")\n",
    "plt.ylabel(\"Frequency\")\n",
    "\n",
    "plt.savefig(DATA_PATH_ROOT + \"/notebooks/figs/pairwise_wt_xray_mut_xray_mut_af2_P00720.pdf\")\n",
    "plt.show()"
   ]
  },
  {
   "cell_type": "code",
   "execution_count": 24,
   "id": "11cda921-b978-4a95-8dda-6ac8a742f293",
   "metadata": {},
   "outputs": [
    {
     "data": {
      "text/html": [
       "<div>\n",
       "<style scoped>\n",
       "    .dataframe tbody tr th:only-of-type {\n",
       "        vertical-align: middle;\n",
       "    }\n",
       "\n",
       "    .dataframe tbody tr th {\n",
       "        vertical-align: top;\n",
       "    }\n",
       "\n",
       "    .dataframe thead th {\n",
       "        text-align: right;\n",
       "    }\n",
       "</style>\n",
       "<table border=\"1\" class=\"dataframe\">\n",
       "  <thead>\n",
       "    <tr style=\"text-align: right;\">\n",
       "      <th></th>\n",
       "      <th>rmsd</th>\n",
       "    </tr>\n",
       "  </thead>\n",
       "  <tbody>\n",
       "    <tr>\n",
       "      <th>count</th>\n",
       "      <td>2916.000000</td>\n",
       "    </tr>\n",
       "    <tr>\n",
       "      <th>mean</th>\n",
       "      <td>0.173668</td>\n",
       "    </tr>\n",
       "    <tr>\n",
       "      <th>std</th>\n",
       "      <td>0.090269</td>\n",
       "    </tr>\n",
       "    <tr>\n",
       "      <th>min</th>\n",
       "      <td>0.000000</td>\n",
       "    </tr>\n",
       "    <tr>\n",
       "      <th>25%</th>\n",
       "      <td>0.087514</td>\n",
       "    </tr>\n",
       "    <tr>\n",
       "      <th>50%</th>\n",
       "      <td>0.164186</td>\n",
       "    </tr>\n",
       "    <tr>\n",
       "      <th>75%</th>\n",
       "      <td>0.252731</td>\n",
       "    </tr>\n",
       "    <tr>\n",
       "      <th>max</th>\n",
       "      <td>0.413281</td>\n",
       "    </tr>\n",
       "  </tbody>\n",
       "</table>\n",
       "</div>"
      ],
      "text/plain": [
       "              rmsd\n",
       "count  2916.000000\n",
       "mean      0.173668\n",
       "std       0.090269\n",
       "min       0.000000\n",
       "25%       0.087514\n",
       "50%       0.164186\n",
       "75%       0.252731\n",
       "max       0.413281"
      ]
     },
     "execution_count": 24,
     "metadata": {},
     "output_type": "execute_result"
    }
   ],
   "source": [
    "df_A.describe()"
   ]
  },
  {
   "cell_type": "code",
   "execution_count": 13,
   "id": "5d72661a-8dc2-479f-9f75-677bd8415426",
   "metadata": {},
   "outputs": [],
   "source": [
    "m_arr = df_M['rmsd'].to_numpy()\n",
    "a_arr = df_A['rmsd'].to_numpy()"
   ]
  },
  {
   "cell_type": "code",
   "execution_count": 14,
   "id": "409ee439-e046-4c4f-ac11-36ee23641534",
   "metadata": {},
   "outputs": [
    {
     "data": {
      "text/plain": [
       "(90,)"
      ]
     },
     "execution_count": 14,
     "metadata": {},
     "output_type": "execute_result"
    }
   ],
   "source": [
    "m_arr[m_arr > 0.3].shape"
   ]
  },
  {
   "cell_type": "code",
   "execution_count": 15,
   "id": "3cf60d43-19f6-441d-8464-be894d6630d0",
   "metadata": {},
   "outputs": [
    {
     "data": {
      "text/plain": [
       "(114,)"
      ]
     },
     "execution_count": 15,
     "metadata": {},
     "output_type": "execute_result"
    }
   ],
   "source": [
    "a_arr[a_arr > 0.3].shape"
   ]
  },
  {
   "cell_type": "code",
   "execution_count": 16,
   "id": "5ddb21f3-ac42-416e-a382-9b86c00658ea",
   "metadata": {},
   "outputs": [],
   "source": [
    "M_high_vars = [[0.36710592935666, '1l06', '1l53'], [0.3501804286990137, '1l06', '1l99'], [0.3671059293566586, '1l53', '1l06'], [0.40225855221994516, '1l53', '1l60'], [0.4022585522199471, '1l60', '1l53'], [0.37596760885194336, '1l60', '1l99'], [0.35018042869901317, '1l99', '1l06'], [0.3759676088519438, '1l99', '1l60']]"
   ]
  },
  {
   "cell_type": "code",
   "execution_count": 17,
   "id": "5f48edd6-604c-405d-9eee-40cc8bf54af9",
   "metadata": {},
   "outputs": [],
   "source": [
    "A_high_vars = [[0.3840732476013865, '1dyb', '1l99'], [0.38318749835947435, '1dyc', '1l99'], [0.35713484744318175, '1dye', '1l99'], [0.3932828286366337, '1dyg', '1l99'], [0.39171187106557975, '1l02', '1l99'], [0.37224051297857025, '1l03', '1l99'], [0.35147972695691243, '1l05', '1l99'], [0.37577021296510277, '1l08', '1l99'], [0.3656907181072483, '1l09', '1l99'], [0.35834801712331993, '1l10', '1l99'], [0.40648510067623295, '1l11', '1l99'], [0.38286413486140863, '1l12', '1l99'], [0.3777356946308998, '1l13', '1l99'], [0.3716140500665661, '1l14', '1l99'], [0.3650882191878062, '1l15', '1l99'], [0.36180582889675633, '1l16', '1l99'], [0.3843229462178809, '1l19', '1l99'], [0.3795646577415588, '1l22', '1l99'], [0.3685518654512525, '1l27', '1l99'], [0.39590544945617956, '1l28', '1l99'], [0.40374524736165485, '1l31', '1l99'], [0.4132808963692479, '1l32', '1l99'], [0.3943253575351221, '1l46', '1l99'], [0.3745269310193404, '1l47', '1l99'], [0.39009593765134876, '1l52', '1l99'], [0.3574309770778443, '1l53', '1l99'], [0.3673991242368709, '1l57', '1l99'], [0.3986695254398935, '1l69', '1l99'], [0.37533497718903613, '1l98', '1l99'], [0.3840732476013864, '1l99', '1dyb'], [0.38318749835947435, '1l99', '1dyc'], [0.3571348474431819, '1l99', '1dye'], [0.39328282863663366, '1l99', '1dyg'], [0.39171187106558, '1l99', '1l02'], [0.37224051297857047, '1l99', '1l03'], [0.3514797269569131, '1l99', '1l05'], [0.3757702129651027, '1l99', '1l08'], [0.36569071810724807, '1l99', '1l09'], [0.3583480171233202, '1l99', '1l10'], [0.4064851006762329, '1l99', '1l11'], [0.38286413486140874, '1l99', '1l12'], [0.37773569463089995, '1l99', '1l13'], [0.3716140500665661, '1l99', '1l14'], [0.365088219187806, '1l99', '1l15'], [0.3618058288967563, '1l99', '1l16'], [0.38432294621788055, '1l99', '1l19'], [0.37956465774155895, '1l99', '1l22'], [0.36855186545125274, '1l99', '1l27'], [0.39590544945617967, '1l99', '1l28'], [0.4037452473616553, '1l99', '1l31'], [0.41328089636924775, '1l99', '1l32'], [0.39432535753512216, '1l99', '1l46'], [0.3745269310193409, '1l99', '1l47'], [0.39009593765134876, '1l99', '1l52'], [0.35743097707784427, '1l99', '1l53'], [0.3673991242368709, '1l99', '1l57'], [0.3986695254398932, '1l99', '1l69'], [0.3753349771890361, '1l99', '1l98']]"
   ]
  },
  {
   "cell_type": "code",
   "execution_count": 18,
   "id": "13d26705-6bee-4400-83bd-de327995bf6e",
   "metadata": {},
   "outputs": [],
   "source": [
    "df_sig_af2 = pd.read_csv(DATA_PATH_ROOT + '/data/arodz12/pw_dist_rmsd/signi_rmsd_paris.csv')"
   ]
  },
  {
   "cell_type": "code",
   "execution_count": 19,
   "id": "67a6eb7b-b9f3-4d78-a024-0b58787c986f",
   "metadata": {},
   "outputs": [
    {
     "data": {
      "image/png": "[encoded data removed]",
      "text/plain": [
       "<Figure size 432x288 with 1 Axes>"
      ]
     },
     "metadata": {},
     "output_type": "display_data"
    }
   ],
   "source": [
    "# We use double the wild type mean to filter for mutants changes that are different than wild type\n",
    "df_sig_af2['pdb1']\n",
    "df_sig_af2['pdb2']\n",
    "occur = df_sig_af2.groupby(['pdb2']).size()\n",
    "occur\n",
    "ax = occur.plot.bar(x='lab', y='val')\n",
    "ax.set_xlabel(\"\")\n",
    "ax.set_ylabel(\"Count\")\n",
    "plt.savefig(DATA_PATH_ROOT + \"/notebooks/figs/bar_chart_pair_rmsd_af2_P00720.pdf\")"
   ]
  },
  {
   "cell_type": "code",
   "execution_count": 20,
   "id": "4c4bea1f-7b45-4705-906b-df75a6ab9ec5",
   "metadata": {},
   "outputs": [
    {
     "data": {
      "text/plain": [
       "pdb2\n",
       "1dya    26\n",
       "1dyb    14\n",
       "1dyc    15\n",
       "1dyd    29\n",
       "1dye     1\n",
       "1dyf     9\n",
       "1dyg    20\n",
       "1l00     1\n",
       "1l02    13\n",
       "1l03    14\n",
       "1l05     2\n",
       "1l06    10\n",
       "1l07     9\n",
       "1l08    11\n",
       "1l09    15\n",
       "1l10     9\n",
       "1l11    20\n",
       "1l12    15\n",
       "1l13    12\n",
       "1l14    14\n",
       "1l15     5\n",
       "1l16     9\n",
       "1l19    17\n",
       "1l20    21\n",
       "1l21    20\n",
       "1l22    14\n",
       "1l23    11\n",
       "1l24    27\n",
       "1l25    31\n",
       "1l26    26\n",
       "1l27    11\n",
       "1l28    20\n",
       "1l29    27\n",
       "1l30    26\n",
       "1l31    14\n",
       "1l32    17\n",
       "1l33     6\n",
       "1l34    11\n",
       "1l37    24\n",
       "1l38    22\n",
       "1l44     2\n",
       "1l45     7\n",
       "1l46    20\n",
       "1l47     3\n",
       "1l48    28\n",
       "1l52    19\n",
       "1l53    10\n",
       "1l56    14\n",
       "1l57     4\n",
       "1l58     6\n",
       "1l60    19\n",
       "1l69    18\n",
       "1l98    15\n",
       "1l99    51\n",
       "dtype: int64"
      ]
     },
     "execution_count": 20,
     "metadata": {},
     "output_type": "execute_result"
    }
   ],
   "source": [
    "occur"
   ]
  },
  {
   "cell_type": "code",
   "execution_count": 21,
   "id": "506cfdbf-8ab6-4cd4-90ef-bc9dc631aa96",
   "metadata": {},
   "outputs": [
    {
     "data": {
      "text/plain": [
       "pdb2\n",
       "1dya     1\n",
       "1dyc     2\n",
       "1dyd     1\n",
       "1dye     1\n",
       "1dyf     1\n",
       "1dyg     1\n",
       "1l00    19\n",
       "1l02     4\n",
       "1l03     2\n",
       "1l05     4\n",
       "1l06     4\n",
       "1l07     4\n",
       "1l08     4\n",
       "1l09     4\n",
       "1l10     4\n",
       "1l11     2\n",
       "1l12     4\n",
       "1l13     4\n",
       "1l14     4\n",
       "1l15     4\n",
       "1l16     4\n",
       "1l19     2\n",
       "1l20     2\n",
       "1l21     3\n",
       "1l22     2\n",
       "1l23     2\n",
       "1l24     2\n",
       "1l25     3\n",
       "1l26     2\n",
       "1l27     2\n",
       "1l28     2\n",
       "1l29     4\n",
       "1l30     2\n",
       "1l31     5\n",
       "1l32     2\n",
       "1l33     4\n",
       "1l34     4\n",
       "1l37     2\n",
       "1l38     2\n",
       "1l44     2\n",
       "1l46     2\n",
       "1l47     3\n",
       "1l48     3\n",
       "1l52     2\n",
       "1l53    45\n",
       "1l57     2\n",
       "1l58     2\n",
       "1l60     9\n",
       "1l69     1\n",
       "1l98    17\n",
       "1l99    41\n",
       "dtype: int64"
      ]
     },
     "execution_count": 21,
     "metadata": {},
     "output_type": "execute_result"
    }
   ],
   "source": [
    "df_sig_pdb = pd.read_csv(DATA_PATH_ROOT + '/data/arodz12/pw_dist_rmsd/signi_rmsd_pairs_pdb.csv')\n",
    "df_sig_pdb['pdb1'].unique()\n",
    "df_sig_pdb['pdb2'].unique()\n",
    "df_sig_pdb\n",
    "occur = df_sig_pdb.groupby(['pdb2']).size()\n",
    "occur"
   ]
  },
  {
   "cell_type": "code",
   "execution_count": 22,
   "id": "dd46ab13-015d-4351-9e81-db90a3e5e193",
   "metadata": {},
   "outputs": [
    {
     "data": {
      "image/png": "[encoded data removed]",
      "text/plain": [
       "<Figure size 432x288 with 1 Axes>"
      ]
     },
     "metadata": {},
     "output_type": "display_data"
    }
   ],
   "source": [
    "df_W.describe()\n",
    "ax = occur.plot.bar(x='lab', y='val')\n",
    "plt.savefig(DATA_PATH_ROOT + \"/notebooks/figs/bar_chart_pair_rmsd_pdb_P00720.png\", dpi=1200)"
   ]
  },
  {
   "cell_type": "code",
   "execution_count": 24,
   "id": "8682b936-96d9-4549-96ec-fcd2f7b9ce42",
   "metadata": {},
   "outputs": [],
   "source": [
    "# Get chi 1 angles\n",
    "DATA_PATH_PDB_WT = DATA_PATH + 'pdbs_wt_P00720/'\n",
    "DATA_PATH_AF2_WT = DATA_PATH_ROOT + '/data/results_af2/P00720'\n",
    "\n",
    "wt = ['2lzm']\n",
    "chi_1_pdb, filenames_pdb, pos_pdb = compile_angles_pdb(DATA_PATH_PDB_WT)\n",
    "chi_1_af2, filenames_af2, pos_af2 = compile_angles_af2(DATA_PATH_AF2_WT,wt)"
   ]
  }
 ],
 "metadata": {
  "kernelspec": {
   "display_name": "Python 3 (ipykernel)",
   "language": "python",
   "name": "python3"
  },
  "language_info": {
   "codemirror_mode": {
    "name": "ipython",
    "version": 3
   },
   "file_extension": ".py",
   "mimetype": "text/x-python",
   "name": "python",
   "nbconvert_exporter": "python",
   "pygments_lexer": "ipython3",
   "version": "3.9.12"
  }
 },
 "nbformat": 4,
 "nbformat_minor": 5
}
