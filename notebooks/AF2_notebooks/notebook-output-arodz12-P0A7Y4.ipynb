{
 "cells": [
  {
   "cell_type": "code",
   "execution_count": 1,
   "id": "8d8e684e",
   "metadata": {},
   "outputs": [],
   "source": [
    "import os, sys\n",
    "import pandas as pd\n",
    "import urllib.request\n",
    "import numpy as np\n",
    "import matplotlib.pyplot as plt"
   ]
  },
  {
   "cell_type": "code",
   "execution_count": 2,
   "id": "2bc9ad30",
   "metadata": {},
   "outputs": [
    {
     "data": {
      "text/plain": [
       "array(['1gob', '1kva', '1kvb', '1lav', '1law', '1rbr', '1rbs', '1rbt',\n",
       "       '1rbu', '1rbv', '1rda', '1rdb'], dtype=object)"
      ]
     },
     "execution_count": 2,
     "metadata": {},
     "output_type": "execute_result"
    }
   ],
   "source": [
    "DATA_PATH = '/Users/holger/Desktop/master_thesis/data/arodz12/'\n",
    "UNIPROT_ID = 'P0A7Y4'\n",
    "DF_STRUCMAP = pd.read_excel(DATA_PATH + 'arodz12_protherm_singlemut_directonly.xls')\n",
    "PDBS = DF_STRUCMAP['ProTherm PDB B']\n",
    "PDBS = PDBS[527:].unique()\n",
    "PDBS"
   ]
  },
  {
   "cell_type": "code",
   "execution_count": null,
   "id": "e3715ff4-573e-477a-89dc-283783b9abcb",
   "metadata": {},
   "outputs": [],
   "source": [
    "# Using withindirect excel file\n",
    "DF_STRUCMAP = pd.read_excel(DATA_PATH + 'arodz12_protherm_singlemut_withindirect.xls')\n",
    "UNIPROT_ID = 'P0A7Y4'\n",
    "DF_STRUCMAP = pd.read_excel(DATA_PATH + 'arodz12_protherm_singlemut_directonly.xls')\n",
    "PDBS = DF_STRUCMAP['ProTherm PDB B']\n",
    "PDBS = PDBS[4039:].unique()\n",
    "PDBS"
   ]
  },
  {
   "cell_type": "code",
   "execution_count": 3,
   "id": "f2cb0c67",
   "metadata": {},
   "outputs": [],
   "source": [
    "def download_pdb(pdbcode, datadir, downloadurl=\"https://files.rcsb.org/download/\"):\n",
    "    \"\"\"\n",
    "    Downloads a PDB file from the Internet and saves it in a data directory.\n",
    "    :param pdbcode: The standard PDB ID e.g. '3ICB' or '3icb'\n",
    "    :param datadir: The directory where the downloaded file will be saved\n",
    "    :param downloadurl: The base PDB download URL, cf.\n",
    "        `https://www.rcsb.org/pages/download/http#structures` for details\n",
    "    :return: the full path to the downloaded PDB file or None if something went wrong\n",
    "    \"\"\"\n",
    "    pdbfn = pdbcode + \".pdb\"\n",
    "    url = downloadurl + pdbfn\n",
    "    outfnm = os.path.join(datadir, pdbfn)\n",
    "    try:\n",
    "        urllib.request.urlretrieve(url, outfnm)\n",
    "        return outfnm\n",
    "    except Exception as err:\n",
    "        print(str(err), file=sys.stderr)\n",
    "        return None\n"
   ]
  },
  {
   "cell_type": "code",
   "execution_count": 4,
   "id": "d15998b6",
   "metadata": {},
   "outputs": [],
   "source": [
    "# Downlaod structures\n",
    "for i in range(len(PDBS)):\n",
    "    download_pdb(PDBS[i], DATA_PATH + 'pdbs_P0A7Y4/')"
   ]
  },
  {
   "cell_type": "code",
   "execution_count": 11,
   "id": "6aa20817",
   "metadata": {},
   "outputs": [
    {
     "data": {
      "image/png": "[encoded data removed]",
      "text/plain": [
       "<Figure size 432x288 with 1 Axes>"
      ]
     },
     "metadata": {
      "needs_background": "light"
     },
     "output_type": "display_data"
    }
   ],
   "source": [
    "rmsd_list = [0.2820359474824164, 0.2609444069291343, 1.5618327539541343, 0.1640274919320007, 0.16594241640859145, 0.1979924613204179, 0.19170109262427837, 0.1565245021961146, 0.16933302786338808, 0.132198500719677, 0.2288215146483613]\n",
    "output_variance_np = np.asarray(rmsd_list)\n",
    "# Create histogram of means\n",
    "hist,bin_edges = np.histogram(rmsd_list)\n",
    "weights = np.ones_like(rmsd_list) / len(rmsd_list)\n",
    "n, bins, patches = plt.hist(rmsd_list, 50, weights = weights, facecolor='lightblue', edgecolor='k', alpha=0.75)\n",
    "plt.grid(axis='y', alpha=0.75)\n",
    "plt.xlabel(r'RMSD C$\\alpha$ [Å]',fontsize=8)\n",
    "plt.ylabel('Frequency',fontsize=8)\n",
    "plt.xticks(fontsize=8,rotation='vertical')\n",
    "plt.yticks(fontsize=8)\n",
    "plt.ylabel('Frequency',fontsize=8)\n",
    "plt.title('P0A7Y4: RMSD calculated using ChimeraX Matchmaker',fontsize=8)\n",
    "plt.axvline(np.mean(rmsd_list), color='b', linestyle='dashed', linewidth=2)\n",
    "plt.savefig('/Users/holger/Desktop/master_thesis/data/arodz12/figs/rmsd_dis_P0A7Y4.png', dpi=1200, bbox_inches = 'tight')"
   ]
  },
  {
   "cell_type": "code",
   "execution_count": 12,
   "id": "b2944377",
   "metadata": {},
   "outputs": [
    {
     "data": {
      "text/plain": [
       "11"
      ]
     },
     "execution_count": 12,
     "metadata": {},
     "output_type": "execute_result"
    }
   ],
   "source": [
    "#Outlier:\n",
    "# [['1kvb.pdb', 1.5618327539541343]]\n",
    "len(rmsd_list)"
   ]
  },
  {
   "cell_type": "code",
   "execution_count": null,
   "id": "0042ec90",
   "metadata": {},
   "outputs": [],
   "source": []
  }
 ],
 "metadata": {
  "kernelspec": {
   "display_name": "Python 3 (ipykernel)",
   "language": "python",
   "name": "python3"
  },
  "language_info": {
   "codemirror_mode": {
    "name": "ipython",
    "version": 3
   },
   "file_extension": ".py",
   "mimetype": "text/x-python",
   "name": "python",
   "nbconvert_exporter": "python",
   "pygments_lexer": "ipython3",
   "version": "3.9.12"
  }
 },
 "nbformat": 4,
 "nbformat_minor": 5
}
