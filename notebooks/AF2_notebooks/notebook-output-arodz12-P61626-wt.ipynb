{
 "cells": [
  {
   "cell_type": "code",
   "execution_count": 1,
   "id": "8d8e684e",
   "metadata": {},
   "outputs": [],
   "source": [
    "import os, sys\n",
    "import pandas as pd\n",
    "import urllib.request\n",
    "import numpy as np\n",
    "import matplotlib.pyplot as plt\n",
    "import seaborn as sns\n",
    "import mdtraj as md\n",
    "import scipy as sp"
   ]
  },
  {
   "cell_type": "code",
   "execution_count": 2,
   "id": "c0923d2f-30fe-46ae-baf3-b8dd3e282a39",
   "metadata": {},
   "outputs": [],
   "source": [
    "os.chdir('../..')\n",
    "cwd = os.getcwd()\n",
    "DATA_PATH_ROOT = cwd\n",
    "\n",
    "DATA_PATH = DATA_PATH_ROOT + '/data/arodz12/'\n",
    "UNIPROT_ID = 'P61626'\n",
    "DF_WT_SEQS = pd.read_csv(DATA_PATH + 'pw_dist_rmsd/' + UNIPROT_ID + '_wt.result')\n",
    "PDBS = DF_WT_SEQS['pdb_id']\n",
    "pdb_list = PDBS.tolist()\n",
    "sns.set_style(\"darkgrid\")"
   ]
  },
  {
   "cell_type": "code",
   "execution_count": 3,
   "id": "356a911b-3c24-4766-8c31-f3b57f8d7941",
   "metadata": {},
   "outputs": [],
   "source": [
    "# Define functions\n",
    "def get_chi1_angles(pdb):\n",
    "        pdb = md.load_pdb(pdb)\n",
    "        topology = pdb.topology\n",
    "        table, bonds = topology.to_dataframe()\n",
    "        ch1_pos, ch1_rad = md.compute_chi1(pdb)[0], md.compute_chi1(pdb)[1]\n",
    "        chi_1_angles = np.degrees(ch1_rad)\n",
    "        res = [table['resName'][ch1_pos[res][-1]] for res in range(len(ch1_pos))]\n",
    "        n = [table['resSeq'][ch1_pos[res][-1]] for res in range(len(ch1_pos))]\n",
    "        pos = [list(a) for a in zip(n,res)]\n",
    "        return chi_1_angles, pos\n",
    "    \n",
    "def compile_angles_pdb(path):\n",
    "    filenames = list()\n",
    "    dir_list = sorted(os.listdir(path))\n",
    "    angles_list = list()\n",
    "    pos_list = list()\n",
    "    for i in range(1,len(dir_list)):\n",
    "        chi1_angle, pos = get_chi1_angles(path + dir_list[i])\n",
    "        chi1_angle = chi1_angle.squeeze()\n",
    "        angles_list.append(chi1_angle)\n",
    "        filenames.append(dir_list[i])\n",
    "        pdb = md.load_pdb(path + dir_list[i])\n",
    "        topology = pdb.topology\n",
    "        table, bonds = topology.to_dataframe()\n",
    "        pos_list.append(pos)\n",
    "    return angles_list, filenames, pos_list\n",
    "\n",
    "# Load torsion angles for af 2\n",
    "def compile_angles_af2(path, pdbs):\n",
    "    filenames = list()\n",
    "    dir_list = sorted(os.listdir(path))\n",
    "    angles_list = list()\n",
    "    pos_list = list()\n",
    "    for k in range(len(dir_list)):\n",
    "        for pdb in pdbs:\n",
    "            if pdb in dir_list[k]:\n",
    "                tmp_dir_list = os.listdir(path + '/' + dir_list[k])    \n",
    "                pdb_file = [file for file in  tmp_dir_list if 'rank_1' in file and '.pdb' in file] \n",
    "                filenames.append(pdb_file[0])\n",
    "                chi1_angle, pos = get_chi1_angles(path + '/' + dir_list[k] + '/' + pdb_file[0])\n",
    "                chi1_angle = chi1_angle.squeeze()\n",
    "                angles_list.append(chi1_angle)\n",
    "                pos_list.append(pos)\n",
    "    return angles_list, filenames, pos_list\n",
    "\n",
    "def circ_meanscatter_plot(x_ls,y_ls):\n",
    "    \n",
    "    X = np.asarray(x_ls).ravel()\n",
    "    X[X <= -120] += 360\n",
    "    Y, Y_means = conv_to_np_arr_new(y_ls)\n",
    "    print(X.shape, Y_means.shape)\n",
    "    #values = np.vstack((X, Y))\n",
    "    #kernel = gaussian_kde(values)\n",
    "    #kde = kernel.evaluate(values)\n",
    "    #norm = Normalize(vmin=kde.min(), vmax=kde.max())\n",
    "    #colors = cm.ScalarMappable(norm=norm, cmap='viridis_r').to_rgba(kde)\n",
    "    plt.title('P61626',fontsize=12)\n",
    "    plt.xlabel('$\\chi_1$ AF2 [$^\\circ$]',fontsize=12)\n",
    "    plt.ylabel('$\\chi_1$ X-ray [$^\\circ$]',fontsize=12)\n",
    "    plt.xlim(-120,250)\n",
    "    plt.ylim(-120,250)\n",
    "    trend = np.polyfit(X,Y_means,1)\n",
    "    trendpoly = np.poly1d(trend) \n",
    "    plt.scatter(X, Y_means)#, c=colors)\n",
    "    plt.plot(X,trendpoly(X), c='black', label = 'ρ = 0.86')\n",
    "    plt.legend(fontsize=14, loc=\"upper left\")\n",
    "    plt.legend(fontsize=14, loc=\"upper left\")\n",
    "    plt.savefig(DATA_PATH_ROOT + \"/notebooks/figs/chi1_plot_P61626-wt.png\", dpi=1200)\n",
    "    \n",
    "    print(X.shape, Y_means.shape)\n",
    "    return correlations_vector(X, Y_means)\n",
    "\n",
    "def conv_to_np_arr_new(list_angles):\n",
    "    mean_angles = np.array([])\n",
    "    max_val = 105 #max(len(elem) for elem in list_angles)\n",
    "    tmp_list = list()\n",
    "    if len(list_angles) != 105:\n",
    "        for i in range(len(list_angles)):\n",
    "            len_ls = len(list_angles[i])\n",
    "            if len_ls > 105:\n",
    "                continue\n",
    "            elif len_ls <= max_val:\n",
    "                arr_2nan = np.empty((1,max_val-len_ls))\n",
    "                arr_2nan[:] = 0\n",
    "                list_angles[i] = np.append(list_angles[i],arr_2nan)\n",
    "                tmp_list.append(list_angles[i])\n",
    "    \n",
    "    list_angles = tmp_list\n",
    "    degs =  np.vstack((list_angles))\n",
    "    #print('here here: ', degs[degs < -120])\n",
    "    av_sin = np.mean(np.sin(degs * np.pi / 180.),axis=0)\n",
    "    av_cos = np.mean(np.cos(degs * np.pi / 180.),axis=0)\n",
    "    mean_angles = np.rad2deg(np.arctan2(av_sin,av_cos))\n",
    "    mean_angles[mean_angles <= -120] += 360\n",
    "    return list_angles, mean_angles\n",
    "\n",
    "def correlations_vector(score1, score2):\n",
    "    # Declaring y and x to append mave_data comp_data, respectively.\n",
    "    y=[]; x=[]\n",
    "    # Looping through NaNs and inly appending non NaNs to y and x\n",
    "    for i in range(score1.shape[0]):\n",
    "        if np.isnan(score1[i]) or np.isnan(score2[i]):\n",
    "            pass\n",
    "        else:\n",
    "            x.append(float(score1[i]))\n",
    "            y.append(float(score2[i]))\n",
    "    # Converting to np arrays and calculating pearson and spearman correalation.\n",
    "    x=np.array(x)\n",
    "    y=np.array(y)\n",
    "    r=sp.stats.pearsonr(x,y)\n",
    "    s,p=sp.stats.spearmanr(x,y)\n",
    "    print(\"Pearson's correlation coefficient between data: \",abs(r[0]))\n",
    "    print(\"Spearman's correlation coefficient bewteen data: \" ,abs(s))\n",
    "\n",
    "    return [abs(r[0]),abs(s)]"
   ]
  },
  {
   "cell_type": "code",
   "execution_count": 4,
   "id": "f2cb0c67",
   "metadata": {},
   "outputs": [],
   "source": [
    "def download_pdb(pdbcode, datadir, downloadurl=\"https://files.rcsb.org/download/\"):\n",
    "    \"\"\"\n",
    "    Downloads a PDB file from the Internet and saves it in a data directory.\n",
    "    :param pdbcode: The standard PDB ID e.g. '3ICB' or '3icb'\n",
    "    :param datadir: The directory where the downloaded file will be saved\n",
    "    :param downloadurl: The base PDB download URL, cf.\n",
    "        `https://www.rcsb.org/pages/download/http#structures` for details\n",
    "    :return: the full path to the downloaded PDB file or None if something went wrong\n",
    "    \"\"\"\n",
    "    pdbfn = pdbcode + \".pdb\"\n",
    "    url = downloadurl + pdbfn\n",
    "    outfnm = os.path.join(datadir, pdbfn)\n",
    "    try:\n",
    "        urllib.request.urlretrieve(url, outfnm)\n",
    "        return outfnm\n",
    "    except Exception as err:\n",
    "        print(str(err), file=sys.stderr)\n",
    "        return None\n"
   ]
  },
  {
   "cell_type": "code",
   "execution_count": 5,
   "id": "d15998b6",
   "metadata": {},
   "outputs": [],
   "source": [
    "# Downlaod structures\n",
    "#for i in range(len(PDBS)): # exclude NaN [-1]\n",
    "#    print(PDBS[i])\n",
    "#    download_pdb(PDBS[i], DATA_PATH + 'pdbs_wt_P61626/')"
   ]
  },
  {
   "cell_type": "code",
   "execution_count": 6,
   "id": "aeb5152f",
   "metadata": {},
   "outputs": [
    {
     "data": {
      "text/html": [
       "<div>\n",
       "<style scoped>\n",
       "    .dataframe tbody tr th:only-of-type {\n",
       "        vertical-align: middle;\n",
       "    }\n",
       "\n",
       "    .dataframe tbody tr th {\n",
       "        vertical-align: top;\n",
       "    }\n",
       "\n",
       "    .dataframe thead th {\n",
       "        text-align: right;\n",
       "    }\n",
       "</style>\n",
       "<table border=\"1\" class=\"dataframe\">\n",
       "  <thead>\n",
       "    <tr style=\"text-align: right;\">\n",
       "      <th></th>\n",
       "      <th>rmsd</th>\n",
       "    </tr>\n",
       "  </thead>\n",
       "  <tbody>\n",
       "    <tr>\n",
       "      <th>0</th>\n",
       "      <td>0.271849</td>\n",
       "    </tr>\n",
       "    <tr>\n",
       "      <th>1</th>\n",
       "      <td>0.313465</td>\n",
       "    </tr>\n",
       "    <tr>\n",
       "      <th>2</th>\n",
       "      <td>0.125726</td>\n",
       "    </tr>\n",
       "    <tr>\n",
       "      <th>3</th>\n",
       "      <td>0.290864</td>\n",
       "    </tr>\n",
       "    <tr>\n",
       "      <th>4</th>\n",
       "      <td>0.263738</td>\n",
       "    </tr>\n",
       "    <tr>\n",
       "      <th>5</th>\n",
       "      <td>0.263774</td>\n",
       "    </tr>\n",
       "    <tr>\n",
       "      <th>6</th>\n",
       "      <td>0.261780</td>\n",
       "    </tr>\n",
       "    <tr>\n",
       "      <th>7</th>\n",
       "      <td>0.255402</td>\n",
       "    </tr>\n",
       "    <tr>\n",
       "      <th>8</th>\n",
       "      <td>0.257759</td>\n",
       "    </tr>\n",
       "    <tr>\n",
       "      <th>9</th>\n",
       "      <td>0.249112</td>\n",
       "    </tr>\n",
       "    <tr>\n",
       "      <th>10</th>\n",
       "      <td>0.272712</td>\n",
       "    </tr>\n",
       "    <tr>\n",
       "      <th>11</th>\n",
       "      <td>0.265341</td>\n",
       "    </tr>\n",
       "    <tr>\n",
       "      <th>12</th>\n",
       "      <td>0.264043</td>\n",
       "    </tr>\n",
       "    <tr>\n",
       "      <th>13</th>\n",
       "      <td>0.296913</td>\n",
       "    </tr>\n",
       "    <tr>\n",
       "      <th>14</th>\n",
       "      <td>0.184814</td>\n",
       "    </tr>\n",
       "    <tr>\n",
       "      <th>15</th>\n",
       "      <td>0.117653</td>\n",
       "    </tr>\n",
       "    <tr>\n",
       "      <th>16</th>\n",
       "      <td>0.325309</td>\n",
       "    </tr>\n",
       "    <tr>\n",
       "      <th>17</th>\n",
       "      <td>0.586904</td>\n",
       "    </tr>\n",
       "    <tr>\n",
       "      <th>18</th>\n",
       "      <td>0.276193</td>\n",
       "    </tr>\n",
       "    <tr>\n",
       "      <th>19</th>\n",
       "      <td>0.403987</td>\n",
       "    </tr>\n",
       "    <tr>\n",
       "      <th>20</th>\n",
       "      <td>0.386806</td>\n",
       "    </tr>\n",
       "    <tr>\n",
       "      <th>21</th>\n",
       "      <td>0.270230</td>\n",
       "    </tr>\n",
       "    <tr>\n",
       "      <th>22</th>\n",
       "      <td>0.476261</td>\n",
       "    </tr>\n",
       "    <tr>\n",
       "      <th>23</th>\n",
       "      <td>0.287407</td>\n",
       "    </tr>\n",
       "    <tr>\n",
       "      <th>24</th>\n",
       "      <td>0.267396</td>\n",
       "    </tr>\n",
       "    <tr>\n",
       "      <th>25</th>\n",
       "      <td>0.414061</td>\n",
       "    </tr>\n",
       "    <tr>\n",
       "      <th>26</th>\n",
       "      <td>0.733651</td>\n",
       "    </tr>\n",
       "    <tr>\n",
       "      <th>27</th>\n",
       "      <td>0.434850</td>\n",
       "    </tr>\n",
       "    <tr>\n",
       "      <th>28</th>\n",
       "      <td>0.435911</td>\n",
       "    </tr>\n",
       "  </tbody>\n",
       "</table>\n",
       "</div>"
      ],
      "text/plain": [
       "        rmsd\n",
       "0   0.271849\n",
       "1   0.313465\n",
       "2   0.125726\n",
       "3   0.290864\n",
       "4   0.263738\n",
       "5   0.263774\n",
       "6   0.261780\n",
       "7   0.255402\n",
       "8   0.257759\n",
       "9   0.249112\n",
       "10  0.272712\n",
       "11  0.265341\n",
       "12  0.264043\n",
       "13  0.296913\n",
       "14  0.184814\n",
       "15  0.117653\n",
       "16  0.325309\n",
       "17  0.586904\n",
       "18  0.276193\n",
       "19  0.403987\n",
       "20  0.386806\n",
       "21  0.270230\n",
       "22  0.476261\n",
       "23  0.287407\n",
       "24  0.267396\n",
       "25  0.414061\n",
       "26  0.733651\n",
       "27  0.434850\n",
       "28  0.435911"
      ]
     },
     "execution_count": 6,
     "metadata": {},
     "output_type": "execute_result"
    }
   ],
   "source": [
    "DF_WT_RMSD = pd.read_csv(DATA_PATH + 'pw_dist_rmsd/' + 'rmsd_wt_' + UNIPROT_ID + '.csv')\n",
    "DF_WT_RMSD"
   ]
  },
  {
   "cell_type": "code",
   "execution_count": 7,
   "id": "b2944377",
   "metadata": {},
   "outputs": [
    {
     "data": {
      "text/plain": [
       "<AxesSubplot:xlabel='rmsd', ylabel='Count'>"
      ]
     },
     "execution_count": 7,
     "metadata": {},
     "output_type": "execute_result"
    },
    {
     "data": {
      "image/png": "[encoded data removed]",
      "text/plain": [
       "<Figure size 432x288 with 1 Axes>"
      ]
     },
     "metadata": {},
     "output_type": "display_data"
    }
   ],
   "source": [
    "sns.histplot(DF_WT_RMSD, x=\"rmsd\", binwidth=0.05, alpha=0.75, kde=True, color='lightblue', label=\"WT: $\\mu = {}$, $\\sigma = {}$\".format(round(DF_WT_RMSD[\"rmsd\"].mean(),3),round(DF_WT_RMSD[\"rmsd\"].std(),3)))"
   ]
  },
  {
   "cell_type": "code",
   "execution_count": 8,
   "id": "aaea2c6e",
   "metadata": {},
   "outputs": [
    {
     "data": {
      "image/png": "[encoded data removed]",
      "text/plain": [
       "<Figure size 432x288 with 1 Axes>"
      ]
     },
     "metadata": {},
     "output_type": "display_data"
    }
   ],
   "source": [
    "W = np.load(DATA_PATH + 'pw_dist_rmsd/' + 'M_P61626_wt.npy')\n",
    "W = np.delete(W, [0,11],0)\n",
    "num_bins = 20 # <-- Change here - Specify total number of bins for histogram\n",
    "plt.hist(W.ravel(), bins=np.linspace(np.min(W), np.max(W), num=num_bins)) #<-- Change here.  Note the use of ravel.\n",
    "plt.show()"
   ]
  },
  {
   "cell_type": "code",
   "execution_count": 9,
   "id": "dd0864e5-6eb1-4047-a551-93611b0492a6",
   "metadata": {},
   "outputs": [
    {
     "data": {
      "image/png": "[encoded data removed]",
      "text/plain": [
       "<Figure size 432x288 with 1 Axes>"
      ]
     },
     "metadata": {},
     "output_type": "display_data"
    }
   ],
   "source": [
    "M =np.load(DATA_PATH + 'pw_dist_rmsd/' + 'M_pair_mut.npy')\n",
    "num_bins = 20 # <-- Change here - Specify total number of bins for histogram\n",
    "plt.hist(M.ravel(), bins=np.linspace(np.min(M), np.max(M), num=num_bins)) #<-- Change here.  Note the use of ravel.\n",
    "plt.show()"
   ]
  },
  {
   "cell_type": "code",
   "execution_count": 10,
   "id": "8910c112-743c-448b-a7ac-388ff754c36f",
   "metadata": {},
   "outputs": [
    {
     "data": {
      "image/png": "[encoded data removed]",
      "text/plain": [
       "<Figure size 432x288 with 1 Axes>"
      ]
     },
     "metadata": {},
     "output_type": "display_data"
    }
   ],
   "source": [
    "A =np.load(DATA_PATH + 'pw_dist_rmsd/' + 'M_pair_P61626_mut_af2.npy')\n",
    "num_bins = 20  \n",
    "plt.hist(A.ravel(), bins=np.linspace(np.min(A), np.max(A), num=num_bins))\n",
    "plt.show()"
   ]
  },
  {
   "cell_type": "code",
   "execution_count": 11,
   "id": "1383e606-b65f-426a-adbe-088e662c5263",
   "metadata": {},
   "outputs": [
    {
     "data": {
      "image/png": "[encoded data removed]",
      "text/plain": [
       "<Figure size 432x288 with 1 Axes>"
      ]
     },
     "metadata": {},
     "output_type": "display_data"
    }
   ],
   "source": [
    "df_W = pd.DataFrame(W.ravel(), columns=['rmsd'])\n",
    "df_M = pd.DataFrame(M.ravel(), columns=['rmsd'])\n",
    "df_A = pd.DataFrame(A.ravel(), columns=['rmsd'])\n",
    "sns.histplot(df_W, x=\"rmsd\", binwidth=0.02, alpha=0.7, kde=True, color='lightgreen', label=\"WT X-ray: $\\mu = {}$, $\\sigma = {}$\".format(round(df_W[\"rmsd\"].mean(),3),round(df_W[\"rmsd\"].std(),3)), stat = \"probability\")\n",
    "sns.histplot(df_M, x=\"rmsd\", binwidth=0.02, alpha=0.5, kde=True, color='grey', label=\"MUT X-ray: $\\mu = {}$, $\\sigma = {}$\".format(round(df_M[\"rmsd\"].mean(),3),round(df_M[\"rmsd\"].std(),3)), stat = \"probability\")\n",
    "sns.histplot(df_A, x=\"rmsd\", binwidth=0.02, alpha=0.5, kde=True, color='lightblue', label=\"MUT AF2: $\\mu = {}$, $\\sigma = {}$\".format(round(df_A[\"rmsd\"].mean(),3),round(df_A[\"rmsd\"].std(),3)), stat = \"probability\")\n",
    "\n",
    "plt.legend(fontsize=8)\n",
    "plt.title('P61626: RMSD calculated using ChimeraX Matchmaker',fontsize=8)\n",
    "plt.xlabel(\"RMSD for each pair [Å]\")\n",
    "plt.ylabel(\"Frequency\")\n",
    "\n",
    "plt.savefig(DATA_PATH_ROOT + \"/notebooks/figs/pairwise_wt_xray_mut_xray_mut_af2_P61626.pdf\")\n",
    "plt.show()"
   ]
  },
  {
   "cell_type": "code",
   "execution_count": 12,
   "id": "72eb750a-14f6-4e1f-92f0-5fbb9c84cc2e",
   "metadata": {},
   "outputs": [
    {
     "data": {
      "text/html": [
       "<div>\n",
       "<style scoped>\n",
       "    .dataframe tbody tr th:only-of-type {\n",
       "        vertical-align: middle;\n",
       "    }\n",
       "\n",
       "    .dataframe tbody tr th {\n",
       "        vertical-align: top;\n",
       "    }\n",
       "\n",
       "    .dataframe thead th {\n",
       "        text-align: right;\n",
       "    }\n",
       "</style>\n",
       "<table border=\"1\" class=\"dataframe\">\n",
       "  <thead>\n",
       "    <tr style=\"text-align: right;\">\n",
       "      <th></th>\n",
       "      <th>rmsd</th>\n",
       "    </tr>\n",
       "  </thead>\n",
       "  <tbody>\n",
       "    <tr>\n",
       "      <th>count</th>\n",
       "      <td>2209.000000</td>\n",
       "    </tr>\n",
       "    <tr>\n",
       "      <th>mean</th>\n",
       "      <td>0.097921</td>\n",
       "    </tr>\n",
       "    <tr>\n",
       "      <th>std</th>\n",
       "      <td>0.082915</td>\n",
       "    </tr>\n",
       "    <tr>\n",
       "      <th>min</th>\n",
       "      <td>0.000000</td>\n",
       "    </tr>\n",
       "    <tr>\n",
       "      <th>25%</th>\n",
       "      <td>0.047454</td>\n",
       "    </tr>\n",
       "    <tr>\n",
       "      <th>50%</th>\n",
       "      <td>0.080709</td>\n",
       "    </tr>\n",
       "    <tr>\n",
       "      <th>75%</th>\n",
       "      <td>0.118308</td>\n",
       "    </tr>\n",
       "    <tr>\n",
       "      <th>max</th>\n",
       "      <td>0.488085</td>\n",
       "    </tr>\n",
       "  </tbody>\n",
       "</table>\n",
       "</div>"
      ],
      "text/plain": [
       "              rmsd\n",
       "count  2209.000000\n",
       "mean      0.097921\n",
       "std       0.082915\n",
       "min       0.000000\n",
       "25%       0.047454\n",
       "50%       0.080709\n",
       "75%       0.118308\n",
       "max       0.488085"
      ]
     },
     "execution_count": 12,
     "metadata": {},
     "output_type": "execute_result"
    }
   ],
   "source": [
    "df_A.describe()"
   ]
  },
  {
   "cell_type": "code",
   "execution_count": 13,
   "id": "6e363f29-bb5f-43e3-aca6-477bc5904db9",
   "metadata": {},
   "outputs": [],
   "source": [
    "df_sig_af2 = pd.read_csv(DATA_PATH_ROOT + '/data/arodz12/pw_dist_rmsd/signi_rmsd_pairs_af2_P61626.csv')"
   ]
  },
  {
   "cell_type": "code",
   "execution_count": 14,
   "id": "2eee9ab9-e99a-4d9f-a2dd-eac26106cf59",
   "metadata": {},
   "outputs": [
    {
     "data": {
      "image/png": "[encoded data removed]",
      "text/plain": [
       "<Figure size 432x288 with 1 Axes>"
      ]
     },
     "metadata": {},
     "output_type": "display_data"
    }
   ],
   "source": [
    "# We use double the wild type mean to filter for mutants changes that are different than wild type\n",
    "df_sig_af2['pdb1']\n",
    "df_sig_af2['pdb2']\n",
    "occur = df_sig_af2.groupby(['pdb2']).size()\n",
    "occur\n",
    "ax = occur.plot.bar(x='lab', y='val')\n",
    "ax.set_xlabel(\"Structure\")\n",
    "ax.set_ylabel(\"Count\")\n",
    "plt.savefig(DATA_PATH_ROOT + \"/notebooks/figs/bar_chart_pair_rmsd_af2_P61626.pdf\")"
   ]
  },
  {
   "cell_type": "code",
   "execution_count": 15,
   "id": "05c17eca-dd2c-41e7-948c-20e9ad8d4806",
   "metadata": {},
   "outputs": [],
   "source": [
    "df_sig_pdb = pd.read_csv(DATA_PATH_ROOT + '/data/arodz12/pw_dist_rmsd/signi_rmsd_pairs_pdb_P61626.csv')"
   ]
  },
  {
   "cell_type": "code",
   "execution_count": 16,
   "id": "fab7f981-00a5-4eb2-866b-1fa8b501e74b",
   "metadata": {},
   "outputs": [
    {
     "data": {
      "image/png": "[encoded data removed]",
      "text/plain": [
       "<Figure size 432x288 with 1 Axes>"
      ]
     },
     "metadata": {},
     "output_type": "display_data"
    }
   ],
   "source": [
    "df_sig_pdb['pdb1'].unique()\n",
    "df_sig_pdb['pdb2'].unique()\n",
    "df_sig_pdb\n",
    "occur = df_sig_pdb.groupby(['pdb2']).size()\n",
    "occur\n",
    "ax = occur.plot.bar(x='lab', y='val')\n",
    "plt.savefig(DATA_PATH_ROOT + \"/notebooks/figs/bar_chart_pair_rmsd_pdb_P61626.png\", dpi=1200)"
   ]
  },
  {
   "cell_type": "code",
   "execution_count": 17,
   "id": "68cada6d-e909-43a2-b961-e1486a78d04a",
   "metadata": {},
   "outputs": [
    {
     "data": {
      "text/html": [
       "<div>\n",
       "<style scoped>\n",
       "    .dataframe tbody tr th:only-of-type {\n",
       "        vertical-align: middle;\n",
       "    }\n",
       "\n",
       "    .dataframe tbody tr th {\n",
       "        vertical-align: top;\n",
       "    }\n",
       "\n",
       "    .dataframe thead th {\n",
       "        text-align: right;\n",
       "    }\n",
       "</style>\n",
       "<table border=\"1\" class=\"dataframe\">\n",
       "  <thead>\n",
       "    <tr style=\"text-align: right;\">\n",
       "      <th></th>\n",
       "      <th>rmsd</th>\n",
       "    </tr>\n",
       "  </thead>\n",
       "  <tbody>\n",
       "    <tr>\n",
       "      <th>count</th>\n",
       "      <td>288.000000</td>\n",
       "    </tr>\n",
       "    <tr>\n",
       "      <th>mean</th>\n",
       "      <td>0.170672</td>\n",
       "    </tr>\n",
       "    <tr>\n",
       "      <th>std</th>\n",
       "      <td>0.105087</td>\n",
       "    </tr>\n",
       "    <tr>\n",
       "      <th>min</th>\n",
       "      <td>0.000000</td>\n",
       "    </tr>\n",
       "    <tr>\n",
       "      <th>25%</th>\n",
       "      <td>0.094650</td>\n",
       "    </tr>\n",
       "    <tr>\n",
       "      <th>50%</th>\n",
       "      <td>0.204178</td>\n",
       "    </tr>\n",
       "    <tr>\n",
       "      <th>75%</th>\n",
       "      <td>0.252744</td>\n",
       "    </tr>\n",
       "    <tr>\n",
       "      <th>max</th>\n",
       "      <td>0.354385</td>\n",
       "    </tr>\n",
       "  </tbody>\n",
       "</table>\n",
       "</div>"
      ],
      "text/plain": [
       "             rmsd\n",
       "count  288.000000\n",
       "mean     0.170672\n",
       "std      0.105087\n",
       "min      0.000000\n",
       "25%      0.094650\n",
       "50%      0.204178\n",
       "75%      0.252744\n",
       "max      0.354385"
      ]
     },
     "execution_count": 17,
     "metadata": {},
     "output_type": "execute_result"
    }
   ],
   "source": [
    "df_W.describe()"
   ]
  },
  {
   "cell_type": "code",
   "execution_count": 18,
   "id": "b6be8270-3526-4642-aa66-ebd49504abe4",
   "metadata": {},
   "outputs": [
    {
     "name": "stdout",
     "output_type": "stream",
     "text": [
      "(0,) (105,)\n"
     ]
    },
    {
     "ename": "TypeError",
     "evalue": "expected non-empty vector for x",
     "output_type": "error",
     "traceback": [
      "\u001b[0;31m---------------------------------------------------------------------------\u001b[0m",
      "\u001b[0;31mTypeError\u001b[0m                                 Traceback (most recent call last)",
      "Input \u001b[0;32mIn [18]\u001b[0m, in \u001b[0;36m<cell line: 10>\u001b[0;34m()\u001b[0m\n\u001b[1;32m      7\u001b[0m chi_1_af2, filenames_af2, pos_af2 \u001b[38;5;241m=\u001b[39m compile_angles_af2(DATA_PATH_AF2_WT,wt)\n\u001b[1;32m      9\u001b[0m \u001b[38;5;66;03m# Plot chi_1 angles\u001b[39;00m\n\u001b[0;32m---> 10\u001b[0m \u001b[43mcirc_meanscatter_plot\u001b[49m\u001b[43m(\u001b[49m\u001b[43mchi_1_af2\u001b[49m\u001b[43m,\u001b[49m\u001b[43m \u001b[49m\u001b[43mchi_1_pdb\u001b[49m\u001b[43m)\u001b[49m\n",
      "Input \u001b[0;32mIn [3]\u001b[0m, in \u001b[0;36mcirc_meanscatter_plot\u001b[0;34m(x_ls, y_ls)\u001b[0m\n\u001b[1;32m     61\u001b[0m plt\u001b[38;5;241m.\u001b[39mxlim(\u001b[38;5;241m-\u001b[39m\u001b[38;5;241m120\u001b[39m,\u001b[38;5;241m250\u001b[39m)\n\u001b[1;32m     62\u001b[0m plt\u001b[38;5;241m.\u001b[39mylim(\u001b[38;5;241m-\u001b[39m\u001b[38;5;241m120\u001b[39m,\u001b[38;5;241m250\u001b[39m)\n\u001b[0;32m---> 63\u001b[0m trend \u001b[38;5;241m=\u001b[39m \u001b[43mnp\u001b[49m\u001b[38;5;241;43m.\u001b[39;49m\u001b[43mpolyfit\u001b[49m\u001b[43m(\u001b[49m\u001b[43mX\u001b[49m\u001b[43m,\u001b[49m\u001b[43mY_means\u001b[49m\u001b[43m,\u001b[49m\u001b[38;5;241;43m1\u001b[39;49m\u001b[43m)\u001b[49m\n\u001b[1;32m     64\u001b[0m trendpoly \u001b[38;5;241m=\u001b[39m np\u001b[38;5;241m.\u001b[39mpoly1d(trend) \n\u001b[1;32m     65\u001b[0m plt\u001b[38;5;241m.\u001b[39mscatter(X, Y_means)\u001b[38;5;66;03m#, c=colors)\u001b[39;00m\n",
      "File \u001b[0;32m<__array_function__ internals>:5\u001b[0m, in \u001b[0;36mpolyfit\u001b[0;34m(*args, **kwargs)\u001b[0m\n",
      "File \u001b[0;32m~/opt/anaconda3/lib/python3.9/site-packages/numpy/lib/polynomial.py:630\u001b[0m, in \u001b[0;36mpolyfit\u001b[0;34m(x, y, deg, rcond, full, w, cov)\u001b[0m\n\u001b[1;32m    628\u001b[0m     \u001b[38;5;28;01mraise\u001b[39;00m \u001b[38;5;167;01mTypeError\u001b[39;00m(\u001b[38;5;124m\"\u001b[39m\u001b[38;5;124mexpected 1D vector for x\u001b[39m\u001b[38;5;124m\"\u001b[39m)\n\u001b[1;32m    629\u001b[0m \u001b[38;5;28;01mif\u001b[39;00m x\u001b[38;5;241m.\u001b[39msize \u001b[38;5;241m==\u001b[39m \u001b[38;5;241m0\u001b[39m:\n\u001b[0;32m--> 630\u001b[0m     \u001b[38;5;28;01mraise\u001b[39;00m \u001b[38;5;167;01mTypeError\u001b[39;00m(\u001b[38;5;124m\"\u001b[39m\u001b[38;5;124mexpected non-empty vector for x\u001b[39m\u001b[38;5;124m\"\u001b[39m)\n\u001b[1;32m    631\u001b[0m \u001b[38;5;28;01mif\u001b[39;00m y\u001b[38;5;241m.\u001b[39mndim \u001b[38;5;241m<\u001b[39m \u001b[38;5;241m1\u001b[39m \u001b[38;5;129;01mor\u001b[39;00m y\u001b[38;5;241m.\u001b[39mndim \u001b[38;5;241m>\u001b[39m \u001b[38;5;241m2\u001b[39m:\n\u001b[1;32m    632\u001b[0m     \u001b[38;5;28;01mraise\u001b[39;00m \u001b[38;5;167;01mTypeError\u001b[39;00m(\u001b[38;5;124m\"\u001b[39m\u001b[38;5;124mexpected 1D or 2D array for y\u001b[39m\u001b[38;5;124m\"\u001b[39m)\n",
      "\u001b[0;31mTypeError\u001b[0m: expected non-empty vector for x"
     ]
    },
    {
     "data": {
      "image/png": "[encoded data removed]",
      "text/plain": [
       "<Figure size 432x288 with 1 Axes>"
      ]
     },
     "metadata": {},
     "output_type": "display_data"
    }
   ],
   "source": [
    "# Get chi 1 angles\n",
    "DATA_PATH_PDB_WT = DATA_PATH + 'pdbs_wt_P61626/'\n",
    "DATA_PATH_AF2_WT = DATA_PATH_ROOT + '/data/results_af2/P61626'\n",
    "\n",
    "wt = ['1lz1']\n",
    "chi_1_pdb, filenames_pdb, pos_pdb = compile_angles_pdb(DATA_PATH_PDB_WT)\n",
    "chi_1_af2, filenames_af2, pos_af2 = compile_angles_af2(DATA_PATH_AF2_WT,wt)\n",
    "\n",
    "# Plot chi_1 angles\n",
    "circ_meanscatter_plot(chi_1_af2, chi_1_pdb)"
   ]
  }
 ],
 "metadata": {
  "kernelspec": {
   "display_name": "Python 3 (ipykernel)",
   "language": "python",
   "name": "python3"
  },
  "language_info": {
   "codemirror_mode": {
    "name": "ipython",
    "version": 3
   },
   "file_extension": ".py",
   "mimetype": "text/x-python",
   "name": "python",
   "nbconvert_exporter": "python",
   "pygments_lexer": "ipython3",
   "version": "3.9.12"
  }
 },
 "nbformat": 4,
 "nbformat_minor": 5
}
