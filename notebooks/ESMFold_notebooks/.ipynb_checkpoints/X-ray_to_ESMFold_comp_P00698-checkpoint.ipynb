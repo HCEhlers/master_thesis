{
 "cells": [
  {
   "cell_type": "code",
   "execution_count": 1,
   "id": "2cf7c373-88fa-4310-8341-f03c34d84e7f",
   "metadata": {},
   "outputs": [],
   "source": [
    "import pandas as pd\n",
    "import os\n",
    "import numpy as np\n",
    "import matplotlib.pyplot as plt\n",
    "import seaborn as sns\n",
    "sns.set_style(\"darkgrid\")"
   ]
  },
  {
   "cell_type": "code",
   "execution_count": 2,
   "id": "4aef571a-3e6a-4400-ada8-395f160f51b5",
   "metadata": {},
   "outputs": [],
   "source": [
    "os.chdir('../..')\n",
    "cwd = os.getcwd()\n",
    "DATA_PATH_ROOT = cwd\n",
    "# Load data\n",
    "DATA_PATH_MUT_ESM_rec1 = DATA_PATH_ROOT + '/data/results_rmsd/results_rmsd_esmfold/P00698/P00698_rec1_MUT/'\n",
    "DATA_PATH_MUT_ESM_rec3 = DATA_PATH_ROOT + '/data/results_rmsd/results_rmsd_esmfold/P00698/P00698_rec3_MUT/'\n",
    "DATA_PATH_WT_ESM_rec1 = DATA_PATH_ROOT + '/data/results_rmsd/results_rmsd_esmfold/P00698/P00698_rec1_WT/'\n",
    "DATA_PATH_WT_ESM_rec3 = DATA_PATH_ROOT + '/data/results_rmsd/results_rmsd_esmfold/P00698/P00698_rec3_WT/'\n",
    "\n",
    "mut_esm_rec1_rmsds = list() \n",
    "mut_esm_rec3_rmsds = list()\n",
    "wt_esm_rec1_rmsds = list()\n",
    "wt_esm_rec3_rmsds = list()\n",
    "list_dir = os.listdir(DATA_PATH_MUT_ESM_rec1)\n",
    "for file in list_dir:\n",
    "    # MUT_ESM_rec1\n",
    "    df_mut_esm_rec1 = pd.read_csv(DATA_PATH_MUT_ESM_rec1 + file)\n",
    "    mut_esm_rec1_rmsds.append(df_mut_esm_rec1['rmsd'][0])\n",
    "    \n",
    "    # MUT_ESM_rec3\n",
    "    df_mut_esm_rec3 = pd.read_csv(DATA_PATH_MUT_ESM_rec3 + file)\n",
    "    mut_esm_rec3_rmsds.append(df_mut_esm_rec3['rmsd'][0])\n",
    "    \n",
    "    # WT_ESM_rec1\n",
    "    df_wt_esm_rec1 = pd.read_csv(DATA_PATH_WT_ESM_rec1 + file)\n",
    "    wt_esm_rec1_rmsds.append(df_wt_esm_rec1['rmsd'][0])\n",
    "    \n",
    "    # WT_ESM_rec3\n",
    "    df_wt_esm_rec3 = pd.read_csv(DATA_PATH_WT_ESM_rec3 + file)\n",
    "    wt_esm_rec3_rmsds.append(df_wt_esm_rec3['rmsd'][0])\n",
    "    "
   ]
  },
  {
   "cell_type": "code",
   "execution_count": 3,
   "id": "9764e812-5a25-488c-8ab5-b51ee48924cd",
   "metadata": {},
   "outputs": [
    {
     "data": {
      "image/png": "[encoded data removed]",
      "text/plain": [
       "<Figure size 432x288 with 1 Axes>"
      ]
     },
     "metadata": {},
     "output_type": "display_data"
    }
   ],
   "source": [
    "# MUT_ESM_rec1 vs. WT_ESM_rec1\n",
    "plt.plot(mut_esm_rec1_rmsds, wt_esm_rec1_rmsds , 'o');"
   ]
  },
  {
   "cell_type": "code",
   "execution_count": 4,
   "id": "ff8ace27-7cd4-4c63-930b-71b147a3112a",
   "metadata": {},
   "outputs": [
    {
     "data": {
      "image/png": "[encoded data removed]",
      "text/plain": [
       "<Figure size 432x288 with 1 Axes>"
      ]
     },
     "metadata": {},
     "output_type": "display_data"
    }
   ],
   "source": [
    "# MUT_ESM_rec3 vs. WT_ESM_rec3\n",
    "plt.plot(mut_esm_rec3_rmsds, wt_esm_rec3_rmsds , 'o');"
   ]
  }
 ],
 "metadata": {
  "kernelspec": {
   "display_name": "Python 3 (ipykernel)",
   "language": "python",
   "name": "python3"
  },
  "language_info": {
   "codemirror_mode": {
    "name": "ipython",
    "version": 3
   },
   "file_extension": ".py",
   "mimetype": "text/x-python",
   "name": "python",
   "nbconvert_exporter": "python",
   "pygments_lexer": "ipython3",
   "version": "3.9.12"
  }
 },
 "nbformat": 4,
 "nbformat_minor": 5
}
