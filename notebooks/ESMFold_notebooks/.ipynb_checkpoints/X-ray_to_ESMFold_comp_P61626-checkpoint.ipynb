{
 "cells": [
  {
   "cell_type": "code",
   "execution_count": 1,
   "id": "2cf7c373-88fa-4310-8341-f03c34d84e7f",
   "metadata": {},
   "outputs": [],
   "source": [
    "import pandas as pd\n",
    "import os\n",
    "import numpy as np\n",
    "import matplotlib.pyplot as plt\n",
    "import seaborn as sns\n",
    "sns.set_style(\"darkgrid\")"
   ]
  },
  {
   "cell_type": "code",
   "execution_count": 2,
   "id": "4aef571a-3e6a-4400-ada8-395f160f51b5",
   "metadata": {},
   "outputs": [],
   "source": [
    "os.chdir('../..')\n",
    "cwd = os.getcwd()\n",
    "DATA_PATH_ROOT = cwd\n",
    "# Load data\n",
    "DATA_PATH_MUT_ESM_rec1 = DATA_PATH_ROOT + '/data/results_rmsd/results_rmsd_esmfold/P61626/P61626_rec1_MUT/'\n",
    "DATA_PATH_MUT_ESM_rec3 = DATA_PATH_ROOT + '/data/results_rmsd/results_rmsd_esmfold/P61626/P61626_rec3_MUT/'\n",
    "DATA_PATH_WT_ESM_rec1 = DATA_PATH_ROOT + '/data/results_rmsd/results_rmsd_esmfold/P61626/P61626_rec1_WT/'\n",
    "DATA_PATH_WT_ESM_rec3 = DATA_PATH_ROOT + '/data/results_rmsd/results_rmsd_esmfold/P61626/P61626_rec3_WT/'\n",
    "\n",
    "mut_esm_rec1_rmsds = list() \n",
    "mut_esm_rec3_rmsds = list()\n",
    "wt_esm_rec1_rmsds = list()\n",
    "wt_esm_rec3_rmsds = list()\n",
    "list_dir = sorted(os.listdir(DATA_PATH_MUT_ESM_rec1))\n",
    "for file in list_dir:\n",
    "    # MUT_ESM_rec1\n",
    "    df_mut_esm_rec1 = pd.read_csv(DATA_PATH_MUT_ESM_rec1 + file)\n",
    "    mut_esm_rec1_rmsds.append(df_mut_esm_rec1['rmsd'][0])\n",
    "    \n",
    "    # MUT_ESM_rec3\n",
    "    df_mut_esm_rec3 = pd.read_csv(DATA_PATH_MUT_ESM_rec3 + file)\n",
    "    mut_esm_rec3_rmsds.append(df_mut_esm_rec3['rmsd'][0])\n",
    "    \n",
    "    # WT_ESM_rec1\n",
    "    df_wt_esm_rec1 = pd.read_csv(DATA_PATH_WT_ESM_rec1 + file)\n",
    "    wt_esm_rec1_rmsds.append(df_wt_esm_rec1['rmsd'][0])\n",
    "    \n",
    "    # WT_ESM_rec3\n",
    "    df_wt_esm_rec3 = pd.read_csv(DATA_PATH_WT_ESM_rec3 + file)\n",
    "    wt_esm_rec3_rmsds.append(df_wt_esm_rec3['rmsd'][0])\n",
    "    "
   ]
  },
  {
   "cell_type": "code",
   "execution_count": 3,
   "id": "d0f3f6fd-7616-4996-b99e-d71a032b7674",
   "metadata": {},
   "outputs": [
    {
     "data": {
      "text/plain": [
       "([0.46210173774069,\n",
       "  0.4339757534231303,\n",
       "  0.447376212929894,\n",
       "  0.4411808708762539,\n",
       "  0.4385972848701286,\n",
       "  0.3967530848993519,\n",
       "  0.4416326498716654,\n",
       "  0.446731948133947,\n",
       "  0.4680032722525271,\n",
       "  0.5085664094062677,\n",
       "  0.4470570302038318,\n",
       "  0.4356175608201833,\n",
       "  0.4214870116855456,\n",
       "  0.4282698319056516,\n",
       "  0.5251536791971315,\n",
       "  0.4640518290801443,\n",
       "  0.420132275800652,\n",
       "  0.4418252086531394,\n",
       "  0.4499506143000823,\n",
       "  0.4711392278033186,\n",
       "  0.683009452660731,\n",
       "  0.4513609213799799,\n",
       "  0.4440482980085994,\n",
       "  0.4663305554967991,\n",
       "  0.4411289712686842,\n",
       "  0.4726080076905599,\n",
       "  0.4554935871234907,\n",
       "  0.451591549970887,\n",
       "  0.4513383524324147,\n",
       "  0.4599618567767429,\n",
       "  0.4448917630888468,\n",
       "  0.4477484930736268,\n",
       "  0.4533636141076487,\n",
       "  0.4438372000180364,\n",
       "  0.4532838909964713,\n",
       "  0.4530182233282733,\n",
       "  0.4709735539527201,\n",
       "  0.4398184519907197,\n",
       "  0.4408129210402473,\n",
       "  0.4615892357553138,\n",
       "  0.4526786534597724,\n",
       "  0.4507896308639345,\n",
       "  0.4426359632302774,\n",
       "  0.445781810558353,\n",
       "  0.4219512018086023,\n",
       "  0.4516909826582029,\n",
       "  0.4827216207678893],\n",
       " ['rmsd_esmfold_to_mut_P61626_1gb5.csv',\n",
       "  'rmsd_esmfold_to_mut_P61626_1gb6.csv',\n",
       "  'rmsd_esmfold_to_mut_P61626_1gb7.csv',\n",
       "  'rmsd_esmfold_to_mut_P61626_1gb8.csv',\n",
       "  'rmsd_esmfold_to_mut_P61626_1gb9.csv',\n",
       "  'rmsd_esmfold_to_mut_P61626_1gbo.csv',\n",
       "  'rmsd_esmfold_to_mut_P61626_1gbw.csv',\n",
       "  'rmsd_esmfold_to_mut_P61626_1gbx.csv',\n",
       "  'rmsd_esmfold_to_mut_P61626_1gby.csv',\n",
       "  'rmsd_esmfold_to_mut_P61626_1gbz.csv',\n",
       "  'rmsd_esmfold_to_mut_P61626_1gfh.csv',\n",
       "  'rmsd_esmfold_to_mut_P61626_1gfj.csv',\n",
       "  'rmsd_esmfold_to_mut_P61626_1gfk.csv',\n",
       "  'rmsd_esmfold_to_mut_P61626_1gfr.csv',\n",
       "  'rmsd_esmfold_to_mut_P61626_1gft.csv',\n",
       "  'rmsd_esmfold_to_mut_P61626_1gfu.csv',\n",
       "  'rmsd_esmfold_to_mut_P61626_1gfv.csv',\n",
       "  'rmsd_esmfold_to_mut_P61626_1inu.csv',\n",
       "  'rmsd_esmfold_to_mut_P61626_1lhh.csv',\n",
       "  'rmsd_esmfold_to_mut_P61626_1lhi.csv',\n",
       "  'rmsd_esmfold_to_mut_P61626_1lhj.csv',\n",
       "  'rmsd_esmfold_to_mut_P61626_1lhk.csv',\n",
       "  'rmsd_esmfold_to_mut_P61626_1lhl.csv',\n",
       "  'rmsd_esmfold_to_mut_P61626_1oub.csv',\n",
       "  'rmsd_esmfold_to_mut_P61626_1ouc.csv',\n",
       "  'rmsd_esmfold_to_mut_P61626_1oud.csv',\n",
       "  'rmsd_esmfold_to_mut_P61626_1oue.csv',\n",
       "  'rmsd_esmfold_to_mut_P61626_1ouh.csv',\n",
       "  'rmsd_esmfold_to_mut_P61626_1oui.csv',\n",
       "  'rmsd_esmfold_to_mut_P61626_1ouj.csv',\n",
       "  'rmsd_esmfold_to_mut_P61626_1wqm.csv',\n",
       "  'rmsd_esmfold_to_mut_P61626_1wqn.csv',\n",
       "  'rmsd_esmfold_to_mut_P61626_1wqo.csv',\n",
       "  'rmsd_esmfold_to_mut_P61626_1wqp.csv',\n",
       "  'rmsd_esmfold_to_mut_P61626_1wqq.csv',\n",
       "  'rmsd_esmfold_to_mut_P61626_1wqr.csv',\n",
       "  'rmsd_esmfold_to_mut_P61626_1yam.csv',\n",
       "  'rmsd_esmfold_to_mut_P61626_1yan.csv',\n",
       "  'rmsd_esmfold_to_mut_P61626_1yao.csv',\n",
       "  'rmsd_esmfold_to_mut_P61626_1yap.csv',\n",
       "  'rmsd_esmfold_to_mut_P61626_1yaq.csv',\n",
       "  'rmsd_esmfold_to_mut_P61626_2hea.csv',\n",
       "  'rmsd_esmfold_to_mut_P61626_2heb.csv',\n",
       "  'rmsd_esmfold_to_mut_P61626_2hec.csv',\n",
       "  'rmsd_esmfold_to_mut_P61626_2hed.csv',\n",
       "  'rmsd_esmfold_to_mut_P61626_2hee.csv',\n",
       "  'rmsd_esmfold_to_mut_P61626_2hef.csv'])"
      ]
     },
     "execution_count": 3,
     "metadata": {},
     "output_type": "execute_result"
    }
   ],
   "source": [
    "mut_esm_rec1_rmsds, list_dir"
   ]
  },
  {
   "cell_type": "code",
   "execution_count": 4,
   "id": "9764e812-5a25-488c-8ab5-b51ee48924cd",
   "metadata": {},
   "outputs": [
    {
     "data": {
      "image/png": "[encoded data removed]",
      "text/plain": [
       "<Figure size 432x288 with 1 Axes>"
      ]
     },
     "metadata": {},
     "output_type": "display_data"
    }
   ],
   "source": [
    "# MUT_ESM_rec1 vs. WT_ESM_rec1\n",
    "plt.plot(mut_esm_rec1_rmsds, wt_esm_rec1_rmsds , 'o');"
   ]
  },
  {
   "cell_type": "code",
   "execution_count": 5,
   "id": "ff8ace27-7cd4-4c63-930b-71b147a3112a",
   "metadata": {},
   "outputs": [
    {
     "data": {
      "image/png": "[encoded data removed]",
      "text/plain": [
       "<Figure size 432x288 with 1 Axes>"
      ]
     },
     "metadata": {},
     "output_type": "display_data"
    }
   ],
   "source": [
    "# MUT_ESM_rec3 vs. WT_ESM_rec3\n",
    "plt.plot(mut_esm_rec3_rmsds, wt_esm_rec3_rmsds , 'o');"
   ]
  }
 ],
 "metadata": {
  "kernelspec": {
   "display_name": "Python 3 (ipykernel)",
   "language": "python",
   "name": "python3"
  },
  "language_info": {
   "codemirror_mode": {
    "name": "ipython",
    "version": 3
   },
   "file_extension": ".py",
   "mimetype": "text/x-python",
   "name": "python",
   "nbconvert_exporter": "python",
   "pygments_lexer": "ipython3",
   "version": "3.9.12"
  }
 },
 "nbformat": 4,
 "nbformat_minor": 5
}
