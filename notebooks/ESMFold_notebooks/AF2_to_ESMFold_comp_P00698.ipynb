{
 "cells": [
  {
   "cell_type": "code",
   "execution_count": 1,
   "id": "2cf7c373-88fa-4310-8341-f03c34d84e7f",
   "metadata": {},
   "outputs": [],
   "source": [
    "import pandas as pd\n",
    "import os\n",
    "import numpy as np\n",
    "import matplotlib.pyplot as plt\n",
    "import seaborn as sns\n",
    "sns.set_style(\"darkgrid\")"
   ]
  },
  {
   "cell_type": "code",
   "execution_count": 2,
   "id": "4aef571a-3e6a-4400-ada8-395f160f51b5",
   "metadata": {},
   "outputs": [],
   "source": [
    "os.chdir('../..')\n",
    "cwd = os.getcwd()\n",
    "DATA_PATH_ROOT = cwd\n",
    "# Load data\n",
    "DATA_PATH_MUT_ESM = DATA_PATH_ROOT + '/data/results_rmsd/results_rmsd_esmfold/P00698/P00698_rec1_AF2/'\n",
    "DATA_PATH_MUT_ESM_rec3 = DATA_PATH_ROOT + '/data/results_rmsd/results_rmsd_esmfold/P00698/P00698_rec3_Af2/'\n",
    "arodz_pdbs = ['1hem', '1heo', '1her']\n",
    "\n",
    "# ESMFold muts to 5 AF2\n",
    "af2_wt_rmsd_list = np.zeros((5,3))\n",
    "dir_list = sorted(os.listdir(DATA_PATH_MUT_ESM))\n",
    "for j in range(len(dir_list)):\n",
    "    df_tmp = pd.read_csv(DATA_PATH_MUT_ESM + dir_list[j])['name']\n",
    "    df_tmp2 = pd.read_csv(DATA_PATH_MUT_ESM + dir_list[j])\n",
    "    df_tmp2['model_n'] = list(df_tmp.str.extract(r'(model_)(\\d)').iloc[:,1])\n",
    "    df_tmp2 = df_tmp2.sort_values('model_n')\n",
    "    ls = np.asarray(list(df_tmp2['rmsd']))\n",
    "    for idx in range(af2_wt_rmsd_list.shape[0]):\n",
    "        af2_wt_rmsd_list[idx,j] = ls[idx]\n",
    "\n",
    "af2_wt_rmsd_list = np.asarray(af2_wt_rmsd_list)"
   ]
  },
  {
   "cell_type": "code",
   "execution_count": 3,
   "id": "af05b7b1-ffde-407f-b768-31cec9040b45",
   "metadata": {},
   "outputs": [
    {
     "data": {
      "text/plain": [
       "array([0.19053578, 0.252138  , 0.24228904, 0.2413667 , 0.26643287])"
      ]
     },
     "execution_count": 3,
     "metadata": {},
     "output_type": "execute_result"
    }
   ],
   "source": [
    "af2_wt_rmsd_list\n",
    "np.mean(af2_wt_rmsd_list, axis=1)"
   ]
  },
  {
   "cell_type": "code",
   "execution_count": 4,
   "id": "891a21e2-3dee-4d0a-802d-091d318952a4",
   "metadata": {},
   "outputs": [
    {
     "data": {
      "text/plain": [
       "[0.003997624701911598,\n",
       " 0.008241275315698045,\n",
       " 0.010820445187164483,\n",
       " 0.006263608304963784,\n",
       " 0.007320332560899088]"
      ]
     },
     "execution_count": 4,
     "metadata": {},
     "output_type": "execute_result"
    }
   ],
   "source": [
    "# Create lists for the plot\n",
    "uniprot_ids = ['Model 1', 'Model 2', 'Model 3', 'Model 4', 'Model 5']\n",
    "x_pos = np.arange(len(uniprot_ids))\n",
    "means = np.mean(af2_wt_rmsd_list, axis=1).tolist()\n",
    "errors = np.std(af2_wt_rmsd_list, axis=1).tolist()\n",
    "errors"
   ]
  },
  {
   "cell_type": "code",
   "execution_count": 5,
   "id": "2d1273d0-8d07-4af1-b9a6-7aceb9168942",
   "metadata": {},
   "outputs": [
    {
     "data": {
      "image/png": "[encoded data removed]",
      "text/plain": [
       "<Figure size 432x288 with 1 Axes>"
      ]
     },
     "metadata": {},
     "output_type": "display_data"
    }
   ],
   "source": [
    "# Build the plot\n",
    "fig, ax = plt.subplots()\n",
    "ax.bar(x_pos, means, yerr=errors, align='center', alpha=1, ecolor='black', capsize=10)\n",
    "ax.set_ylabel('RMSD [Å]')\n",
    "ax.set_xticks(x_pos)\n",
    "ax.set_xticklabels(uniprot_ids)\n",
    "ax.set_title(\"P00698: Mean RMSD between ESMFold Model and AF2's 5 Models\")\n",
    "ax.yaxis.grid(True)\n",
    "\n",
    "# Save the figure and show\n",
    "plt.tight_layout()\n",
    "plt.savefig(DATA_PATH_ROOT + '/notebooks/figs/bar_plot_P00698_ESM_AF2.png')\n",
    "plt.show()"
   ]
  },
  {
   "cell_type": "code",
   "execution_count": 6,
   "id": "e79d22e5-6f2c-4d5b-b3a3-be7c82855a23",
   "metadata": {},
   "outputs": [],
   "source": [
    "# ESMFold muts to 5 AF2\n",
    "af2_wt_rmsd_list_rec3 = np.zeros((5,3))\n",
    "dir_list = sorted(os.listdir(DATA_PATH_MUT_ESM_rec3))\n",
    "for j in range(len(dir_list)):\n",
    "    df_tmp = pd.read_csv(DATA_PATH_MUT_ESM_rec3 + dir_list[j])['name']\n",
    "    df_tmp2 = pd.read_csv(DATA_PATH_MUT_ESM_rec3 + dir_list[j])\n",
    "    df_tmp2['model_n'] = list(df_tmp.str.extract(r'(model_)(\\d)').iloc[:,1])\n",
    "    df_tmp2 = df_tmp2.sort_values('model_n')\n",
    "    ls = np.asarray(list(df_tmp2['rmsd']))\n",
    "    for idx in range(af2_wt_rmsd_list_rec3.shape[0]):\n",
    "        af2_wt_rmsd_list_rec3[idx,j] = ls[idx]\n",
    "\n",
    "af2_wt_rmsd_list_rec3 = np.asarray(af2_wt_rmsd_list_rec3)"
   ]
  },
  {
   "cell_type": "code",
   "execution_count": 7,
   "id": "7b3970dc-2757-4812-baf7-06fcf80c84c8",
   "metadata": {},
   "outputs": [
    {
     "data": {
      "text/plain": [
       "array([0.19053578, 0.252138  , 0.24228904, 0.2413667 , 0.26643287])"
      ]
     },
     "execution_count": 7,
     "metadata": {},
     "output_type": "execute_result"
    }
   ],
   "source": [
    "af2_wt_rmsd_list_rec3\n",
    "np.mean(af2_wt_rmsd_list_rec3, axis=1)"
   ]
  },
  {
   "cell_type": "code",
   "execution_count": 8,
   "id": "1f30ea1a-558a-44d2-87f2-14a8a2a35b2e",
   "metadata": {},
   "outputs": [
    {
     "data": {
      "text/plain": [
       "[0.003997624701911598,\n",
       " 0.008241275315698045,\n",
       " 0.010820445187164483,\n",
       " 0.006263608304963784,\n",
       " 0.007320332560899088]"
      ]
     },
     "execution_count": 8,
     "metadata": {},
     "output_type": "execute_result"
    }
   ],
   "source": [
    "# Create lists for the plot\n",
    "uniprot_ids = ['Model 1', 'Model 2', 'Model 3', 'Model 4', 'Model 5']\n",
    "x_pos = np.arange(len(uniprot_ids))\n",
    "means = np.mean(af2_wt_rmsd_list_rec3, axis=1).tolist()\n",
    "errors = np.std(af2_wt_rmsd_list_rec3, axis=1).tolist()\n",
    "errors"
   ]
  },
  {
   "cell_type": "code",
   "execution_count": 9,
   "id": "f3ac9fcf-94a4-442a-8a23-eae90e4cbedf",
   "metadata": {},
   "outputs": [
    {
     "data": {
      "image/png": "[encoded data removed]",
      "text/plain": [
       "<Figure size 432x288 with 1 Axes>"
      ]
     },
     "metadata": {},
     "output_type": "display_data"
    }
   ],
   "source": [
    "# Build the plot\n",
    "fig, ax = plt.subplots()\n",
    "ax.bar(x_pos, means, yerr=errors, align='center', alpha=1, ecolor='black', capsize=10)\n",
    "ax.set_ylabel('RMSD [Å]')\n",
    "ax.set_xticks(x_pos)\n",
    "ax.set_xticklabels(uniprot_ids)\n",
    "ax.set_title(\"P61626: Mean RMSD between ESMFold Model and AF2's 5 Models\")\n",
    "ax.yaxis.grid(True)\n",
    "\n",
    "# Save the figure and show\n",
    "plt.tight_layout()\n",
    "plt.savefig(DATA_PATH_ROOT + '/notebooks/figs/bar_plot_P61626_ESM_AF2_rec3.png')\n",
    "plt.show()"
   ]
  }
 ],
 "metadata": {
  "kernelspec": {
   "display_name": "Python 3 (ipykernel)",
   "language": "python",
   "name": "python3"
  },
  "language_info": {
   "codemirror_mode": {
    "name": "ipython",
    "version": 3
   },
   "file_extension": ".py",
   "mimetype": "text/x-python",
   "name": "python",
   "nbconvert_exporter": "python",
   "pygments_lexer": "ipython3",
   "version": "3.9.12"
  }
 },
 "nbformat": 4,
 "nbformat_minor": 5
}
