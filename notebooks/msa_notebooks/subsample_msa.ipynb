{
 "cells": [
  {
   "cell_type": "code",
   "execution_count": 3,
   "id": "6d972af3-a914-4bf9-aaac-9eb85c60999f",
   "metadata": {},
   "outputs": [],
   "source": [
    "import random\n",
    "import numpy as np"
   ]
  },
  {
   "cell_type": "code",
   "execution_count": 4,
   "id": "ffb0982b-63a7-499b-8f60-b7d332d826db",
   "metadata": {},
   "outputs": [],
   "source": [
    "random.seed(42)\n",
    "def subsample_sequences(alignment_file, n):\n",
    "    # Read the alignment file into a list of tuples, where each tuple contains the header and sequence\n",
    "    with open(alignment_file, 'r') as f:\n",
    "        next(f)\n",
    "        lines = [line.strip() for line in f]\n",
    "    headers_and_sequences = [(lines[i], lines[i+1]) for i in range(0, len(lines), 2) if i+1 < len(lines)]\n",
    "    # Choose n random sequences from the list\n",
    "    subsampled_sequences = random.sample(headers_and_sequences, n)\n",
    "    \n",
    "    return subsampled_sequences"
   ]
  },
  {
   "cell_type": "code",
   "execution_count": 23,
   "id": "27c90dec-c9f3-449e-86f4-8622f3085deb",
   "metadata": {},
   "outputs": [],
   "source": [
    "def write_subsampled_alignment(subsampled_sequences, output_file):\n",
    "    # Open the output file for writing\n",
    "    with open(output_file, 'w') as f:\n",
    "        # Write main header\n",
    "        f.write('#130\\t1' + '\\n')\n",
    "        f.write('>101' + '\\n')\n",
    "        f.write('KVFERCELARTLKRLGMDGYRGISLANWMCLAKWESGYNTRATNYNAGDRSTDYGIFQINSRYWCNDGKTPGAVNACHLSCSALLQDNIADAVACAKRVVRDPQGIRAWIAWRNRCQNRDVRQYVQGCGV' + '\\n')\n",
    "        # Write each header and sequence to the output file\n",
    "        for header, sequence in subsampled_sequences:\n",
    "            f.write(header + '\\n')\n",
    "            f.write(sequence + '\\n')\n"
   ]
  },
  {
   "cell_type": "code",
   "execution_count": 24,
   "id": "22c590a6-3107-4b55-bb44-fa8b42766d24",
   "metadata": {},
   "outputs": [],
   "source": [
    "subsampled_sequences = subsample_sequences('/Users/holger/Desktop/master_thesis/data/results_af2/P61626/P61626_default/P61626_1gbw.result/P61626_1gbw_c9d43.a3m',64)\n",
    "write_subsampled_alignment(subsampled_sequences, '/Users/holger/Desktop/master_thesis/data/results_af2/P61626/MSA_64/P61626_1gbw_msa_64.a3m')"
   ]
  },
  {
   "cell_type": "code",
   "execution_count": 11,
   "id": "b1bb9d62-862c-48ed-b710-b7fff27c8f79",
   "metadata": {},
   "outputs": [],
   "source": [
    "def subsample_sequences_uniform(alignment_file, intervals):\n",
    "    # Read the alignment file into a list of tuples, where each tuple contains the header and sequence\n",
    "    with open(alignment_file, 'r') as f:\n",
    "        next(f)\n",
    "        lines = [line.strip() for line in f]\n",
    "    headers_and_sequences = np.asarray([(lines[i], lines[i+1]) for i in range(0, len(lines), 2) if i+1 < len(lines)])\n",
    "    # Choose n random sequences from the list\n",
    "    idx = np.asarray([random.randint(intervals[i][0],intervals[i][1]) for i in range(len(intervals))])\n",
    "    print(idx)\n",
    "    headers_and_sequences = headers_and_sequences[idx]\n",
    "    #subsampled_sequences = random.sample(headers_and_sequences, n)\n",
    "    \n",
    "    return headers_and_sequences"
   ]
  },
  {
   "cell_type": "code",
   "execution_count": 23,
   "id": "c83c205a-fe7a-4c50-a801-ea16afab54e7",
   "metadata": {},
   "outputs": [
    {
     "name": "stdout",
     "output_type": "stream",
     "text": [
      "[   68   794  1439  1919  2403  2547  3148  3581  4277  4916  5260  5774\n",
      "  6369  6733  7445  7652  8096  8800  9068 10014 10487 10762 11287 11880\n",
      " 12462 12967 13079 13937 14312 14723 15459 16003]\n",
      "[  489   944  1491  1943  2040  2561  3061  3705  4451  4613  5406  5947\n",
      "  6378  6976  7199  7673  8358  8659  9364  9575 10357 10911 11147 11789\n",
      " 12398 12776 13489 13951 14524 14847 15576 15783]\n",
      "[  121   806  1284  1575  2201  2983  3327  3763  4344  4824  5063  5843\n",
      "  6042  7004  7470  7785  8180  8833  9173  9655 10427 10803 11342 11997\n",
      " 12353 12818 13281 13908 14524 14664 15208 15918]\n",
      "[  120   658  1058  1878  2214  2760  3097  3567  4058  4537  5235  5814\n",
      "  6505  6687  7451  7936  8078  8664  9320  9831 10244 10704 11465 11657\n",
      " 12495 12629 13212 13690 14566 15061 15103 16017]\n",
      "[  318   633  1385  1692  2419  2868  3500  3951  4402  4860  5502  5804\n",
      "  6050  6969  7280  7942  8530  8678  9386  9583 10521 10643 11123 11759\n",
      " 12312 13019 13204 13775 14362 14639 15383 15720]\n",
      "[  406   796  1426  1550  2260  2905  3151  3539  4024  4601  5369  5833\n",
      "  6276  7033  7430  7921  8239  8714  9448  9568 10199 10813 11476 11670\n",
      " 12445 13021 13289 14047 14359 14863 15439 15641]\n",
      "[  165   988  1083  1711  2345  2539  3055  3941  4298  4575  5217  5831\n",
      "  6065  7004  7301  7654  8067  8595  9276  9771 10095 10686 11112 11851\n",
      " 12289 12605 13501 13870 14147 15072 15204 15915]\n",
      "[  116   692  1498  1701  2076  2613  3378  3543  4067  4597  5156  5948\n",
      "  6295  6646  7247  7873  8063  8786  9303  9789 10259 10816 11359 11667\n",
      " 12531 13000 13284 13626 14332 14706 15478 15603]\n",
      "[  237   816  1197  1645  2082  2610  3461  3867  4027  4700  5287  5770\n",
      "  6495  6848  7083  7716  8331  9030  9369  9915 10080 10935 11260 11655\n",
      " 12432 13059 13309 14068 14455 14803 15170 15679]\n",
      "[  292   519  1225  1756  2307  2522  3123  3757  4440  4778  5451  5675\n",
      "  6370  6954  7124  7562  8314  8801  9221  9595 10187 11050 11553 11950\n",
      " 12256 12597 13293 14021 14155 14895 15271 15788]\n"
     ]
    }
   ],
   "source": [
    "# Uniform subsample\n",
    "# P0A7Y4: 1kvb\n",
    "#16098.0/32 ≈ 503\n",
    "\n",
    "intervals = [[i*503-503,i*503] for i in range(1,33)]\n",
    "INDIR = '/Users/holger/Desktop/master_thesis/data/results_af2/P0A7Y4/P0A7Y4_1kvb.result/P0A7Y4_1kvb_90ba3.a3m'\n",
    "OUTDIR = '/Users/holger/Desktop/master_thesis/data/results_msa/P0A7Y4_1kvb_MSA_32/'\n",
    "for i in range(1,11):\n",
    "    random.seed(i)\n",
    "    subsampled_sequences_u = subsample_sequences_uniform(INDIR, intervals)\n",
    "    subsampled_sequences_u = subsampled_sequences_u.tolist()\n",
    "    write_subsampled_alignment(subsampled_sequences_u, OUTDIR + 'P0A7Y4_1kvb_MSA_32_{}.a3m'.format(i))\n",
    "    "
   ]
  },
  {
   "cell_type": "code",
   "execution_count": 47,
   "id": "226a16f8-259b-44d2-98a1-8dcaac7640a4",
   "metadata": {},
   "outputs": [
    {
     "name": "stdout",
     "output_type": "stream",
     "text": [
      "[  34  299  324  527  646  896 1039 1198 1329 1439 1564 1818 1855 2101\n",
      " 2266 2310 2578 2686 2830 3077 3106 3315 3395 3547 3702 3988 4006 4255\n",
      " 4367 4574 4627 4909]\n",
      "[  14  177  329  554  659  848  988 1132 1241 1534 1580 1804 1948 2132\n",
      " 2251 2449 2577 2746 2840 2935 3087 3327 3507 3623 3793 3958 4138 4200\n",
      " 4455 4511 4680 4833]\n",
      "[  60  305  447  495  710  924 1045 1226 1248 1389 1660 1760 1989 2061\n",
      " 2205 2430 2602 2758 2893 3027 3118 3293 3426 3675 3795 3853 4020 4198\n",
      " 4463 4476 4697 4781]\n",
      "[  60  231  334  563  738  809  947 1095 1237 1488 1680 1768 1863 2058\n",
      " 2289 2447 2556 2688 2816 2953 3147 3288 3394 3608 3765 3899 4046 4237\n",
      " 4386 4561 4642 4860]\n",
      "[  65  245  443  469  735  833  937 1118 1260 1481 1660 1757 1945 2141\n",
      " 2182 2456 2527 2621 2827 3030 3151 3280 3487 3582 3714 3885 4117 4190\n",
      " 4345 4466 4621 4827]\n",
      "[ 146  174  432  528  625  770  961 1228 1352 1481 1621 1699 1917 2127\n",
      " 2206 2415 2601 2756 2796 2975 3224 3375 3455 3564 3804 3935 4027 4250\n",
      " 4416 4530 4733 4798]\n",
      "[  82  192  409  474  634  907  948 1171 1381 1400 1669 1748 1857 2024\n",
      " 2267 2417 2481 2679 2795 3067 3188 3249 3532 3573 3753 3999 4019 4305\n",
      " 4461 4567 4632 4830]\n",
      "[  58  248  404  494  665  781  945 1113 1295 1515 1593 1796 1855 2119\n",
      " 2280 2426 2563 2744 2918 2975 3183 3256 3512 3601 3701 3918 4137 4262\n",
      " 4433 4563 4649 4840]\n",
      "[ 118  249  376  497  663  771 1010 1206 1350 1540 1560 1779 1989 2012\n",
      " 2253 2353 2579 2726 2812 2969 3140 3247 3416 3575 3825 4001 4020 4256\n",
      " 4338 4540 4672 4831]\n",
      "[ 146  162  417  585  763  773  976 1196 1357 1457 1581 1702 1981 2127\n",
      " 2239 2329 2527 2710 2783 3033 3115 3388 3478 3639 3803 3922 4071 4274\n",
      " 4356 4543 4712 4808]\n"
     ]
    }
   ],
   "source": [
    "# Uniform subsample\n",
    "# P61626: 1gbz\n",
    "#4942.0/32 ≈ 503\n",
    "\n",
    "intervals = [[i*154-154,i*154] for i in range(1,33)]\n",
    "INDIR = '/Users/holger/Desktop/master_thesis/data/results_af2/P61626/P61626_default/P61626_1gbz.result/P61626_1gbz_8966e.a3m'\n",
    "OUTDIR = '/Users/holger/Desktop/master_thesis/data/results_msa/P61626_1gbz_MSA_32/'\n",
    "for i in range(1,11):\n",
    "    random.seed(i)\n",
    "    subsampled_sequences_u = subsample_sequences_uniform(INDIR, intervals)\n",
    "    subsampled_sequences_u = subsampled_sequences_u.tolist()\n",
    "    write_subsampled_alignment(subsampled_sequences_u, OUTDIR + 'P61626_1gbz_MSA_32_{}.a3m'.format(i))\n",
    "    "
   ]
  },
  {
   "cell_type": "code",
   "execution_count": 48,
   "id": "f713c21f-2a73-45fe-acfd-31ae5a42ee00",
   "metadata": {},
   "outputs": [
    {
     "name": "stdout",
     "output_type": "stream",
     "text": [
      "[  34  298  322  524  642  891 1033 1191 1321 1430 1554 1807 1843 2088\n",
      " 2252 2295 2562 2669 2812 3058 3086 3294 3373 3524 3678 3963 3980 4228\n",
      " 4339 4545 4597 4878]\n",
      "[  14  176  327  551  655  843  982 1125 1233 1525 1570 1793 1936 2119\n",
      " 2237 2434 2561 2729 2822 2916 3067 3306 3485 3600 3769 3933 4112 4173\n",
      " 4427 4482 4650 4802]\n",
      "[  60  304  445  492  706  886 1066 1087 1227 1497 1596 1824 1895 2038\n",
      " 2262 2433 2588 2722 2855 2945 3119 3251 3499 3618 3675 3841 4018 4282\n",
      " 4294 4514 4597 4811]\n",
      "[  60  230  332  560  734  804  941 1088 1229 1479 1670 1757 1851 2045\n",
      " 2275 2432 2540 2671 2798 2934 3127 3267 3372 3585 3741 3874 4020 4210\n",
      " 4358 4532 4612 4829]\n",
      "[  65  244  441  466  731  828  931 1111 1252 1472 1650 1746 1933 2128\n",
      " 2168 2441 2511 2604 2809 3011 3131 3259 3465 3559 3690 3860 4091 4163\n",
      " 4317 4437 4591 4796]\n",
      "[ 146  173  430  525  621  765  955 1221 1344 1472 1611 1688 1905 2114\n",
      " 2192 2400 2585 2739 2778 2956 3204 3354 3433 3541 3780 3910 4001 4223\n",
      " 4388 4501 4703 4767]\n",
      "[  82  191  407  471  630  902  942 1164 1373 1391 1659 1737 1845 2011\n",
      " 2253 2402 2465 2662 2777 3048 3168 3228 3510 3550 3729 3974 3993 4278\n",
      " 4433 4538 4602 4799]\n",
      "[  58  247  402  491  661  776  939 1106 1287 1506 1583 1785 1843 2106\n",
      " 2266 2411 2547 2727 2900 2956 3163 3235 3490 3578 3677 3893 4111 4235\n",
      " 4405 4534 4619 4809]\n",
      "[ 118  248  374  494  659  766 1004 1199 1342 1397 1615 1824 1846 2086\n",
      " 2185 2410 2556 2641 2797 2967 3073 3241 3399 3648 3823 3841 4076 4157\n",
      " 4358 4489 4647 4850]\n",
      "[ 146  161  415  582  759  768  970 1189 1349 1448 1571 1691 1969 2114\n",
      " 2225 2314 2511 2693 2765 3014 3095 3303 3463 3626 3744 3892 4094 4175\n",
      " 4361 4529 4624 4859]\n"
     ]
    }
   ],
   "source": [
    "# Uniform subsample\n",
    "# P61626: 1gft\n",
    "#4914.0/32 ≈ 503\n",
    "\n",
    "intervals = [[i*153-153,i*153] for i in range(1,33)]\n",
    "INDIR = '/Users/holger/Desktop/master_thesis/data/results_af2/P61626/P61626_default/P61626_1gft.result/P61626_1gft_b1c92.a3m'\n",
    "OUTDIR = '/Users/holger/Desktop/master_thesis/data/results_msa/P61626_1gft_MSA_32/'\n",
    "for i in range(1,11):\n",
    "    random.seed(i)\n",
    "    subsampled_sequences_u = subsample_sequences_uniform(INDIR, intervals)\n",
    "    subsampled_sequences_u = subsampled_sequences_u.tolist()\n",
    "    write_subsampled_alignment(subsampled_sequences_u, OUTDIR + 'P61626_1gft_MSA_32_{}.a3m'.format(i))\n",
    "    "
   ]
  },
  {
   "cell_type": "code",
   "execution_count": 49,
   "id": "876b6917-a7e4-4e12-ad47-c1c8cb9dac26",
   "metadata": {},
   "outputs": [
    {
     "data": {
      "text/plain": [
       "164"
      ]
     },
     "execution_count": 49,
     "metadata": {},
     "output_type": "execute_result"
    }
   ],
   "source": [
    "len('MNIFEMLRIDEGLRLKIYKDTEGYYTIGIGHLLTKSPSLNAAKSELDKAIGRNCNGVITKDEAEKLFNQDVDAAVRGILRNAKLKPVYDSLDAVRRCALINMVFQMGETGVAGFTNSLRMLQQKRWDEAAVNLAKSRWYNQTPNRAKRVITTFETGTWDAYKNL')"
   ]
  },
  {
   "cell_type": "code",
   "execution_count": null,
   "id": "7e635c65-fe67-4fbc-aecc-fbf8cefba6de",
   "metadata": {},
   "outputs": [],
   "source": []
  }
 ],
 "metadata": {
  "kernelspec": {
   "display_name": "Python 3 (ipykernel)",
   "language": "python",
   "name": "python3"
  },
  "language_info": {
   "codemirror_mode": {
    "name": "ipython",
    "version": 3
   },
   "file_extension": ".py",
   "mimetype": "text/x-python",
   "name": "python",
   "nbconvert_exporter": "python",
   "pygments_lexer": "ipython3",
   "version": "3.9.12"
  }
 },
 "nbformat": 4,
 "nbformat_minor": 5
}
